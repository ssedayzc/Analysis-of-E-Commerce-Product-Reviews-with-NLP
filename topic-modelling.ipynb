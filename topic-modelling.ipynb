{
 "cells": [
  {
   "cell_type": "markdown",
   "metadata": {},
   "source": [
    "LDA ile Konu modellemesi"
   ]
  },
  {
   "cell_type": "code",
   "execution_count": 10,
   "metadata": {},
   "outputs": [
    {
     "data": {
      "text/html": [
       "<div>\n",
       "<style scoped>\n",
       "    .dataframe tbody tr th:only-of-type {\n",
       "        vertical-align: middle;\n",
       "    }\n",
       "\n",
       "    .dataframe tbody tr th {\n",
       "        vertical-align: top;\n",
       "    }\n",
       "\n",
       "    .dataframe thead th {\n",
       "        text-align: right;\n",
       "    }\n",
       "</style>\n",
       "<table border=\"1\" class=\"dataframe\">\n",
       "  <thead>\n",
       "    <tr style=\"text-align: right;\">\n",
       "      <th></th>\n",
       "      <th>Metin</th>\n",
       "      <th>Durum</th>\n",
       "    </tr>\n",
       "  </thead>\n",
       "  <tbody>\n",
       "    <tr>\n",
       "      <th>0</th>\n",
       "      <td>evet anlatıldığı gibi</td>\n",
       "      <td>1</td>\n",
       "    </tr>\n",
       "    <tr>\n",
       "      <th>1</th>\n",
       "      <td>Daha öncede almıştım bu cihazdan ense ve sakal...</td>\n",
       "      <td>1</td>\n",
       "    </tr>\n",
       "    <tr>\n",
       "      <th>2</th>\n",
       "      <td>Ürün gayet başarılı sakal kesmede başlık sayıs...</td>\n",
       "      <td>1</td>\n",
       "    </tr>\n",
       "  </tbody>\n",
       "</table>\n",
       "</div>"
      ],
      "text/plain": [
       "                                               Metin  Durum\n",
       "0                              evet anlatıldığı gibi      1\n",
       "1  Daha öncede almıştım bu cihazdan ense ve sakal...      1\n",
       "2  Ürün gayet başarılı sakal kesmede başlık sayıs...      1"
      ]
     },
     "execution_count": 10,
     "metadata": {},
     "output_type": "execute_result"
    }
   ],
   "source": [
    "import numpy as np\n",
    "import pandas as pd\n",
    "\n",
    "df = pd.read_csv(\"e-ticaret_urun_yorumlari.csv\", delimiter=';')\n",
    "df.head(3)"
   ]
  },
  {
   "cell_type": "code",
   "execution_count": 11,
   "metadata": {},
   "outputs": [
    {
     "data": {
      "text/html": [
       "<div>\n",
       "<style scoped>\n",
       "    .dataframe tbody tr th:only-of-type {\n",
       "        vertical-align: middle;\n",
       "    }\n",
       "\n",
       "    .dataframe tbody tr th {\n",
       "        vertical-align: top;\n",
       "    }\n",
       "\n",
       "    .dataframe thead th {\n",
       "        text-align: right;\n",
       "    }\n",
       "</style>\n",
       "<table border=\"1\" class=\"dataframe\">\n",
       "  <thead>\n",
       "    <tr style=\"text-align: right;\">\n",
       "      <th></th>\n",
       "      <th>Metin</th>\n",
       "    </tr>\n",
       "  </thead>\n",
       "  <tbody>\n",
       "    <tr>\n",
       "      <th>0</th>\n",
       "      <td>evet anlatıldığı gibi</td>\n",
       "    </tr>\n",
       "    <tr>\n",
       "      <th>1</th>\n",
       "      <td>Daha öncede almıştım bu cihazdan ense ve sakal...</td>\n",
       "    </tr>\n",
       "    <tr>\n",
       "      <th>2</th>\n",
       "      <td>Ürün gayet başarılı sakal kesmede başlık sayıs...</td>\n",
       "    </tr>\n",
       "  </tbody>\n",
       "</table>\n",
       "</div>"
      ],
      "text/plain": [
       "                                               Metin\n",
       "0                              evet anlatıldığı gibi\n",
       "1  Daha öncede almıştım bu cihazdan ense ve sakal...\n",
       "2  Ürün gayet başarılı sakal kesmede başlık sayıs..."
      ]
     },
     "execution_count": 11,
     "metadata": {},
     "output_type": "execute_result"
    }
   ],
   "source": [
    "#Sadece metin sütunun kullanılması, konu modelleme için yeterli olacaktır.\n",
    "yorum_veriseti=df[[\"Metin\"]]\n",
    "yorum_veriseti.head(3)"
   ]
  },
  {
   "cell_type": "code",
   "execution_count": 12,
   "metadata": {},
   "outputs": [
    {
     "name": "stderr",
     "output_type": "stream",
     "text": [
      "[nltk_data] Downloading package stopwords to\n",
      "[nltk_data]     C:\\Users\\Gülseren\\AppData\\Roaming\\nltk_data...\n",
      "[nltk_data]   Package stopwords is already up-to-date!\n"
     ]
    }
   ],
   "source": [
    "#veri temizleme işlemi için bir fonksiyon hazırlanması\n",
    "import re \n",
    "import string\n",
    "import nltk\n",
    "from nltk.corpus import stopwords\n",
    "nltk.download('stopwords')\n",
    "\n",
    "nok_isaretleri= string.punctuation\n",
    "etkisiz_kelimeler= stopwords.words('turkish')\n",
    "etkisiz_kelimeler.extend ([\"bir\", \"kadar\", \"sonra\"])\n",
    "\n",
    "def veriTemizleme(metin):\n",
    "    metin=metin.lower()\n",
    "    metin=metin.replace(\"\\\\n\",\" \")\n",
    "    #kesme işareti ve sonrasındaki karakterlerin aldırılması\n",
    "    metin=re.sub(\"'(\\w+)\", \"\", metin)\n",
    "    metin=re.sub(\"’(\\w+)\", \"\", metin)\n",
    "    #sayıların kaldırılması\n",
    "    metin=re.sub(\"[0-9]+\", \"\", metin)\n",
    "    #noktalama işaretlerinin kaldırılması\n",
    "    metin=\"\".join(list(map(lambda x:x if x not in nok_isaretleri else \" \" , metin)))\n",
    "    #etkisiz kelimelerin bazılarının kaldırılması\n",
    "    metin=\" \".join([i for i in metin.split() if i not in etkisiz_kelimeler])\n",
    "    #metinde tek kalan harflerin çıkarılması\n",
    "    metin=\" \".join([i for i in metin.split() if len(i) > 1])\n",
    "\n",
    "    return metin\n",
    "    \n",
    "\n"
   ]
  },
  {
   "cell_type": "code",
   "execution_count": 13,
   "metadata": {},
   "outputs": [
    {
     "name": "stdout",
     "output_type": "stream",
     "text": [
      "Temizlenmemiş Veri Seti:\n",
      "0                                evet anlatıldığı gibi\n",
      "1    Daha öncede almıştım bu cihazdan ense ve sakal...\n",
      "2    Ürün gayet başarılı sakal kesmede başlık sayıs...\n",
      "3    Daha öncede aynısını almıştım çok güzel ve kal...\n",
      "4    Erkek kuaförüyüm ense ve sıfır sakal traşı içi...\n",
      "5                             ürün gerçekten çok güzel\n",
      "6    Ürün beklediğimden güzel çıktı gayet kullanışl...\n",
      "7                          güzel makina tavsiye ederim\n",
      "8            tavsiye edebileceğim çok güzel bir makina\n",
      "9    ürün geldiğinde şarjı vardı. ilk lullanım önce...\n",
      "Name: Metin, dtype: object\n",
      "\n",
      "Temizlenmiş Veri Seti:\n"
     ]
    },
    {
     "name": "stdout",
     "output_type": "stream",
     "text": [
      "0                                     evet anlatıldığı\n",
      "1    öncede almıştım cihazdan ense sakal tüketmek o...\n",
      "2    ürün gayet başarılı sakal kesmede başlık sayıs...\n",
      "3         öncede aynısını almıştım güzel kaliteli ürün\n",
      "4    erkek kuaförüyüm ense sıfır sakal traşı uygun ...\n",
      "5                                 ürün gerçekten güzel\n",
      "6    ürün beklediğimden güzel çıktı gayet kullanışl...\n",
      "7                          güzel makina tavsiye ederim\n",
      "8                    tavsiye edebileceğim güzel makina\n",
      "9    ürün geldiğinde şarjı vardı ilk lullanım önces...\n",
      "Name: Metin, dtype: object\n"
     ]
    }
   ],
   "source": [
    "# Temizlenmemiş veri seti\n",
    "print(\"Temizlenmemiş Veri Seti:\")\n",
    "print(df[\"Metin\"].head(10))\n",
    "\n",
    "# Temizlenmiş veri seti\n",
    "print(\"\\nTemizlenmiş Veri Seti:\")\n",
    "temizlenen_metin = yorum_veriseti[\"Metin\"].apply(veriTemizleme)\n",
    "print(temizlenen_metin.head(10))\n"
   ]
  },
  {
   "cell_type": "code",
   "execution_count": 14,
   "metadata": {},
   "outputs": [
    {
     "data": {
      "text/html": [
       "<div>\n",
       "<style scoped>\n",
       "    .dataframe tbody tr th:only-of-type {\n",
       "        vertical-align: middle;\n",
       "    }\n",
       "\n",
       "    .dataframe tbody tr th {\n",
       "        vertical-align: top;\n",
       "    }\n",
       "\n",
       "    .dataframe thead th {\n",
       "        text-align: right;\n",
       "    }\n",
       "</style>\n",
       "<table border=\"1\" class=\"dataframe\">\n",
       "  <thead>\n",
       "    <tr style=\"text-align: right;\">\n",
       "      <th></th>\n",
       "      <th>Metin</th>\n",
       "      <th>temizlenen_metin_token</th>\n",
       "    </tr>\n",
       "  </thead>\n",
       "  <tbody>\n",
       "    <tr>\n",
       "      <th>0</th>\n",
       "      <td>evet anlatıldığı gibi</td>\n",
       "      <td>[evet, anlatıldığı]</td>\n",
       "    </tr>\n",
       "    <tr>\n",
       "      <th>1</th>\n",
       "      <td>Daha öncede almıştım bu cihazdan ense ve sakal...</td>\n",
       "      <td>[öncede, almıştım, cihazdan, ense, sakal, tüke...</td>\n",
       "    </tr>\n",
       "    <tr>\n",
       "      <th>2</th>\n",
       "      <td>Ürün gayet başarılı sakal kesmede başlık sayıs...</td>\n",
       "      <td>[ürün, gayet, başarılı, sakal, kesmede, başlık...</td>\n",
       "    </tr>\n",
       "    <tr>\n",
       "      <th>3</th>\n",
       "      <td>Daha öncede aynısını almıştım çok güzel ve kal...</td>\n",
       "      <td>[öncede, aynısını, almıştım, güzel, kaliteli, ...</td>\n",
       "    </tr>\n",
       "    <tr>\n",
       "      <th>4</th>\n",
       "      <td>Erkek kuaförüyüm ense ve sıfır sakal traşı içi...</td>\n",
       "      <td>[erkek, kuaförüyüm, ense, sıfır, sakal, traşı,...</td>\n",
       "    </tr>\n",
       "    <tr>\n",
       "      <th>5</th>\n",
       "      <td>ürün gerçekten çok güzel</td>\n",
       "      <td>[ürün, gerçekten, güzel]</td>\n",
       "    </tr>\n",
       "    <tr>\n",
       "      <th>6</th>\n",
       "      <td>Ürün beklediğimden güzel çıktı gayet kullanışl...</td>\n",
       "      <td>[ürün, beklediğimden, güzel, çıktı, gayet, kul...</td>\n",
       "    </tr>\n",
       "    <tr>\n",
       "      <th>7</th>\n",
       "      <td>güzel makina tavsiye ederim</td>\n",
       "      <td>[güzel, makina, tavsiye, ederim]</td>\n",
       "    </tr>\n",
       "    <tr>\n",
       "      <th>8</th>\n",
       "      <td>tavsiye edebileceğim çok güzel bir makina</td>\n",
       "      <td>[tavsiye, edebileceğim, güzel, makina]</td>\n",
       "    </tr>\n",
       "    <tr>\n",
       "      <th>9</th>\n",
       "      <td>ürün geldiğinde şarjı vardı. ilk lullanım önce...</td>\n",
       "      <td>[ürün, geldiğinde, şarjı, vardı, ilk, lullanım...</td>\n",
       "    </tr>\n",
       "  </tbody>\n",
       "</table>\n",
       "</div>"
      ],
      "text/plain": [
       "                                               Metin  \\\n",
       "0                              evet anlatıldığı gibi   \n",
       "1  Daha öncede almıştım bu cihazdan ense ve sakal...   \n",
       "2  Ürün gayet başarılı sakal kesmede başlık sayıs...   \n",
       "3  Daha öncede aynısını almıştım çok güzel ve kal...   \n",
       "4  Erkek kuaförüyüm ense ve sıfır sakal traşı içi...   \n",
       "5                           ürün gerçekten çok güzel   \n",
       "6  Ürün beklediğimden güzel çıktı gayet kullanışl...   \n",
       "7                        güzel makina tavsiye ederim   \n",
       "8          tavsiye edebileceğim çok güzel bir makina   \n",
       "9  ürün geldiğinde şarjı vardı. ilk lullanım önce...   \n",
       "\n",
       "                              temizlenen_metin_token  \n",
       "0                                [evet, anlatıldığı]  \n",
       "1  [öncede, almıştım, cihazdan, ense, sakal, tüke...  \n",
       "2  [ürün, gayet, başarılı, sakal, kesmede, başlık...  \n",
       "3  [öncede, aynısını, almıştım, güzel, kaliteli, ...  \n",
       "4  [erkek, kuaförüyüm, ense, sıfır, sakal, traşı,...  \n",
       "5                           [ürün, gerçekten, güzel]  \n",
       "6  [ürün, beklediğimden, güzel, çıktı, gayet, kul...  \n",
       "7                   [güzel, makina, tavsiye, ederim]  \n",
       "8             [tavsiye, edebileceğim, güzel, makina]  \n",
       "9  [ürün, geldiğinde, şarjı, vardı, ilk, lullanım...  "
      ]
     },
     "execution_count": 14,
     "metadata": {},
     "output_type": "execute_result"
    }
   ],
   "source": [
    "# Tokenize etme\n",
    "yorum_veriseti[\"temizlenen_metin_token\"] = temizlenen_metin.apply(lambda x: x.split())\n",
    "yorum_veriseti.head(10)\n",
    "\n"
   ]
  },
  {
   "cell_type": "code",
   "execution_count": 17,
   "metadata": {},
   "outputs": [],
   "source": [
    "#LDA Model Eğitimi\n",
    "import gensim\n",
    "import pyLDAvis.gensim \n",
    "\n",
    "# Kelime listesi - Dict oluşturulması\n",
    "tokenlasmis_metinler = yorum_veriseti[\"temizlenen_metin_token\"]\n",
    "\n",
    "# Kelime listesi Filtreleme\n",
    "kelime_listesi = gensim.corpora.Dictionary(tokenlasmis_metinler)\n",
    "\n",
    "# Terimlerin Vektörletirilmesi (Doküman-Terim matrisinin oluşturulması)\n",
    "dokuman_terim_matrisi = [kelime_listesi.doc2bow(terim) for terim in tokenlasmis_metinler]\n"
   ]
  },
  {
   "cell_type": "code",
   "execution_count": 22,
   "metadata": {},
   "outputs": [
    {
     "ename": "KeyboardInterrupt",
     "evalue": "",
     "output_type": "error",
     "traceback": [
      "\u001b[1;31m---------------------------------------------------------------------------\u001b[0m",
      "\u001b[1;31mKeyboardInterrupt\u001b[0m                         Traceback (most recent call last)",
      "Cell \u001b[1;32mIn[22], line 2\u001b[0m\n\u001b[0;32m      1\u001b[0m \u001b[38;5;66;03m# LDA Model Eğitimi\u001b[39;00m\n\u001b[1;32m----> 2\u001b[0m lda_model_genis \u001b[38;5;241m=\u001b[39m \u001b[43mgensim\u001b[49m\u001b[38;5;241;43m.\u001b[39;49m\u001b[43mmodels\u001b[49m\u001b[38;5;241;43m.\u001b[39;49m\u001b[43mldamodel\u001b[49m\u001b[38;5;241;43m.\u001b[39;49m\u001b[43mLdaModel\u001b[49m\u001b[43m(\u001b[49m\u001b[43mcorpus\u001b[49m\u001b[38;5;241;43m=\u001b[39;49m\u001b[43mdokuman_terim_matrisi\u001b[49m\u001b[43m,\u001b[49m\n\u001b[0;32m      3\u001b[0m \u001b[43m                                                  \u001b[49m\u001b[43mid2word\u001b[49m\u001b[38;5;241;43m=\u001b[39;49m\u001b[43mkelime_listesi\u001b[49m\u001b[43m,\u001b[49m\n\u001b[0;32m      4\u001b[0m \u001b[43m                                                  \u001b[49m\u001b[43mnum_topics\u001b[49m\u001b[38;5;241;43m=\u001b[39;49m\u001b[38;5;241;43m30\u001b[39;49m\u001b[43m,\u001b[49m\u001b[43m  \u001b[49m\u001b[38;5;66;43;03m# Daha geniş bir konu sayısı\u001b[39;49;00m\n\u001b[0;32m      5\u001b[0m \u001b[43m                                                  \u001b[49m\u001b[43mpasses\u001b[49m\u001b[38;5;241;43m=\u001b[39;49m\u001b[38;5;241;43m10\u001b[39;49m\u001b[43m)\u001b[49m\n\u001b[0;32m      7\u001b[0m \u001b[38;5;66;03m# Oluşturulan soyut konular içinde en fazla bulunan terimler\u001b[39;00m\n\u001b[0;32m      8\u001b[0m konular_genis \u001b[38;5;241m=\u001b[39m lda_model_genis\u001b[38;5;241m.\u001b[39mprint_topics(num_words\u001b[38;5;241m=\u001b[39m\u001b[38;5;241m7\u001b[39m)\n",
      "File \u001b[1;32mc:\\Users\\Gülseren\\AppData\\Local\\Programs\\Python\\Python311\\Lib\\site-packages\\gensim\\models\\ldamodel.py:521\u001b[0m, in \u001b[0;36mLdaModel.__init__\u001b[1;34m(self, corpus, num_topics, id2word, distributed, chunksize, passes, update_every, alpha, eta, decay, offset, eval_every, iterations, gamma_threshold, minimum_probability, random_state, ns_conf, minimum_phi_value, per_word_topics, callbacks, dtype)\u001b[0m\n\u001b[0;32m    519\u001b[0m use_numpy \u001b[38;5;241m=\u001b[39m \u001b[38;5;28mself\u001b[39m\u001b[38;5;241m.\u001b[39mdispatcher \u001b[38;5;129;01mis\u001b[39;00m \u001b[38;5;129;01mnot\u001b[39;00m \u001b[38;5;28;01mNone\u001b[39;00m\n\u001b[0;32m    520\u001b[0m start \u001b[38;5;241m=\u001b[39m time\u001b[38;5;241m.\u001b[39mtime()\n\u001b[1;32m--> 521\u001b[0m \u001b[38;5;28;43mself\u001b[39;49m\u001b[38;5;241;43m.\u001b[39;49m\u001b[43mupdate\u001b[49m\u001b[43m(\u001b[49m\u001b[43mcorpus\u001b[49m\u001b[43m,\u001b[49m\u001b[43m \u001b[49m\u001b[43mchunks_as_numpy\u001b[49m\u001b[38;5;241;43m=\u001b[39;49m\u001b[43muse_numpy\u001b[49m\u001b[43m)\u001b[49m\n\u001b[0;32m    522\u001b[0m \u001b[38;5;28mself\u001b[39m\u001b[38;5;241m.\u001b[39madd_lifecycle_event(\n\u001b[0;32m    523\u001b[0m     \u001b[38;5;124m\"\u001b[39m\u001b[38;5;124mcreated\u001b[39m\u001b[38;5;124m\"\u001b[39m,\n\u001b[0;32m    524\u001b[0m     msg\u001b[38;5;241m=\u001b[39m\u001b[38;5;124mf\u001b[39m\u001b[38;5;124m\"\u001b[39m\u001b[38;5;124mtrained \u001b[39m\u001b[38;5;132;01m{\u001b[39;00m\u001b[38;5;28mself\u001b[39m\u001b[38;5;132;01m}\u001b[39;00m\u001b[38;5;124m in \u001b[39m\u001b[38;5;132;01m{\u001b[39;00mtime\u001b[38;5;241m.\u001b[39mtime()\u001b[38;5;250m \u001b[39m\u001b[38;5;241m-\u001b[39m\u001b[38;5;250m \u001b[39mstart\u001b[38;5;132;01m:\u001b[39;00m\u001b[38;5;124m.2f\u001b[39m\u001b[38;5;132;01m}\u001b[39;00m\u001b[38;5;124ms\u001b[39m\u001b[38;5;124m\"\u001b[39m,\n\u001b[0;32m    525\u001b[0m )\n",
      "File \u001b[1;32mc:\\Users\\Gülseren\\AppData\\Local\\Programs\\Python\\Python311\\Lib\\site-packages\\gensim\\models\\ldamodel.py:991\u001b[0m, in \u001b[0;36mLdaModel.update\u001b[1;34m(self, corpus, chunksize, decay, offset, passes, update_every, eval_every, iterations, gamma_threshold, chunks_as_numpy)\u001b[0m\n\u001b[0;32m    988\u001b[0m reallen \u001b[38;5;241m+\u001b[39m\u001b[38;5;241m=\u001b[39m \u001b[38;5;28mlen\u001b[39m(chunk)  \u001b[38;5;66;03m# keep track of how many documents we've processed so far\u001b[39;00m\n\u001b[0;32m    990\u001b[0m \u001b[38;5;28;01mif\u001b[39;00m eval_every \u001b[38;5;129;01mand\u001b[39;00m ((reallen \u001b[38;5;241m==\u001b[39m lencorpus) \u001b[38;5;129;01mor\u001b[39;00m ((chunk_no \u001b[38;5;241m+\u001b[39m \u001b[38;5;241m1\u001b[39m) \u001b[38;5;241m%\u001b[39m (eval_every \u001b[38;5;241m*\u001b[39m \u001b[38;5;28mself\u001b[39m\u001b[38;5;241m.\u001b[39mnumworkers) \u001b[38;5;241m==\u001b[39m \u001b[38;5;241m0\u001b[39m)):\n\u001b[1;32m--> 991\u001b[0m     \u001b[38;5;28;43mself\u001b[39;49m\u001b[38;5;241;43m.\u001b[39;49m\u001b[43mlog_perplexity\u001b[49m\u001b[43m(\u001b[49m\u001b[43mchunk\u001b[49m\u001b[43m,\u001b[49m\u001b[43m \u001b[49m\u001b[43mtotal_docs\u001b[49m\u001b[38;5;241;43m=\u001b[39;49m\u001b[43mlencorpus\u001b[49m\u001b[43m)\u001b[49m\n\u001b[0;32m    993\u001b[0m \u001b[38;5;28;01mif\u001b[39;00m \u001b[38;5;28mself\u001b[39m\u001b[38;5;241m.\u001b[39mdispatcher:\n\u001b[0;32m    994\u001b[0m     \u001b[38;5;66;03m# add the chunk to dispatcher's job queue, so workers can munch on it\u001b[39;00m\n\u001b[0;32m    995\u001b[0m     logger\u001b[38;5;241m.\u001b[39minfo(\n\u001b[0;32m    996\u001b[0m         \u001b[38;5;124m\"\u001b[39m\u001b[38;5;124mPROGRESS: pass \u001b[39m\u001b[38;5;132;01m%i\u001b[39;00m\u001b[38;5;124m, dispatching documents up to #\u001b[39m\u001b[38;5;132;01m%i\u001b[39;00m\u001b[38;5;124m/\u001b[39m\u001b[38;5;132;01m%i\u001b[39;00m\u001b[38;5;124m\"\u001b[39m,\n\u001b[0;32m    997\u001b[0m         pass_, chunk_no \u001b[38;5;241m*\u001b[39m chunksize \u001b[38;5;241m+\u001b[39m \u001b[38;5;28mlen\u001b[39m(chunk), lencorpus\n\u001b[0;32m    998\u001b[0m     )\n",
      "File \u001b[1;32mc:\\Users\\Gülseren\\AppData\\Local\\Programs\\Python\\Python311\\Lib\\site-packages\\gensim\\models\\ldamodel.py:847\u001b[0m, in \u001b[0;36mLdaModel.log_perplexity\u001b[1;34m(self, chunk, total_docs)\u001b[0m\n\u001b[0;32m    845\u001b[0m corpus_words \u001b[38;5;241m=\u001b[39m \u001b[38;5;28msum\u001b[39m(cnt \u001b[38;5;28;01mfor\u001b[39;00m document \u001b[38;5;129;01min\u001b[39;00m chunk \u001b[38;5;28;01mfor\u001b[39;00m _, cnt \u001b[38;5;129;01min\u001b[39;00m document)\n\u001b[0;32m    846\u001b[0m subsample_ratio \u001b[38;5;241m=\u001b[39m \u001b[38;5;241m1.0\u001b[39m \u001b[38;5;241m*\u001b[39m total_docs \u001b[38;5;241m/\u001b[39m \u001b[38;5;28mlen\u001b[39m(chunk)\n\u001b[1;32m--> 847\u001b[0m perwordbound \u001b[38;5;241m=\u001b[39m \u001b[38;5;28;43mself\u001b[39;49m\u001b[38;5;241;43m.\u001b[39;49m\u001b[43mbound\u001b[49m\u001b[43m(\u001b[49m\u001b[43mchunk\u001b[49m\u001b[43m,\u001b[49m\u001b[43m \u001b[49m\u001b[43msubsample_ratio\u001b[49m\u001b[38;5;241;43m=\u001b[39;49m\u001b[43msubsample_ratio\u001b[49m\u001b[43m)\u001b[49m \u001b[38;5;241m/\u001b[39m (subsample_ratio \u001b[38;5;241m*\u001b[39m corpus_words)\n\u001b[0;32m    848\u001b[0m logger\u001b[38;5;241m.\u001b[39minfo(\n\u001b[0;32m    849\u001b[0m     \u001b[38;5;124m\"\u001b[39m\u001b[38;5;132;01m%.3f\u001b[39;00m\u001b[38;5;124m per-word bound, \u001b[39m\u001b[38;5;132;01m%.1f\u001b[39;00m\u001b[38;5;124m perplexity estimate based on a held-out corpus of \u001b[39m\u001b[38;5;132;01m%i\u001b[39;00m\u001b[38;5;124m documents with \u001b[39m\u001b[38;5;132;01m%i\u001b[39;00m\u001b[38;5;124m words\u001b[39m\u001b[38;5;124m\"\u001b[39m,\n\u001b[0;32m    850\u001b[0m     perwordbound, np\u001b[38;5;241m.\u001b[39mexp2(\u001b[38;5;241m-\u001b[39mperwordbound), \u001b[38;5;28mlen\u001b[39m(chunk), corpus_words\n\u001b[0;32m    851\u001b[0m )\n\u001b[0;32m    852\u001b[0m \u001b[38;5;28;01mreturn\u001b[39;00m perwordbound\n",
      "File \u001b[1;32mc:\\Users\\Gülseren\\AppData\\Local\\Programs\\Python\\Python311\\Lib\\site-packages\\gensim\\models\\ldamodel.py:1113\u001b[0m, in \u001b[0;36mLdaModel.bound\u001b[1;34m(self, corpus, gamma, subsample_ratio)\u001b[0m\n\u001b[0;32m   1111\u001b[0m     logger\u001b[38;5;241m.\u001b[39mdebug(\u001b[38;5;124m\"\u001b[39m\u001b[38;5;124mbound: at document #\u001b[39m\u001b[38;5;132;01m%i\u001b[39;00m\u001b[38;5;124m\"\u001b[39m, d)\n\u001b[0;32m   1112\u001b[0m \u001b[38;5;28;01mif\u001b[39;00m gamma \u001b[38;5;129;01mis\u001b[39;00m \u001b[38;5;28;01mNone\u001b[39;00m:\n\u001b[1;32m-> 1113\u001b[0m     gammad, _ \u001b[38;5;241m=\u001b[39m \u001b[38;5;28;43mself\u001b[39;49m\u001b[38;5;241;43m.\u001b[39;49m\u001b[43minference\u001b[49m\u001b[43m(\u001b[49m\u001b[43m[\u001b[49m\u001b[43mdoc\u001b[49m\u001b[43m]\u001b[49m\u001b[43m)\u001b[49m\n\u001b[0;32m   1114\u001b[0m \u001b[38;5;28;01melse\u001b[39;00m:\n\u001b[0;32m   1115\u001b[0m     gammad \u001b[38;5;241m=\u001b[39m gamma[d]\n",
      "File \u001b[1;32mc:\\Users\\Gülseren\\AppData\\Local\\Programs\\Python\\Python311\\Lib\\site-packages\\gensim\\models\\ldamodel.py:719\u001b[0m, in \u001b[0;36mLdaModel.inference\u001b[1;34m(self, chunk, collect_sstats)\u001b[0m\n\u001b[0;32m    715\u001b[0m lastgamma \u001b[38;5;241m=\u001b[39m gammad\n\u001b[0;32m    716\u001b[0m \u001b[38;5;66;03m# We represent phi implicitly to save memory and time.\u001b[39;00m\n\u001b[0;32m    717\u001b[0m \u001b[38;5;66;03m# Substituting the value of the optimal phi back into\u001b[39;00m\n\u001b[0;32m    718\u001b[0m \u001b[38;5;66;03m# the update for gamma gives this update. Cf. Lee&Seung 2001.\u001b[39;00m\n\u001b[1;32m--> 719\u001b[0m gammad \u001b[38;5;241m=\u001b[39m \u001b[38;5;28mself\u001b[39m\u001b[38;5;241m.\u001b[39malpha \u001b[38;5;241m+\u001b[39m expElogthetad \u001b[38;5;241m*\u001b[39m \u001b[43mnp\u001b[49m\u001b[38;5;241;43m.\u001b[39;49m\u001b[43mdot\u001b[49m\u001b[43m(\u001b[49m\u001b[43mcts\u001b[49m\u001b[43m \u001b[49m\u001b[38;5;241;43m/\u001b[39;49m\u001b[43m \u001b[49m\u001b[43mphinorm\u001b[49m\u001b[43m,\u001b[49m\u001b[43m \u001b[49m\u001b[43mexpElogbetad\u001b[49m\u001b[38;5;241;43m.\u001b[39;49m\u001b[43mT\u001b[49m\u001b[43m)\u001b[49m\n\u001b[0;32m    720\u001b[0m Elogthetad \u001b[38;5;241m=\u001b[39m dirichlet_expectation(gammad)\n\u001b[0;32m    721\u001b[0m expElogthetad \u001b[38;5;241m=\u001b[39m np\u001b[38;5;241m.\u001b[39mexp(Elogthetad)\n",
      "\u001b[1;31mKeyboardInterrupt\u001b[0m: "
     ]
    }
   ],
   "source": [
    "# LDA Model Eğitimi\n",
    "lda_model_genis = gensim.models.ldamodel.LdaModel(corpus=dokuman_terim_matrisi,\n",
    "                                                  id2word=kelime_listesi,\n",
    "                                                  num_topics=30,  # Daha geniş bir konu sayısı\n",
    "                                                  passes=10)\n",
    "\n",
    "# Oluşturulan soyut konular içinde en fazla bulunan terimler\n",
    "konular_genis = lda_model_genis.print_topics(num_words=7)\n",
    "for konu in konular_genis:\n",
    "    print(konu)\n",
    "def konu_etiketle(yorum_metni):\n",
    "    temizlenmis_metin = veriTemizleme(yorum_metni)\n",
    "    tokenlasmis_metin = temizlenmis_metin.split()\n",
    "    dokuman_terim = kelime_listesi.doc2bow(tokenlasmis_metin)\n",
    "    konu_prob = lda_model_genis[dokuman_terim]\n",
    "    en_uygun_konu = max(konu_prob, key=lambda item: item[1])[0]\n",
    "    return en_uygun_konu\n",
    "\n",
    "# Her yorumun konusunu etiketleme\n",
    "yorum_veriseti[\"Yorum_Konu\"] = yorum_veriseti[\"Metin\"].apply(konu_etiketle)\n",
    "print(yorum_veriseti[[\"Metin\", \"Yorum_Konu\"]])\n"
   ]
  },
  {
   "cell_type": "code",
   "execution_count": 20,
   "metadata": {},
   "outputs": [
    {
     "ename": "KeyboardInterrupt",
     "evalue": "",
     "output_type": "error",
     "traceback": [
      "\u001b[1;31m---------------------------------------------------------------------------\u001b[0m",
      "\u001b[1;31mKeyboardInterrupt\u001b[0m                         Traceback (most recent call last)",
      "Cell \u001b[1;32mIn[20], line 2\u001b[0m\n\u001b[0;32m      1\u001b[0m \u001b[38;5;66;03m#LDA MODEL\u001b[39;00m\n\u001b[1;32m----> 2\u001b[0m lda_model \u001b[38;5;241m=\u001b[39m \u001b[43mgensim\u001b[49m\u001b[38;5;241;43m.\u001b[39;49m\u001b[43mmodels\u001b[49m\u001b[38;5;241;43m.\u001b[39;49m\u001b[43mldamodel\u001b[49m\u001b[38;5;241;43m.\u001b[39;49m\u001b[43mLdaModel\u001b[49m\u001b[43m(\u001b[49m\u001b[43mcorpus\u001b[49m\u001b[43m \u001b[49m\u001b[38;5;241;43m=\u001b[39;49m\u001b[43m \u001b[49m\u001b[43mdokuman_terim_matrisi\u001b[49m\u001b[43m,\u001b[49m\n\u001b[0;32m      3\u001b[0m \u001b[43m                                            \u001b[49m\u001b[43mid2word\u001b[49m\u001b[43m \u001b[49m\u001b[38;5;241;43m=\u001b[39;49m\u001b[43m \u001b[49m\u001b[43mkelime_listesi\u001b[49m\u001b[43m,\u001b[49m\n\u001b[0;32m      4\u001b[0m \u001b[43m                                            \u001b[49m\u001b[43mnum_topics\u001b[49m\u001b[43m \u001b[49m\u001b[38;5;241;43m=\u001b[39;49m\u001b[43m \u001b[49m\u001b[38;5;241;43m30\u001b[39;49m\u001b[43m,\u001b[49m\n\u001b[0;32m      5\u001b[0m \u001b[43m                                            \u001b[49m\u001b[43mpasses\u001b[49m\u001b[43m \u001b[49m\u001b[38;5;241;43m=\u001b[39;49m\u001b[43m \u001b[49m\u001b[38;5;241;43m10\u001b[39;49m\u001b[43m)\u001b[49m\n",
      "File \u001b[1;32mc:\\Users\\Gülseren\\AppData\\Local\\Programs\\Python\\Python311\\Lib\\site-packages\\gensim\\models\\ldamodel.py:521\u001b[0m, in \u001b[0;36mLdaModel.__init__\u001b[1;34m(self, corpus, num_topics, id2word, distributed, chunksize, passes, update_every, alpha, eta, decay, offset, eval_every, iterations, gamma_threshold, minimum_probability, random_state, ns_conf, minimum_phi_value, per_word_topics, callbacks, dtype)\u001b[0m\n\u001b[0;32m    519\u001b[0m use_numpy \u001b[38;5;241m=\u001b[39m \u001b[38;5;28mself\u001b[39m\u001b[38;5;241m.\u001b[39mdispatcher \u001b[38;5;129;01mis\u001b[39;00m \u001b[38;5;129;01mnot\u001b[39;00m \u001b[38;5;28;01mNone\u001b[39;00m\n\u001b[0;32m    520\u001b[0m start \u001b[38;5;241m=\u001b[39m time\u001b[38;5;241m.\u001b[39mtime()\n\u001b[1;32m--> 521\u001b[0m \u001b[38;5;28;43mself\u001b[39;49m\u001b[38;5;241;43m.\u001b[39;49m\u001b[43mupdate\u001b[49m\u001b[43m(\u001b[49m\u001b[43mcorpus\u001b[49m\u001b[43m,\u001b[49m\u001b[43m \u001b[49m\u001b[43mchunks_as_numpy\u001b[49m\u001b[38;5;241;43m=\u001b[39;49m\u001b[43muse_numpy\u001b[49m\u001b[43m)\u001b[49m\n\u001b[0;32m    522\u001b[0m \u001b[38;5;28mself\u001b[39m\u001b[38;5;241m.\u001b[39madd_lifecycle_event(\n\u001b[0;32m    523\u001b[0m     \u001b[38;5;124m\"\u001b[39m\u001b[38;5;124mcreated\u001b[39m\u001b[38;5;124m\"\u001b[39m,\n\u001b[0;32m    524\u001b[0m     msg\u001b[38;5;241m=\u001b[39m\u001b[38;5;124mf\u001b[39m\u001b[38;5;124m\"\u001b[39m\u001b[38;5;124mtrained \u001b[39m\u001b[38;5;132;01m{\u001b[39;00m\u001b[38;5;28mself\u001b[39m\u001b[38;5;132;01m}\u001b[39;00m\u001b[38;5;124m in \u001b[39m\u001b[38;5;132;01m{\u001b[39;00mtime\u001b[38;5;241m.\u001b[39mtime()\u001b[38;5;250m \u001b[39m\u001b[38;5;241m-\u001b[39m\u001b[38;5;250m \u001b[39mstart\u001b[38;5;132;01m:\u001b[39;00m\u001b[38;5;124m.2f\u001b[39m\u001b[38;5;132;01m}\u001b[39;00m\u001b[38;5;124ms\u001b[39m\u001b[38;5;124m\"\u001b[39m,\n\u001b[0;32m    525\u001b[0m )\n",
      "File \u001b[1;32mc:\\Users\\Gülseren\\AppData\\Local\\Programs\\Python\\Python311\\Lib\\site-packages\\gensim\\models\\ldamodel.py:1006\u001b[0m, in \u001b[0;36mLdaModel.update\u001b[1;34m(self, corpus, chunksize, decay, offset, passes, update_every, eval_every, iterations, gamma_threshold, chunks_as_numpy)\u001b[0m\n\u001b[0;32m   1001\u001b[0m \u001b[38;5;28;01melse\u001b[39;00m:\n\u001b[0;32m   1002\u001b[0m     logger\u001b[38;5;241m.\u001b[39minfo(\n\u001b[0;32m   1003\u001b[0m         \u001b[38;5;124m\"\u001b[39m\u001b[38;5;124mPROGRESS: pass \u001b[39m\u001b[38;5;132;01m%i\u001b[39;00m\u001b[38;5;124m, at document #\u001b[39m\u001b[38;5;132;01m%i\u001b[39;00m\u001b[38;5;124m/\u001b[39m\u001b[38;5;132;01m%i\u001b[39;00m\u001b[38;5;124m\"\u001b[39m,\n\u001b[0;32m   1004\u001b[0m         pass_, chunk_no \u001b[38;5;241m*\u001b[39m chunksize \u001b[38;5;241m+\u001b[39m \u001b[38;5;28mlen\u001b[39m(chunk), lencorpus\n\u001b[0;32m   1005\u001b[0m     )\n\u001b[1;32m-> 1006\u001b[0m     gammat \u001b[38;5;241m=\u001b[39m \u001b[38;5;28;43mself\u001b[39;49m\u001b[38;5;241;43m.\u001b[39;49m\u001b[43mdo_estep\u001b[49m\u001b[43m(\u001b[49m\u001b[43mchunk\u001b[49m\u001b[43m,\u001b[49m\u001b[43m \u001b[49m\u001b[43mother\u001b[49m\u001b[43m)\u001b[49m\n\u001b[0;32m   1008\u001b[0m     \u001b[38;5;28;01mif\u001b[39;00m \u001b[38;5;28mself\u001b[39m\u001b[38;5;241m.\u001b[39moptimize_alpha:\n\u001b[0;32m   1009\u001b[0m         \u001b[38;5;28mself\u001b[39m\u001b[38;5;241m.\u001b[39mupdate_alpha(gammat, rho())\n",
      "File \u001b[1;32mc:\\Users\\Gülseren\\AppData\\Local\\Programs\\Python\\Python311\\Lib\\site-packages\\gensim\\models\\ldamodel.py:768\u001b[0m, in \u001b[0;36mLdaModel.do_estep\u001b[1;34m(self, chunk, state)\u001b[0m\n\u001b[0;32m    766\u001b[0m \u001b[38;5;28;01mif\u001b[39;00m state \u001b[38;5;129;01mis\u001b[39;00m \u001b[38;5;28;01mNone\u001b[39;00m:\n\u001b[0;32m    767\u001b[0m     state \u001b[38;5;241m=\u001b[39m \u001b[38;5;28mself\u001b[39m\u001b[38;5;241m.\u001b[39mstate\n\u001b[1;32m--> 768\u001b[0m gamma, sstats \u001b[38;5;241m=\u001b[39m \u001b[38;5;28;43mself\u001b[39;49m\u001b[38;5;241;43m.\u001b[39;49m\u001b[43minference\u001b[49m\u001b[43m(\u001b[49m\u001b[43mchunk\u001b[49m\u001b[43m,\u001b[49m\u001b[43m \u001b[49m\u001b[43mcollect_sstats\u001b[49m\u001b[38;5;241;43m=\u001b[39;49m\u001b[38;5;28;43;01mTrue\u001b[39;49;00m\u001b[43m)\u001b[49m\n\u001b[0;32m    769\u001b[0m state\u001b[38;5;241m.\u001b[39msstats \u001b[38;5;241m+\u001b[39m\u001b[38;5;241m=\u001b[39m sstats\n\u001b[0;32m    770\u001b[0m state\u001b[38;5;241m.\u001b[39mnumdocs \u001b[38;5;241m+\u001b[39m\u001b[38;5;241m=\u001b[39m gamma\u001b[38;5;241m.\u001b[39mshape[\u001b[38;5;241m0\u001b[39m]  \u001b[38;5;66;03m# avoids calling len(chunk) on a generator\u001b[39;00m\n",
      "File \u001b[1;32mc:\\Users\\Gülseren\\AppData\\Local\\Programs\\Python\\Python311\\Lib\\site-packages\\gensim\\models\\ldamodel.py:733\u001b[0m, in \u001b[0;36mLdaModel.inference\u001b[1;34m(self, chunk, collect_sstats)\u001b[0m\n\u001b[0;32m    729\u001b[0m     \u001b[38;5;28;01massert\u001b[39;00m gammad\u001b[38;5;241m.\u001b[39mdtype \u001b[38;5;241m==\u001b[39m \u001b[38;5;28mself\u001b[39m\u001b[38;5;241m.\u001b[39mdtype\n\u001b[0;32m    730\u001b[0m     \u001b[38;5;28;01mif\u001b[39;00m collect_sstats:\n\u001b[0;32m    731\u001b[0m         \u001b[38;5;66;03m# Contribution of document d to the expected sufficient\u001b[39;00m\n\u001b[0;32m    732\u001b[0m         \u001b[38;5;66;03m# statistics for the M step.\u001b[39;00m\n\u001b[1;32m--> 733\u001b[0m         \u001b[43msstats\u001b[49m\u001b[43m[\u001b[49m\u001b[43m:\u001b[49m\u001b[43m,\u001b[49m\u001b[43m \u001b[49m\u001b[43mids\u001b[49m\u001b[43m]\u001b[49m \u001b[38;5;241m+\u001b[39m\u001b[38;5;241m=\u001b[39m np\u001b[38;5;241m.\u001b[39mouter(expElogthetad\u001b[38;5;241m.\u001b[39mT, cts \u001b[38;5;241m/\u001b[39m phinorm)\n\u001b[0;32m    735\u001b[0m \u001b[38;5;28;01mif\u001b[39;00m \u001b[38;5;28mlen\u001b[39m(chunk) \u001b[38;5;241m>\u001b[39m \u001b[38;5;241m1\u001b[39m:\n\u001b[0;32m    736\u001b[0m     logger\u001b[38;5;241m.\u001b[39mdebug(\u001b[38;5;124m\"\u001b[39m\u001b[38;5;132;01m%i\u001b[39;00m\u001b[38;5;124m/\u001b[39m\u001b[38;5;132;01m%i\u001b[39;00m\u001b[38;5;124m documents converged within \u001b[39m\u001b[38;5;132;01m%i\u001b[39;00m\u001b[38;5;124m iterations\u001b[39m\u001b[38;5;124m\"\u001b[39m, converged, \u001b[38;5;28mlen\u001b[39m(chunk), \u001b[38;5;28mself\u001b[39m\u001b[38;5;241m.\u001b[39miterations)\n",
      "\u001b[1;31mKeyboardInterrupt\u001b[0m: "
     ]
    }
   ],
   "source": [
    "#LDA MODEL\n",
    "lda_model = gensim.models.ldamodel.LdaModel(corpus = dokuman_terim_matrisi,\n",
    "                                            id2word = kelime_listesi,\n",
    "                                            num_topics = 30,\n",
    "                                            passes = 10)"
   ]
  },
  {
   "cell_type": "code",
   "execution_count": 21,
   "metadata": {},
   "outputs": [
    {
     "ename": "NameError",
     "evalue": "name 'lda_model' is not defined",
     "output_type": "error",
     "traceback": [
      "\u001b[1;31m---------------------------------------------------------------------------\u001b[0m",
      "\u001b[1;31mNameError\u001b[0m                                 Traceback (most recent call last)",
      "Cell \u001b[1;32mIn[21], line 4\u001b[0m\n\u001b[0;32m      2\u001b[0m yorum_konulari \u001b[38;5;241m=\u001b[39m []\n\u001b[0;32m      3\u001b[0m \u001b[38;5;28;01mfor\u001b[39;00m i \u001b[38;5;129;01min\u001b[39;00m \u001b[38;5;28mrange\u001b[39m(\u001b[38;5;28mlen\u001b[39m(dokuman_terim_matrisi)):\n\u001b[1;32m----> 4\u001b[0m     konu_prob \u001b[38;5;241m=\u001b[39m \u001b[43mlda_model\u001b[49m[dokuman_terim_matrisi[i]]\n\u001b[0;32m      5\u001b[0m     en_uygun_konu \u001b[38;5;241m=\u001b[39m \u001b[38;5;28mmax\u001b[39m(konu_prob, key\u001b[38;5;241m=\u001b[39m\u001b[38;5;28;01mlambda\u001b[39;00m item: item[\u001b[38;5;241m1\u001b[39m])[\u001b[38;5;241m0\u001b[39m]\n\u001b[0;32m      6\u001b[0m     yorum_konulari\u001b[38;5;241m.\u001b[39mappend(en_uygun_konu)\n",
      "\u001b[1;31mNameError\u001b[0m: name 'lda_model' is not defined"
     ]
    }
   ],
   "source": [
    "# Her yorumun en uygun konusuyla ilişkilendirildiği bir dizi oluşturma\n",
    "yorum_konulari = []\n",
    "for i in range(len(dokuman_terim_matrisi)):\n",
    "    konu_prob = lda_model[dokuman_terim_matrisi[i]]\n",
    "    en_uygun_konu = max(konu_prob, key=lambda item: item[1])[0]\n",
    "    yorum_konulari.append(en_uygun_konu)\n",
    "\n",
    "# Oluşturulan diziye uygun bir sütun ekleme\n",
    "yorum_veriseti[\"Yorum_Konu\"] = yorum_konulari\n",
    "\n",
    "# Her yorumun konu sütunuyla birlikte görüntülenmesi\n",
    "print(yorum_veriseti[[\"Metin\", \"Yorum_Konu\"]])"
   ]
  },
  {
   "cell_type": "code",
   "execution_count": null,
   "metadata": {},
   "outputs": [],
   "source": [
    "# Tutarlılık (Coherence) skoru ile en iyi konu sayısı seçimi\n",
    "from gensim.models import CoherenceModel\n",
    "\n",
    "tutarlilik_skorlar_listesi = []\n",
    "konu_sayisi_listesi = []\n",
    "konu_sayisi_aralik_listesi = [5, 10, 15, 20, 25]\n",
    "\n",
    "for konu_sayisi in konu_sayisi_aralik_listesi:\n",
    "    lda_model = gensim.models.ldamodel.LdaModel(corpus=dokuman_terim_matrisi,\n",
    "                                                id2word=kelime_listesi,\n",
    "                                                num_topics=konu_sayisi,\n",
    "                                                passes=10)\n",
    "\n",
    "    tutarlilik_model_lda = CoherenceModel(model=lda_model, texts=tokenlasmis_metinler,\n",
    "                                          dictionary=kelime_listesi, coherence='c_v')\n",
    "\n",
    "    gecici_tutarlilik_skoru_lda = tutarlilik_model_lda.get_coherence()\n",
    "    tutarlilik_skorlar_listesi.append(gecici_tutarlilik_skoru_lda)\n",
    "    konu_sayisi_listesi.append(konu_sayisi)\n"
   ]
  },
  {
   "cell_type": "code",
   "execution_count": null,
   "metadata": {},
   "outputs": [
    {
     "name": "stdout",
     "output_type": "stream",
     "text": [
      "[5, 10, 15, 20, 25]\n",
      "[0.4165886872483832, 0.3480314844032721, 0.40164984164528345, 0.4017479725122136, 0.38212541946010325]\n"
     ]
    },
    {
     "data": {
      "text/plain": [
       "<function matplotlib.pyplot.show(close=None, block=None)>"
      ]
     },
     "execution_count": 20,
     "metadata": {},
     "output_type": "execute_result"
    },
    {
     "data": {
      "image/png": "[encoded data removed]",
      "text/plain": [
       "<Figure size 640x480 with 1 Axes>"
      ]
     },
     "metadata": {},
     "output_type": "display_data"
    }
   ],
   "source": [
    "#Tutarlılık skoru görselleştirme\n",
    "import matplotlib.pyplot as plt\n",
    "\n",
    "plt.plot(konu_sayisi_listesi, tutarlilik_skorlar_listesi,\"-\")\n",
    "print(konu_sayisi_listesi)\n",
    "print(tutarlilik_skorlar_listesi)\n",
    "plt.xlabel(\"Konu Sayıları\")\n",
    "plt.ylabel(\"Tutarlılık Skorları\")\n",
    "\n",
    "plt.show"
   ]
  },
  {
   "cell_type": "code",
   "execution_count": null,
   "metadata": {},
   "outputs": [
    {
     "name": "stdout",
     "output_type": "stream",
     "text": [
      "(0, '0.120*\"değil\" + 0.092*\"kaliteli\" + 0.055*\"ürün\" + 0.046*\"uygun\" + 0.032*\"çalışmıyor\" + 0.030*\"fiyatı\" + 0.027*\"uzun\"')\n",
      "(1, '0.159*\"tavsiye\" + 0.097*\"etmiyorum\" + 0.075*\"kesinlikle\" + 0.062*\"etmem\" + 0.057*\"para\" + 0.047*\"eder\" + 0.047*\"basit\"')\n",
      "(2, '0.165*\"kalitesi\" + 0.067*\"kötü\" + 0.044*\"sesi\" + 0.044*\"sürekli\" + 0.037*\"görüntü\" + 0.032*\"alın\" + 0.032*\"beş\"')\n",
      "(3, '0.090*\"bozuldu\" + 0.052*\"resmen\" + 0.040*\"böyle\" + 0.032*\"tl\" + 0.018*\"derim\" + 0.018*\"ye\" + 0.016*\"kesiyor\"')\n",
      "(4, '0.109*\"beğenmedim\" + 0.076*\"siyah\" + 0.050*\"değil\" + 0.044*\"rahat\" + 0.041*\"sert\" + 0.030*\"normal\" + 0.028*\"başladı\"')\n",
      "(5, '0.131*\"berbat\" + 0.066*\"ürün\" + 0.064*\"harika\" + 0.061*\"ediyorum\" + 0.041*\"oğlum\" + 0.039*\"süper\" + 0.032*\"hayal\"')\n",
      "(6, '0.115*\"iade\" + 0.082*\"geldi\" + 0.063*\"ürün\" + 0.040*\"ettim\" + 0.030*\"geri\" + 0.029*\"sipariş\" + 0.027*\"ürünün\"')\n",
      "(8, '0.150*\"aldım\" + 0.076*\"olarak\" + 0.061*\"almıştım\" + 0.047*\"hediye\" + 0.045*\"ben\" + 0.034*\"almayin\" + 0.028*\"çantası\"')\n",
      "(9, '0.061*\"kırık\" + 0.039*\"sakal\" + 0.035*\"değmez\" + 0.025*\"saç\" + 0.023*\"geldi\" + 0.021*\"ancak\" + 0.021*\"gidiyor\"')\n",
      "(10, '0.065*\"gelmedi\" + 0.056*\"bana\" + 0.052*\"ince\" + 0.051*\"tek\" + 0.039*\"plastik\" + 0.028*\"değildi\" + 0.026*\"ürün\"')\n",
      "(11, '0.102*\"memnun\" + 0.074*\"ürünü\" + 0.062*\"fiyat\" + 0.039*\"göndermişler\" + 0.037*\"performans\" + 0.034*\"bitiyor\" + 0.030*\"malesef\"')\n",
      "(12, '0.111*\"tam\" + 0.100*\"aşırı\" + 0.039*\"istediğim\" + 0.031*\"rezalet\" + 0.024*\"vs\" + 0.022*\"haftada\" + 0.020*\"verdiğim\"')\n",
      "(16, '0.105*\"almayın\" + 0.052*\"gün\" + 0.043*\"ürün\" + 0.031*\"içinde\" + 0.030*\"sakın\" + 0.030*\"farklı\" + 0.028*\"kesinlikle\"')\n",
      "(17, '0.085*\"küçük\" + 0.066*\"geldi\" + 0.057*\"büyük\" + 0.054*\"biraz\" + 0.052*\"ses\" + 0.046*\"numara\" + 0.041*\"değil\"')\n",
      "(18, '0.262*\"kalitesiz\" + 0.065*\"ürün\" + 0.022*\"olduğu\" + 0.020*\"durmuyor\" + 0.020*\"veriyor\" + 0.020*\"yamuk\" + 0.020*\"teslim\"')\n",
      "(20, '0.091*\"hemen\" + 0.083*\"oldu\" + 0.062*\"tane\" + 0.045*\"kısmı\" + 0.042*\"ay\" + 0.037*\"var\" + 0.036*\"ışık\"')\n",
      "(21, '0.098*\"kötü\" + 0.070*\"göründüğü\" + 0.052*\"yok\" + 0.045*\"saat\" + 0.041*\"değil\" + 0.034*\"beğendim\" + 0.030*\"çabuk\"')\n",
      "(22, '0.073*\"şarj\" + 0.058*\"hic\" + 0.033*\"yıldız\" + 0.032*\"bile\" + 0.030*\"fazla\" + 0.026*\"olmuyor\" + 0.022*\"an\"')\n",
      "(23, '0.069*\"duruyor\" + 0.067*\"dandik\" + 0.044*\"yeri\" + 0.042*\"iki\" + 0.038*\"maalesef\" + 0.034*\"kısa\" + 0.028*\"değil\"')\n",
      "(24, '0.190*\"cok\" + 0.097*\"urun\" + 0.059*\"guzel\" + 0.042*\"icin\" + 0.034*\"aldim\" + 0.028*\"kotu\" + 0.019*\"bi\"')\n"
     ]
    }
   ],
   "source": [
    "#Oluşturulan soyut konular içinde en fazla bulunan terimler\n",
    "\n",
    "konular = lda_model.print_topics(num_words=7)\n",
    "konular = sorted(konular, key= lambda x : x[0])\n",
    "for konu in konular:\n",
    "    print(konu)"
   ]
  },
  {
   "cell_type": "code",
   "execution_count": null,
   "metadata": {},
   "outputs": [
    {
     "name": "stdout",
     "output_type": "stream",
     "text": [
      "Sınıflandırma Raporu:\n",
      "              precision    recall  f1-score   support\n",
      "\n",
      "           0       0.91      0.93      0.92      1370\n",
      "           1       0.87      0.96      0.91      1384\n",
      "           2       0.61      0.24      0.34       280\n",
      "\n",
      "    accuracy                           0.88      3034\n",
      "   macro avg       0.80      0.71      0.73      3034\n",
      "weighted avg       0.87      0.88      0.86      3034\n",
      "\n",
      "Doğruluk (Accuracy): 0.8800263678312459\n"
     ]
    }
   ],
   "source": [
    "from sklearn.model_selection import train_test_split\n",
    "from sklearn.feature_extraction.text import CountVectorizer\n",
    "from sklearn.naive_bayes import MultinomialNB\n",
    "from sklearn.metrics import classification_report, accuracy_score\n",
    "\n",
    "# Örnek veri seti ve etiketleri\n",
    "X = df['Metin']\n",
    "y = df['Durum']  # 'Etiket' sütunu, sınıfları içermelidir.\n",
    "\n",
    "# Veriyi eğitim ve test setlerine bölme\n",
    "X_train, X_test, y_train, y_test = train_test_split(X, y, test_size=0.2, random_state=42)\n",
    "\n",
    "# Veriyi sayısal formata dönüştürme\n",
    "vectorizer = CountVectorizer()\n",
    "X_train_vec = vectorizer.fit_transform(X_train)\n",
    "X_test_vec = vectorizer.transform(X_test)\n",
    "\n",
    "# Naive Bayes sınıflandırma modelini eğitme\n",
    "model = MultinomialNB()\n",
    "model.fit(X_train_vec, y_train)\n",
    "\n",
    "# Test seti üzerinde tahmin yapma\n",
    "y_pred = model.predict(X_test_vec)\n",
    "\n",
    "# Sınıflandırma raporu ve doğruluk değeri\n",
    "print(\"Sınıflandırma Raporu:\")\n",
    "print(classification_report(y_test, y_pred))\n",
    "\n",
    "accuracy = accuracy_score(y_test, y_pred)\n",
    "print(f\"Doğruluk (Accuracy): {accuracy}\")\n"
   ]
  },
  {
   "cell_type": "code",
   "execution_count": null,
   "metadata": {},
   "outputs": [
    {
     "name": "stdout",
     "output_type": "stream",
     "text": [
      "Sınıflandırma Raporu:\n",
      "              precision    recall  f1-score   support\n",
      "\n",
      "           0       0.92      0.91      0.92      1370\n",
      "           1       0.91      0.95      0.93      1384\n",
      "           2       0.60      0.51      0.55       280\n",
      "\n",
      "    accuracy                           0.89      3034\n",
      "   macro avg       0.81      0.79      0.80      3034\n",
      "weighted avg       0.89      0.89      0.89      3034\n",
      "\n",
      "Doğruluk (Accuracy): 0.8915622940013184\n"
     ]
    },
    {
     "name": "stderr",
     "output_type": "stream",
     "text": [
      "c:\\Users\\lenovo\\AppData\\Local\\Programs\\Python\\Python310\\lib\\site-packages\\sklearn\\linear_model\\_logistic.py:458: ConvergenceWarning: lbfgs failed to converge (status=1):\n",
      "STOP: TOTAL NO. of ITERATIONS REACHED LIMIT.\n",
      "\n",
      "Increase the number of iterations (max_iter) or scale the data as shown in:\n",
      "    https://scikit-learn.org/stable/modules/preprocessing.html\n",
      "Please also refer to the documentation for alternative solver options:\n",
      "    https://scikit-learn.org/stable/modules/linear_model.html#logistic-regression\n",
      "  n_iter_i = _check_optimize_result(\n"
     ]
    }
   ],
   "source": [
    "from sklearn.model_selection import train_test_split\n",
    "from sklearn.feature_extraction.text import CountVectorizer\n",
    "from sklearn.linear_model import LogisticRegression\n",
    "from sklearn.metrics import classification_report, accuracy_score\n",
    "\n",
    "# Örnek veri seti ve etiketleri\n",
    "X = df['Metin']\n",
    "y = df['Durum']  # 'Etiket' sütunu, sınıfları içermelidir.\n",
    "\n",
    "# Veriyi eğitim ve test setlerine bölme\n",
    "X_train, X_test, y_train, y_test = train_test_split(X, y, test_size=0.2, random_state=42)\n",
    "\n",
    "# Veriyi sayısal formata dönüştürme\n",
    "vectorizer = CountVectorizer()\n",
    "X_train_vec = vectorizer.fit_transform(X_train)\n",
    "X_test_vec = vectorizer.transform(X_test)\n",
    "\n",
    "# LogisticRegression sınıflandırma modelini eğitme\n",
    "model = LogisticRegression()\n",
    "model.fit(X_train_vec, y_train)\n",
    "\n",
    "# Test seti üzerinde tahmin yapma\n",
    "y_pred = model.predict(X_test_vec)\n",
    "\n",
    "# Sınıflandırma raporu ve doğruluk değeri\n",
    "print(\"Sınıflandırma Raporu:\")\n",
    "print(classification_report(y_test, y_pred))\n",
    "\n",
    "accuracy = accuracy_score(y_test, y_pred)\n",
    "print(f\"Doğruluk (Accuracy): {accuracy}\")\n"
   ]
  },
  {
   "cell_type": "code",
   "execution_count": null,
   "metadata": {},
   "outputs": [
    {
     "name": "stdout",
     "output_type": "stream",
     "text": [
      "Sınıflandırma Raporu:\n",
      "              precision    recall  f1-score   support\n",
      "\n",
      "           0       0.91      0.93      0.92      1370\n",
      "           1       0.92      0.94      0.93      1384\n",
      "           2       0.61      0.50      0.55       280\n",
      "\n",
      "    accuracy                           0.89      3034\n",
      "   macro avg       0.81      0.79      0.80      3034\n",
      "weighted avg       0.89      0.89      0.89      3034\n",
      "\n",
      "Doğruluk (Accuracy): 0.8932102834541858\n"
     ]
    }
   ],
   "source": [
    "from sklearn.feature_extraction.text import TfidfVectorizer\n",
    "from sklearn.svm import SVC\n",
    "from sklearn.pipeline import make_pipeline\n",
    "from sklearn.model_selection import train_test_split\n",
    "from sklearn.metrics import classification_report, accuracy_score\n",
    "\n",
    "# Veriyi eğitim ve test setlerine bölme\n",
    "X_train, X_test, y_train, y_test = train_test_split(X, y, test_size=0.2, random_state=42)\n",
    "\n",
    "# TF-IDF vektörleştirici ve SVM sınıflandırıcıyı içeren bir pipeline oluşturun\n",
    "model = make_pipeline(TfidfVectorizer(), SVC(C=1.0, kernel='linear', gamma='auto'))\n",
    "\n",
    "# Modeli eğitin\n",
    "model.fit(X_train, y_train)\n",
    "\n",
    "# Test seti üzerinde tahmin yapın\n",
    "y_pred = model.predict(X_test)\n",
    "\n",
    "# Model performansını değerlendirin\n",
    "print(\"Sınıflandırma Raporu:\")\n",
    "print(classification_report(y_test, y_pred))\n",
    "\n",
    "accuracy = accuracy_score(y_test, y_pred)\n",
    "print(f\"Doğruluk (Accuracy): {accuracy}\")\n"
   ]
  },
  {
   "cell_type": "code",
   "execution_count": null,
   "metadata": {},
   "outputs": [
    {
     "name": "stdout",
     "output_type": "stream",
     "text": [
      "En İyi Parametreler: {'clf__C': 1, 'tfidf__max_features': None, 'tfidf__ngram_range': (1, 2)}\n",
      "Sınıflandırma Raporu:\n",
      "              precision    recall  f1-score   support\n",
      "\n",
      "           0       0.93      0.94      0.94      1370\n",
      "           1       0.92      0.95      0.94      1384\n",
      "           2       0.65      0.49      0.56       280\n",
      "\n",
      "    accuracy                           0.91      3034\n",
      "   macro avg       0.83      0.80      0.81      3034\n",
      "weighted avg       0.90      0.91      0.90      3034\n",
      "\n",
      "Doğruluk (Accuracy): 0.9060646011865524\n"
     ]
    }
   ],
   "source": [
    "from sklearn.model_selection import train_test_split, GridSearchCV\n",
    "from sklearn.feature_extraction.text import TfidfVectorizer\n",
    "from sklearn.svm import LinearSVC\n",
    "from sklearn.pipeline import Pipeline\n",
    "from sklearn.metrics import classification_report, accuracy_score\n",
    "\n",
    "# Veriyi eğitim ve test setlerine bölme\n",
    "X_train, X_test, y_train, y_test = train_test_split(X, y, test_size=0.2, random_state=42)\n",
    "\n",
    "# TF-IDF vektörleştirici ve LinearSVC sınıflandırıcıyı içeren bir pipeline oluşturun\n",
    "pipeline = Pipeline([\n",
    "    ('tfidf', TfidfVectorizer()),\n",
    "    ('clf', LinearSVC())\n",
    "])\n",
    "\n",
    "# Grid Search için parametreler\n",
    "param_grid = {\n",
    "    'tfidf__max_features': [1000, 5000, None],\n",
    "    'tfidf__ngram_range': [(1, 1), (1, 2)],\n",
    "    'clf__C': [0.1, 1, 10],\n",
    "}\n",
    "\n",
    "# Grid Search ve Cross-Validation\n",
    "grid_search = GridSearchCV(pipeline, param_grid, cv=5)\n",
    "grid_search.fit(X_train, y_train)\n",
    "\n",
    "# En iyi parametreleri göster\n",
    "print(\"En İyi Parametreler:\", grid_search.best_params_)\n",
    "\n",
    "# En iyi modeli kullanarak test seti üzerinde tahmin yapın\n",
    "y_pred = grid_search.predict(X_test)\n",
    "\n",
    "# Model performansını değerlendirin\n",
    "print(\"Sınıflandırma Raporu:\")\n",
    "print(classification_report(y_test, y_pred))\n",
    "\n",
    "accuracy = accuracy_score(y_test, y_pred)\n",
    "print(f\"Doğruluk (Accuracy): {accuracy}\")\n"
   ]
  }
 ],
 "metadata": {
  "kernelspec": {
   "display_name": "Python 3",
   "language": "python",
   "name": "python3"
  },
  "language_info": {
   "codemirror_mode": {
    "name": "ipython",
    "version": 3
   },
   "file_extension": ".py",
   "mimetype": "text/x-python",
   "name": "python",
   "nbconvert_exporter": "python",
   "pygments_lexer": "ipython3",
   "version": "3.10.7"
  }
 },
 "nbformat": 4,
 "nbformat_minor": 2
}
