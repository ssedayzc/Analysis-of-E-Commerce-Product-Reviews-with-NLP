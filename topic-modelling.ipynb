{
 "cells": [
  {
   "cell_type": "markdown",
   "metadata": {},
   "source": [
    "LDA ile Konu modellemesi"
   ]
  },
  {
   "cell_type": "code",
<<<<<<< HEAD
   "execution_count": 19,
=======
   "execution_count": 10,
>>>>>>> eebd97fc75e9f9ef7915fa8cba7dde2ef691af1f
   "metadata": {},
   "outputs": [
    {
     "data": {
      "text/html": [
       "<div>\n",
       "<style scoped>\n",
       "    .dataframe tbody tr th:only-of-type {\n",
       "        vertical-align: middle;\n",
       "    }\n",
       "\n",
       "    .dataframe tbody tr th {\n",
       "        vertical-align: top;\n",
       "    }\n",
       "\n",
       "    .dataframe thead th {\n",
       "        text-align: right;\n",
       "    }\n",
       "</style>\n",
       "<table border=\"1\" class=\"dataframe\">\n",
       "  <thead>\n",
       "    <tr style=\"text-align: right;\">\n",
       "      <th></th>\n",
       "      <th>Metin</th>\n",
       "      <th>Durum</th>\n",
       "    </tr>\n",
       "  </thead>\n",
       "  <tbody>\n",
       "    <tr>\n",
       "      <th>0</th>\n",
       "      <td>evet anlatıldığı gibi</td>\n",
       "      <td>1</td>\n",
       "    </tr>\n",
       "    <tr>\n",
       "      <th>1</th>\n",
       "      <td>Daha öncede almıştım bu cihazdan ense ve sakal...</td>\n",
       "      <td>1</td>\n",
       "    </tr>\n",
       "    <tr>\n",
       "      <th>2</th>\n",
       "      <td>Ürün gayet başarılı sakal kesmede başlık sayıs...</td>\n",
       "      <td>1</td>\n",
       "    </tr>\n",
       "  </tbody>\n",
       "</table>\n",
       "</div>"
      ],
      "text/plain": [
       "                                               Metin  Durum\n",
       "0                              evet anlatıldığı gibi      1\n",
       "1  Daha öncede almıştım bu cihazdan ense ve sakal...      1\n",
       "2  Ürün gayet başarılı sakal kesmede başlık sayıs...      1"
      ]
     },
<<<<<<< HEAD
     "execution_count": 19,
=======
     "execution_count": 10,
>>>>>>> eebd97fc75e9f9ef7915fa8cba7dde2ef691af1f
     "metadata": {},
     "output_type": "execute_result"
    }
   ],
   "source": [
    "import numpy as np\n",
    "import pandas as pd\n",
    "\n",
    "df = pd.read_csv(\"e-ticaret_urun_yorumlari.csv\", delimiter=';')\n",
    "df.head(3)"
   ]
  },
  {
   "cell_type": "code",
<<<<<<< HEAD
   "execution_count": 20,
=======
   "execution_count": 11,
>>>>>>> eebd97fc75e9f9ef7915fa8cba7dde2ef691af1f
   "metadata": {},
   "outputs": [
    {
     "data": {
      "text/html": [
       "<div>\n",
       "<style scoped>\n",
       "    .dataframe tbody tr th:only-of-type {\n",
       "        vertical-align: middle;\n",
       "    }\n",
       "\n",
       "    .dataframe tbody tr th {\n",
       "        vertical-align: top;\n",
       "    }\n",
       "\n",
       "    .dataframe thead th {\n",
       "        text-align: right;\n",
       "    }\n",
       "</style>\n",
       "<table border=\"1\" class=\"dataframe\">\n",
       "  <thead>\n",
       "    <tr style=\"text-align: right;\">\n",
       "      <th></th>\n",
       "      <th>Metin</th>\n",
       "    </tr>\n",
       "  </thead>\n",
       "  <tbody>\n",
       "    <tr>\n",
       "      <th>0</th>\n",
       "      <td>evet anlatıldığı gibi</td>\n",
       "    </tr>\n",
       "    <tr>\n",
       "      <th>1</th>\n",
       "      <td>Daha öncede almıştım bu cihazdan ense ve sakal...</td>\n",
       "    </tr>\n",
       "    <tr>\n",
       "      <th>2</th>\n",
       "      <td>Ürün gayet başarılı sakal kesmede başlık sayıs...</td>\n",
       "    </tr>\n",
       "  </tbody>\n",
       "</table>\n",
       "</div>"
      ],
      "text/plain": [
       "                                               Metin\n",
       "0                              evet anlatıldığı gibi\n",
       "1  Daha öncede almıştım bu cihazdan ense ve sakal...\n",
       "2  Ürün gayet başarılı sakal kesmede başlık sayıs..."
      ]
     },
<<<<<<< HEAD
     "execution_count": 20,
=======
     "execution_count": 11,
>>>>>>> eebd97fc75e9f9ef7915fa8cba7dde2ef691af1f
     "metadata": {},
     "output_type": "execute_result"
    }
   ],
   "source": [
    "#Sadece metin sütunun kullanılması, konu modelleme için yeterli olacaktır.\n",
    "yorum_veriseti=df[[\"Metin\"]]\n",
    "yorum_veriseti.head(3)"
   ]
  },
  {
   "cell_type": "code",
<<<<<<< HEAD
   "execution_count": 21,
=======
   "execution_count": 12,
>>>>>>> eebd97fc75e9f9ef7915fa8cba7dde2ef691af1f
   "metadata": {},
   "outputs": [
    {
     "name": "stderr",
     "output_type": "stream",
     "text": [
      "<>:16: DeprecationWarning: invalid escape sequence '\\w'\n",
      "<>:17: DeprecationWarning: invalid escape sequence '\\w'\n",
      "<>:16: DeprecationWarning: invalid escape sequence '\\w'\n",
      "<>:17: DeprecationWarning: invalid escape sequence '\\w'\n",
      "C:\\Users\\lenovo\\AppData\\Local\\Temp\\ipykernel_14500\\4173682191.py:16: DeprecationWarning: invalid escape sequence '\\w'\n",
      "  metin=re.sub(\"'(\\w+)\", \"\", metin)\n",
      "C:\\Users\\lenovo\\AppData\\Local\\Temp\\ipykernel_14500\\4173682191.py:17: DeprecationWarning: invalid escape sequence '\\w'\n",
      "  metin=re.sub(\"’(\\w+)\", \"\", metin)\n",
      "[nltk_data] Downloading package stopwords to\n",
      "[nltk_data]     C:\\Users\\Gülseren\\AppData\\Roaming\\nltk_data...\n",
      "[nltk_data]   Package stopwords is already up-to-date!\n"
     ]
    }
   ],
   "source": [
    "#veri temizleme işlemi için bir fonksiyon hazırlanması\n",
    "import re \n",
    "import string\n",
    "import nltk\n",
    "from nltk.corpus import stopwords\n",
    "nltk.download('stopwords')\n",
    "\n",
    "nok_isaretleri= string.punctuation\n",
    "etkisiz_kelimeler= stopwords.words('turkish')\n",
    "etkisiz_kelimeler.extend ([\"bir\", \"kadar\", \"sonra\"])\n",
    "\n",
    "def veriTemizleme(metin):\n",
    "    metin=metin.lower()\n",
    "    metin=metin.replace(\"\\\\n\",\" \")\n",
    "    #kesme işareti ve sonrasındaki karakterlerin aldırılması\n",
    "    metin=re.sub(\"'(\\w+)\", \"\", metin)\n",
    "    metin=re.sub(\"’(\\w+)\", \"\", metin)\n",
    "    #sayıların kaldırılması\n",
    "    metin=re.sub(\"[0-9]+\", \"\", metin)\n",
    "    #noktalama işaretlerinin kaldırılması\n",
    "    metin=\"\".join(list(map(lambda x:x if x not in nok_isaretleri else \" \" , metin)))\n",
    "    #etkisiz kelimelerin bazılarının kaldırılması\n",
    "    metin=\" \".join([i for i in metin.split() if i not in etkisiz_kelimeler])\n",
    "    #metinde tek kalan harflerin çıkarılması\n",
    "    metin=\" \".join([i for i in metin.split() if len(i) > 1])\n",
    "\n",
    "    return metin"
   ]
  },
  {
   "cell_type": "code",
<<<<<<< HEAD
   "execution_count": 22,
=======
   "execution_count": 13,
>>>>>>> eebd97fc75e9f9ef7915fa8cba7dde2ef691af1f
   "metadata": {},
   "outputs": [
    {
     "name": "stdout",
     "output_type": "stream",
     "text": [
      "Temizlenmemiş Veri Seti:\n",
      "0                                evet anlatıldığı gibi\n",
      "1    Daha öncede almıştım bu cihazdan ense ve sakal...\n",
      "2    Ürün gayet başarılı sakal kesmede başlık sayıs...\n",
      "3    Daha öncede aynısını almıştım çok güzel ve kal...\n",
      "4    Erkek kuaförüyüm ense ve sıfır sakal traşı içi...\n",
      "5                             ürün gerçekten çok güzel\n",
      "6    Ürün beklediğimden güzel çıktı gayet kullanışl...\n",
      "7                          güzel makina tavsiye ederim\n",
      "8            tavsiye edebileceğim çok güzel bir makina\n",
      "9    ürün geldiğinde şarjı vardı. ilk lullanım önce...\n",
      "Name: Metin, dtype: object\n",
      "\n",
      "Temizlenmiş Veri Seti:\n"
     ]
    },
    {
     "name": "stdout",
     "output_type": "stream",
     "text": [
      "0                                     evet anlatıldığı\n",
      "1    öncede almıştım cihazdan ense sakal tüketmek o...\n",
      "2    ürün gayet başarılı sakal kesmede başlık sayıs...\n",
      "3         öncede aynısını almıştım güzel kaliteli ürün\n",
      "4    erkek kuaförüyüm ense sıfır sakal traşı uygun ...\n",
      "5                                 ürün gerçekten güzel\n",
      "6    ürün beklediğimden güzel çıktı gayet kullanışl...\n",
      "7                          güzel makina tavsiye ederim\n",
      "8                    tavsiye edebileceğim güzel makina\n",
      "9    ürün geldiğinde şarjı vardı ilk lullanım önces...\n",
      "Name: Metin, dtype: object\n"
     ]
    }
   ],
   "source": [
    "# Temizlenmemiş veri seti\n",
    "print(\"Temizlenmemiş Veri Seti:\")\n",
    "print(df[\"Metin\"].head(10))\n",
    "\n",
    "# Temizlenmiş veri seti\n",
    "print(\"\\nTemizlenmiş Veri Seti:\")\n",
    "temizlenen_metin = yorum_veriseti[\"Metin\"].apply(veriTemizleme)\n",
    "print(temizlenen_metin.head(10))"
   ]
  },
  {
   "cell_type": "code",
<<<<<<< HEAD
   "execution_count": 23,
=======
   "execution_count": 14,
>>>>>>> eebd97fc75e9f9ef7915fa8cba7dde2ef691af1f
   "metadata": {},
   "outputs": [
    {
     "data": {
      "text/html": [
       "<div>\n",
       "<style scoped>\n",
       "    .dataframe tbody tr th:only-of-type {\n",
       "        vertical-align: middle;\n",
       "    }\n",
       "\n",
       "    .dataframe tbody tr th {\n",
       "        vertical-align: top;\n",
       "    }\n",
       "\n",
       "    .dataframe thead th {\n",
       "        text-align: right;\n",
       "    }\n",
       "</style>\n",
       "<table border=\"1\" class=\"dataframe\">\n",
       "  <thead>\n",
       "    <tr style=\"text-align: right;\">\n",
       "      <th></th>\n",
       "      <th>Metin</th>\n",
       "      <th>temizlenen_metin_token</th>\n",
       "    </tr>\n",
       "  </thead>\n",
       "  <tbody>\n",
       "    <tr>\n",
       "      <th>0</th>\n",
       "      <td>evet anlatıldığı gibi</td>\n",
       "      <td>[evet, anlatıldığı]</td>\n",
       "    </tr>\n",
       "    <tr>\n",
       "      <th>1</th>\n",
       "      <td>Daha öncede almıştım bu cihazdan ense ve sakal...</td>\n",
       "      <td>[öncede, almıştım, cihazdan, ense, sakal, tüke...</td>\n",
       "    </tr>\n",
       "    <tr>\n",
       "      <th>2</th>\n",
       "      <td>Ürün gayet başarılı sakal kesmede başlık sayıs...</td>\n",
       "      <td>[ürün, gayet, başarılı, sakal, kesmede, başlık...</td>\n",
       "    </tr>\n",
       "    <tr>\n",
       "      <th>3</th>\n",
       "      <td>Daha öncede aynısını almıştım çok güzel ve kal...</td>\n",
       "      <td>[öncede, aynısını, almıştım, güzel, kaliteli, ...</td>\n",
       "    </tr>\n",
       "    <tr>\n",
       "      <th>4</th>\n",
       "      <td>Erkek kuaförüyüm ense ve sıfır sakal traşı içi...</td>\n",
       "      <td>[erkek, kuaförüyüm, ense, sıfır, sakal, traşı,...</td>\n",
       "    </tr>\n",
       "    <tr>\n",
       "      <th>5</th>\n",
       "      <td>ürün gerçekten çok güzel</td>\n",
       "      <td>[ürün, gerçekten, güzel]</td>\n",
       "    </tr>\n",
       "    <tr>\n",
       "      <th>6</th>\n",
       "      <td>Ürün beklediğimden güzel çıktı gayet kullanışl...</td>\n",
       "      <td>[ürün, beklediğimden, güzel, çıktı, gayet, kul...</td>\n",
       "    </tr>\n",
       "    <tr>\n",
       "      <th>7</th>\n",
       "      <td>güzel makina tavsiye ederim</td>\n",
       "      <td>[güzel, makina, tavsiye, ederim]</td>\n",
       "    </tr>\n",
       "    <tr>\n",
       "      <th>8</th>\n",
       "      <td>tavsiye edebileceğim çok güzel bir makina</td>\n",
       "      <td>[tavsiye, edebileceğim, güzel, makina]</td>\n",
       "    </tr>\n",
       "    <tr>\n",
       "      <th>9</th>\n",
       "      <td>ürün geldiğinde şarjı vardı. ilk lullanım önce...</td>\n",
       "      <td>[ürün, geldiğinde, şarjı, vardı, ilk, lullanım...</td>\n",
       "    </tr>\n",
       "  </tbody>\n",
       "</table>\n",
       "</div>"
      ],
      "text/plain": [
       "                                               Metin  \\\n",
       "0                              evet anlatıldığı gibi   \n",
       "1  Daha öncede almıştım bu cihazdan ense ve sakal...   \n",
       "2  Ürün gayet başarılı sakal kesmede başlık sayıs...   \n",
       "3  Daha öncede aynısını almıştım çok güzel ve kal...   \n",
       "4  Erkek kuaförüyüm ense ve sıfır sakal traşı içi...   \n",
       "5                           ürün gerçekten çok güzel   \n",
       "6  Ürün beklediğimden güzel çıktı gayet kullanışl...   \n",
       "7                        güzel makina tavsiye ederim   \n",
       "8          tavsiye edebileceğim çok güzel bir makina   \n",
       "9  ürün geldiğinde şarjı vardı. ilk lullanım önce...   \n",
       "\n",
       "                              temizlenen_metin_token  \n",
       "0                                [evet, anlatıldığı]  \n",
       "1  [öncede, almıştım, cihazdan, ense, sakal, tüke...  \n",
       "2  [ürün, gayet, başarılı, sakal, kesmede, başlık...  \n",
       "3  [öncede, aynısını, almıştım, güzel, kaliteli, ...  \n",
       "4  [erkek, kuaförüyüm, ense, sıfır, sakal, traşı,...  \n",
       "5                           [ürün, gerçekten, güzel]  \n",
       "6  [ürün, beklediğimden, güzel, çıktı, gayet, kul...  \n",
       "7                   [güzel, makina, tavsiye, ederim]  \n",
       "8             [tavsiye, edebileceğim, güzel, makina]  \n",
       "9  [ürün, geldiğinde, şarjı, vardı, ilk, lullanım...  "
      ]
     },
<<<<<<< HEAD
     "execution_count": 23,
=======
     "execution_count": 14,
>>>>>>> eebd97fc75e9f9ef7915fa8cba7dde2ef691af1f
     "metadata": {},
     "output_type": "execute_result"
    }
   ],
   "source": [
    "# Tokenize etme\n",
    "yorum_veriseti[\"temizlenen_metin_token\"] = temizlenen_metin.apply(lambda x: x.split())\n",
    "yorum_veriseti.head(10)"
   ]
  },
  {
   "cell_type": "code",
<<<<<<< HEAD
   "execution_count": 24,
=======
   "execution_count": 17,
>>>>>>> eebd97fc75e9f9ef7915fa8cba7dde2ef691af1f
   "metadata": {},
   "outputs": [],
   "source": [
    "#LDA Model Eğitimi\n",
    "import gensim\n",
    "import pyLDAvis.gensim \n",
    "\n",
    "# Kelime listesi - Dict oluşturulması\n",
    "tokenlasmis_metinler = yorum_veriseti[\"temizlenen_metin_token\"]\n",
    "\n",
    "# Kelime listesi Filtreleme\n",
    "kelime_listesi = gensim.corpora.Dictionary(tokenlasmis_metinler)\n",
    "\n",
    "# Terimlerin Vektörletirilmesi (Doküman-Terim matrisinin oluşturulması)\n",
    "dokuman_terim_matrisi = [kelime_listesi.doc2bow(terim) for terim in tokenlasmis_metinler]"
   ]
  },
  {
   "cell_type": "code",
<<<<<<< HEAD
   "execution_count": 25,
   "metadata": {},
   "outputs": [
    {
     "name": "stdout",
     "output_type": "stream",
     "text": [
      "(11, '0.172*\"kesinlikle\" + 0.130*\"tavsiye\" + 0.102*\"gelmedi\" + 0.092*\"etmem\" + 0.029*\"ürün\" + 0.020*\"yapılmış\" + 0.020*\"inanılmaz\"')\n",
      "(27, '0.179*\"dandik\" + 0.034*\"anca\" + 0.029*\"hemde\" + 0.026*\"sorunu\" + 0.025*\"dk\" + 0.019*\"gercekten\" + 0.018*\"plastiği\"')\n",
      "(13, '0.081*\"yazık\" + 0.072*\"pek\" + 0.070*\"olur\" + 0.064*\"sürekli\" + 0.059*\"paraya\" + 0.054*\"olan\" + 0.030*\"içi\"')\n",
      "(14, '0.293*\"kötü\" + 0.107*\"kargo\" + 0.070*\"hızlı\" + 0.054*\"paketleme\" + 0.048*\"ürün\" + 0.038*\"geldi\" + 0.031*\"zor\"')\n",
      "(1, '0.056*\"maalesef\" + 0.055*\"bence\" + 0.055*\"yanlış\" + 0.036*\"çantası\" + 0.034*\"dar\" + 0.031*\"mükemmel\" + 0.030*\"tek\"')\n",
      "(20, '0.117*\"eder\" + 0.098*\"idare\" + 0.059*\"yine\" + 0.054*\"değmez\" + 0.032*\"görseldeki\" + 0.023*\"gerek\" + 0.023*\"yinede\"')\n",
      "(22, '0.201*\"tavsiye\" + 0.118*\"ederim\" + 0.059*\"para\" + 0.058*\"ürün\" + 0.048*\"etmez\" + 0.046*\"ediyorum\" + 0.034*\"baya\"')\n",
      "(15, '0.101*\"aşırı\" + 0.095*\"tane\" + 0.053*\"sipariş\" + 0.046*\"verdim\" + 0.029*\"rahatsız\" + 0.028*\"aldım\" + 0.025*\"var\"')\n",
      "(10, '0.133*\"aldım\" + 0.064*\"geri\" + 0.050*\"olarak\" + 0.046*\"almıştım\" + 0.045*\"kullanışlı\" + 0.045*\"hediye\" + 0.041*\"güzel\"')\n",
      "(28, '0.309*\"değil\" + 0.086*\"beğenmedim\" + 0.056*\"büyük\" + 0.048*\"kaliteli\" + 0.046*\"duruyor\" + 0.034*\"ürün\" + 0.025*\"fena\"')\n",
      "(2, '0.059*\"aynı\" + 0.035*\"iki\" + 0.033*\"sadece\" + 0.032*\"rağmen\" + 0.031*\"ürünü\" + 0.026*\"kotu\" + 0.026*\"tl\"')\n",
      "(26, '0.136*\"berbat\" + 0.091*\"bozuldu\" + 0.074*\"ürün\" + 0.066*\"harika\" + 0.040*\"süper\" + 0.036*\"severek\" + 0.033*\"hayal\"')\n",
      "(3, '0.130*\"numara\" + 0.085*\"kalite\" + 0.046*\"gerçekten\" + 0.040*\"yorumlara\" + 0.035*\"yıldız\" + 0.028*\"olarak\" + 0.025*\"yok\"')\n",
      "(25, '0.087*\"alın\" + 0.045*\"edeceğim\" + 0.034*\"başka\" + 0.033*\"zaman\" + 0.030*\"derim\" + 0.028*\"firma\" + 0.026*\"bütün\"')\n",
      "(17, '0.148*\"küçük\" + 0.104*\"biraz\" + 0.043*\"yeri\" + 0.041*\"güzel\" + 0.036*\"ürün\" + 0.029*\"kısa\" + 0.028*\"rahat\"')\n",
      "(16, '0.164*\"etmiyorum\" + 0.093*\"asla\" + 0.074*\"ilk\" + 0.068*\"ince\" + 0.065*\"kırık\" + 0.060*\"resmen\" + 0.028*\"geldi\"')\n",
      "(4, '0.108*\"iade\" + 0.098*\"kalitesiz\" + 0.076*\"ürün\" + 0.050*\"ettim\" + 0.040*\"geldi\" + 0.032*\"bozuk\" + 0.032*\"elime\"')\n",
      "(5, '0.068*\"geldi\" + 0.055*\"siyah\" + 0.032*\"iade\" + 0.029*\"renk\" + 0.026*\"çabuk\" + 0.026*\"istedim\" + 0.024*\"kalmadım\"')\n",
      "(6, '0.104*\"ses\" + 0.088*\"oldu\" + 0.062*\"saat\" + 0.045*\"hafta\" + 0.044*\"ay\" + 0.040*\"tam\" + 0.037*\"göndermişler\"')\n",
      "(9, '0.128*\"kaliteli\" + 0.096*\"uygun\" + 0.052*\"fiyatı\" + 0.050*\"ürün\" + 0.045*\"beğendim\" + 0.036*\"güzel\" + 0.027*\"sıfır\"')\n",
      "                                                   Metin  Yorum_Konu\n",
      "0                                  evet anlatıldığı gibi           9\n",
      "1      Daha öncede almıştım bu cihazdan ense ve sakal...          12\n",
      "2      Ürün gayet başarılı sakal kesmede başlık sayıs...          12\n",
      "3      Daha öncede aynısını almıştım çok güzel ve kal...          10\n",
      "4      Erkek kuaförüyüm ense ve sıfır sakal traşı içi...           9\n",
      "...                                                  ...         ...\n",
      "15165                              ışık seviyesi rezalet          14\n",
      "15166  Hic begenmedim. Aydinlatma hic yok ve her kapa...           0\n",
      "15167          2 gün sonra hoparlörü bozuldu kullanışsız           2\n",
      "15168  aşırı boğuk bir sesi ve rengi var kumanda heme...          23\n",
      "15169     Kumanda çok kalitesiz verdiğiniz paraya değmez           4\n",
      "\n",
      "[15170 rows x 2 columns]\n"
=======
   "execution_count": 22,
   "metadata": {},
   "outputs": [
    {
     "ename": "KeyboardInterrupt",
     "evalue": "",
     "output_type": "error",
     "traceback": [
      "\u001b[1;31m---------------------------------------------------------------------------\u001b[0m",
      "\u001b[1;31mKeyboardInterrupt\u001b[0m                         Traceback (most recent call last)",
      "Cell \u001b[1;32mIn[22], line 2\u001b[0m\n\u001b[0;32m      1\u001b[0m \u001b[38;5;66;03m# LDA Model Eğitimi\u001b[39;00m\n\u001b[1;32m----> 2\u001b[0m lda_model_genis \u001b[38;5;241m=\u001b[39m \u001b[43mgensim\u001b[49m\u001b[38;5;241;43m.\u001b[39;49m\u001b[43mmodels\u001b[49m\u001b[38;5;241;43m.\u001b[39;49m\u001b[43mldamodel\u001b[49m\u001b[38;5;241;43m.\u001b[39;49m\u001b[43mLdaModel\u001b[49m\u001b[43m(\u001b[49m\u001b[43mcorpus\u001b[49m\u001b[38;5;241;43m=\u001b[39;49m\u001b[43mdokuman_terim_matrisi\u001b[49m\u001b[43m,\u001b[49m\n\u001b[0;32m      3\u001b[0m \u001b[43m                                                  \u001b[49m\u001b[43mid2word\u001b[49m\u001b[38;5;241;43m=\u001b[39;49m\u001b[43mkelime_listesi\u001b[49m\u001b[43m,\u001b[49m\n\u001b[0;32m      4\u001b[0m \u001b[43m                                                  \u001b[49m\u001b[43mnum_topics\u001b[49m\u001b[38;5;241;43m=\u001b[39;49m\u001b[38;5;241;43m30\u001b[39;49m\u001b[43m,\u001b[49m\u001b[43m  \u001b[49m\u001b[38;5;66;43;03m# Daha geniş bir konu sayısı\u001b[39;49;00m\n\u001b[0;32m      5\u001b[0m \u001b[43m                                                  \u001b[49m\u001b[43mpasses\u001b[49m\u001b[38;5;241;43m=\u001b[39;49m\u001b[38;5;241;43m10\u001b[39;49m\u001b[43m)\u001b[49m\n\u001b[0;32m      7\u001b[0m \u001b[38;5;66;03m# Oluşturulan soyut konular içinde en fazla bulunan terimler\u001b[39;00m\n\u001b[0;32m      8\u001b[0m konular_genis \u001b[38;5;241m=\u001b[39m lda_model_genis\u001b[38;5;241m.\u001b[39mprint_topics(num_words\u001b[38;5;241m=\u001b[39m\u001b[38;5;241m7\u001b[39m)\n",
      "File \u001b[1;32mc:\\Users\\Gülseren\\AppData\\Local\\Programs\\Python\\Python311\\Lib\\site-packages\\gensim\\models\\ldamodel.py:521\u001b[0m, in \u001b[0;36mLdaModel.__init__\u001b[1;34m(self, corpus, num_topics, id2word, distributed, chunksize, passes, update_every, alpha, eta, decay, offset, eval_every, iterations, gamma_threshold, minimum_probability, random_state, ns_conf, minimum_phi_value, per_word_topics, callbacks, dtype)\u001b[0m\n\u001b[0;32m    519\u001b[0m use_numpy \u001b[38;5;241m=\u001b[39m \u001b[38;5;28mself\u001b[39m\u001b[38;5;241m.\u001b[39mdispatcher \u001b[38;5;129;01mis\u001b[39;00m \u001b[38;5;129;01mnot\u001b[39;00m \u001b[38;5;28;01mNone\u001b[39;00m\n\u001b[0;32m    520\u001b[0m start \u001b[38;5;241m=\u001b[39m time\u001b[38;5;241m.\u001b[39mtime()\n\u001b[1;32m--> 521\u001b[0m \u001b[38;5;28;43mself\u001b[39;49m\u001b[38;5;241;43m.\u001b[39;49m\u001b[43mupdate\u001b[49m\u001b[43m(\u001b[49m\u001b[43mcorpus\u001b[49m\u001b[43m,\u001b[49m\u001b[43m \u001b[49m\u001b[43mchunks_as_numpy\u001b[49m\u001b[38;5;241;43m=\u001b[39;49m\u001b[43muse_numpy\u001b[49m\u001b[43m)\u001b[49m\n\u001b[0;32m    522\u001b[0m \u001b[38;5;28mself\u001b[39m\u001b[38;5;241m.\u001b[39madd_lifecycle_event(\n\u001b[0;32m    523\u001b[0m     \u001b[38;5;124m\"\u001b[39m\u001b[38;5;124mcreated\u001b[39m\u001b[38;5;124m\"\u001b[39m,\n\u001b[0;32m    524\u001b[0m     msg\u001b[38;5;241m=\u001b[39m\u001b[38;5;124mf\u001b[39m\u001b[38;5;124m\"\u001b[39m\u001b[38;5;124mtrained \u001b[39m\u001b[38;5;132;01m{\u001b[39;00m\u001b[38;5;28mself\u001b[39m\u001b[38;5;132;01m}\u001b[39;00m\u001b[38;5;124m in \u001b[39m\u001b[38;5;132;01m{\u001b[39;00mtime\u001b[38;5;241m.\u001b[39mtime()\u001b[38;5;250m \u001b[39m\u001b[38;5;241m-\u001b[39m\u001b[38;5;250m \u001b[39mstart\u001b[38;5;132;01m:\u001b[39;00m\u001b[38;5;124m.2f\u001b[39m\u001b[38;5;132;01m}\u001b[39;00m\u001b[38;5;124ms\u001b[39m\u001b[38;5;124m\"\u001b[39m,\n\u001b[0;32m    525\u001b[0m )\n",
      "File \u001b[1;32mc:\\Users\\Gülseren\\AppData\\Local\\Programs\\Python\\Python311\\Lib\\site-packages\\gensim\\models\\ldamodel.py:991\u001b[0m, in \u001b[0;36mLdaModel.update\u001b[1;34m(self, corpus, chunksize, decay, offset, passes, update_every, eval_every, iterations, gamma_threshold, chunks_as_numpy)\u001b[0m\n\u001b[0;32m    988\u001b[0m reallen \u001b[38;5;241m+\u001b[39m\u001b[38;5;241m=\u001b[39m \u001b[38;5;28mlen\u001b[39m(chunk)  \u001b[38;5;66;03m# keep track of how many documents we've processed so far\u001b[39;00m\n\u001b[0;32m    990\u001b[0m \u001b[38;5;28;01mif\u001b[39;00m eval_every \u001b[38;5;129;01mand\u001b[39;00m ((reallen \u001b[38;5;241m==\u001b[39m lencorpus) \u001b[38;5;129;01mor\u001b[39;00m ((chunk_no \u001b[38;5;241m+\u001b[39m \u001b[38;5;241m1\u001b[39m) \u001b[38;5;241m%\u001b[39m (eval_every \u001b[38;5;241m*\u001b[39m \u001b[38;5;28mself\u001b[39m\u001b[38;5;241m.\u001b[39mnumworkers) \u001b[38;5;241m==\u001b[39m \u001b[38;5;241m0\u001b[39m)):\n\u001b[1;32m--> 991\u001b[0m     \u001b[38;5;28;43mself\u001b[39;49m\u001b[38;5;241;43m.\u001b[39;49m\u001b[43mlog_perplexity\u001b[49m\u001b[43m(\u001b[49m\u001b[43mchunk\u001b[49m\u001b[43m,\u001b[49m\u001b[43m \u001b[49m\u001b[43mtotal_docs\u001b[49m\u001b[38;5;241;43m=\u001b[39;49m\u001b[43mlencorpus\u001b[49m\u001b[43m)\u001b[49m\n\u001b[0;32m    993\u001b[0m \u001b[38;5;28;01mif\u001b[39;00m \u001b[38;5;28mself\u001b[39m\u001b[38;5;241m.\u001b[39mdispatcher:\n\u001b[0;32m    994\u001b[0m     \u001b[38;5;66;03m# add the chunk to dispatcher's job queue, so workers can munch on it\u001b[39;00m\n\u001b[0;32m    995\u001b[0m     logger\u001b[38;5;241m.\u001b[39minfo(\n\u001b[0;32m    996\u001b[0m         \u001b[38;5;124m\"\u001b[39m\u001b[38;5;124mPROGRESS: pass \u001b[39m\u001b[38;5;132;01m%i\u001b[39;00m\u001b[38;5;124m, dispatching documents up to #\u001b[39m\u001b[38;5;132;01m%i\u001b[39;00m\u001b[38;5;124m/\u001b[39m\u001b[38;5;132;01m%i\u001b[39;00m\u001b[38;5;124m\"\u001b[39m,\n\u001b[0;32m    997\u001b[0m         pass_, chunk_no \u001b[38;5;241m*\u001b[39m chunksize \u001b[38;5;241m+\u001b[39m \u001b[38;5;28mlen\u001b[39m(chunk), lencorpus\n\u001b[0;32m    998\u001b[0m     )\n",
      "File \u001b[1;32mc:\\Users\\Gülseren\\AppData\\Local\\Programs\\Python\\Python311\\Lib\\site-packages\\gensim\\models\\ldamodel.py:847\u001b[0m, in \u001b[0;36mLdaModel.log_perplexity\u001b[1;34m(self, chunk, total_docs)\u001b[0m\n\u001b[0;32m    845\u001b[0m corpus_words \u001b[38;5;241m=\u001b[39m \u001b[38;5;28msum\u001b[39m(cnt \u001b[38;5;28;01mfor\u001b[39;00m document \u001b[38;5;129;01min\u001b[39;00m chunk \u001b[38;5;28;01mfor\u001b[39;00m _, cnt \u001b[38;5;129;01min\u001b[39;00m document)\n\u001b[0;32m    846\u001b[0m subsample_ratio \u001b[38;5;241m=\u001b[39m \u001b[38;5;241m1.0\u001b[39m \u001b[38;5;241m*\u001b[39m total_docs \u001b[38;5;241m/\u001b[39m \u001b[38;5;28mlen\u001b[39m(chunk)\n\u001b[1;32m--> 847\u001b[0m perwordbound \u001b[38;5;241m=\u001b[39m \u001b[38;5;28;43mself\u001b[39;49m\u001b[38;5;241;43m.\u001b[39;49m\u001b[43mbound\u001b[49m\u001b[43m(\u001b[49m\u001b[43mchunk\u001b[49m\u001b[43m,\u001b[49m\u001b[43m \u001b[49m\u001b[43msubsample_ratio\u001b[49m\u001b[38;5;241;43m=\u001b[39;49m\u001b[43msubsample_ratio\u001b[49m\u001b[43m)\u001b[49m \u001b[38;5;241m/\u001b[39m (subsample_ratio \u001b[38;5;241m*\u001b[39m corpus_words)\n\u001b[0;32m    848\u001b[0m logger\u001b[38;5;241m.\u001b[39minfo(\n\u001b[0;32m    849\u001b[0m     \u001b[38;5;124m\"\u001b[39m\u001b[38;5;132;01m%.3f\u001b[39;00m\u001b[38;5;124m per-word bound, \u001b[39m\u001b[38;5;132;01m%.1f\u001b[39;00m\u001b[38;5;124m perplexity estimate based on a held-out corpus of \u001b[39m\u001b[38;5;132;01m%i\u001b[39;00m\u001b[38;5;124m documents with \u001b[39m\u001b[38;5;132;01m%i\u001b[39;00m\u001b[38;5;124m words\u001b[39m\u001b[38;5;124m\"\u001b[39m,\n\u001b[0;32m    850\u001b[0m     perwordbound, np\u001b[38;5;241m.\u001b[39mexp2(\u001b[38;5;241m-\u001b[39mperwordbound), \u001b[38;5;28mlen\u001b[39m(chunk), corpus_words\n\u001b[0;32m    851\u001b[0m )\n\u001b[0;32m    852\u001b[0m \u001b[38;5;28;01mreturn\u001b[39;00m perwordbound\n",
      "File \u001b[1;32mc:\\Users\\Gülseren\\AppData\\Local\\Programs\\Python\\Python311\\Lib\\site-packages\\gensim\\models\\ldamodel.py:1113\u001b[0m, in \u001b[0;36mLdaModel.bound\u001b[1;34m(self, corpus, gamma, subsample_ratio)\u001b[0m\n\u001b[0;32m   1111\u001b[0m     logger\u001b[38;5;241m.\u001b[39mdebug(\u001b[38;5;124m\"\u001b[39m\u001b[38;5;124mbound: at document #\u001b[39m\u001b[38;5;132;01m%i\u001b[39;00m\u001b[38;5;124m\"\u001b[39m, d)\n\u001b[0;32m   1112\u001b[0m \u001b[38;5;28;01mif\u001b[39;00m gamma \u001b[38;5;129;01mis\u001b[39;00m \u001b[38;5;28;01mNone\u001b[39;00m:\n\u001b[1;32m-> 1113\u001b[0m     gammad, _ \u001b[38;5;241m=\u001b[39m \u001b[38;5;28;43mself\u001b[39;49m\u001b[38;5;241;43m.\u001b[39;49m\u001b[43minference\u001b[49m\u001b[43m(\u001b[49m\u001b[43m[\u001b[49m\u001b[43mdoc\u001b[49m\u001b[43m]\u001b[49m\u001b[43m)\u001b[49m\n\u001b[0;32m   1114\u001b[0m \u001b[38;5;28;01melse\u001b[39;00m:\n\u001b[0;32m   1115\u001b[0m     gammad \u001b[38;5;241m=\u001b[39m gamma[d]\n",
      "File \u001b[1;32mc:\\Users\\Gülseren\\AppData\\Local\\Programs\\Python\\Python311\\Lib\\site-packages\\gensim\\models\\ldamodel.py:719\u001b[0m, in \u001b[0;36mLdaModel.inference\u001b[1;34m(self, chunk, collect_sstats)\u001b[0m\n\u001b[0;32m    715\u001b[0m lastgamma \u001b[38;5;241m=\u001b[39m gammad\n\u001b[0;32m    716\u001b[0m \u001b[38;5;66;03m# We represent phi implicitly to save memory and time.\u001b[39;00m\n\u001b[0;32m    717\u001b[0m \u001b[38;5;66;03m# Substituting the value of the optimal phi back into\u001b[39;00m\n\u001b[0;32m    718\u001b[0m \u001b[38;5;66;03m# the update for gamma gives this update. Cf. Lee&Seung 2001.\u001b[39;00m\n\u001b[1;32m--> 719\u001b[0m gammad \u001b[38;5;241m=\u001b[39m \u001b[38;5;28mself\u001b[39m\u001b[38;5;241m.\u001b[39malpha \u001b[38;5;241m+\u001b[39m expElogthetad \u001b[38;5;241m*\u001b[39m \u001b[43mnp\u001b[49m\u001b[38;5;241;43m.\u001b[39;49m\u001b[43mdot\u001b[49m\u001b[43m(\u001b[49m\u001b[43mcts\u001b[49m\u001b[43m \u001b[49m\u001b[38;5;241;43m/\u001b[39;49m\u001b[43m \u001b[49m\u001b[43mphinorm\u001b[49m\u001b[43m,\u001b[49m\u001b[43m \u001b[49m\u001b[43mexpElogbetad\u001b[49m\u001b[38;5;241;43m.\u001b[39;49m\u001b[43mT\u001b[49m\u001b[43m)\u001b[49m\n\u001b[0;32m    720\u001b[0m Elogthetad \u001b[38;5;241m=\u001b[39m dirichlet_expectation(gammad)\n\u001b[0;32m    721\u001b[0m expElogthetad \u001b[38;5;241m=\u001b[39m np\u001b[38;5;241m.\u001b[39mexp(Elogthetad)\n",
      "\u001b[1;31mKeyboardInterrupt\u001b[0m: "
>>>>>>> eebd97fc75e9f9ef7915fa8cba7dde2ef691af1f
     ]
    }
   ],
   "source": [
    "# LDA Model Eğitimi\n",
    "lda_model_genis = gensim.models.ldamodel.LdaModel(corpus=dokuman_terim_matrisi,\n",
    "                                                  id2word=kelime_listesi,\n",
    "                                                  num_topics=30,  # Daha geniş bir konu sayısı\n",
    "                                                  passes=10)\n",
    "\n",
    "# Oluşturulan soyut konular içinde en fazla bulunan terimler\n",
    "konular_genis = lda_model_genis.print_topics(num_words=7)\n",
    "for konu in konular_genis:\n",
    "    print(konu)\n",
    "def konu_etiketle(yorum_metni):\n",
    "    temizlenmis_metin = veriTemizleme(yorum_metni)\n",
    "    tokenlasmis_metin = temizlenmis_metin.split()\n",
    "    dokuman_terim = kelime_listesi.doc2bow(tokenlasmis_metin)\n",
    "    konu_prob = lda_model_genis[dokuman_terim]\n",
    "    en_uygun_konu = max(konu_prob, key=lambda item: item[1])[0]\n",
    "    return en_uygun_konu\n",
    "\n",
    "# Her yorumun konusunu etiketleme\n",
    "yorum_veriseti[\"Yorum_Konu\"] = yorum_veriseti[\"Metin\"].apply(konu_etiketle)\n",
    "print(yorum_veriseti[[\"Metin\", \"Yorum_Konu\"]])"
   ]
  },
  {
   "cell_type": "code",
<<<<<<< HEAD
   "execution_count": 26,
=======
   "execution_count": 20,
>>>>>>> eebd97fc75e9f9ef7915fa8cba7dde2ef691af1f
   "metadata": {},
   "outputs": [
    {
     "ename": "KeyboardInterrupt",
     "evalue": "",
     "output_type": "error",
     "traceback": [
      "\u001b[1;31m---------------------------------------------------------------------------\u001b[0m",
      "\u001b[1;31mKeyboardInterrupt\u001b[0m                         Traceback (most recent call last)",
      "Cell \u001b[1;32mIn[20], line 2\u001b[0m\n\u001b[0;32m      1\u001b[0m \u001b[38;5;66;03m#LDA MODEL\u001b[39;00m\n\u001b[1;32m----> 2\u001b[0m lda_model \u001b[38;5;241m=\u001b[39m \u001b[43mgensim\u001b[49m\u001b[38;5;241;43m.\u001b[39;49m\u001b[43mmodels\u001b[49m\u001b[38;5;241;43m.\u001b[39;49m\u001b[43mldamodel\u001b[49m\u001b[38;5;241;43m.\u001b[39;49m\u001b[43mLdaModel\u001b[49m\u001b[43m(\u001b[49m\u001b[43mcorpus\u001b[49m\u001b[43m \u001b[49m\u001b[38;5;241;43m=\u001b[39;49m\u001b[43m \u001b[49m\u001b[43mdokuman_terim_matrisi\u001b[49m\u001b[43m,\u001b[49m\n\u001b[0;32m      3\u001b[0m \u001b[43m                                            \u001b[49m\u001b[43mid2word\u001b[49m\u001b[43m \u001b[49m\u001b[38;5;241;43m=\u001b[39;49m\u001b[43m \u001b[49m\u001b[43mkelime_listesi\u001b[49m\u001b[43m,\u001b[49m\n\u001b[0;32m      4\u001b[0m \u001b[43m                                            \u001b[49m\u001b[43mnum_topics\u001b[49m\u001b[43m \u001b[49m\u001b[38;5;241;43m=\u001b[39;49m\u001b[43m \u001b[49m\u001b[38;5;241;43m30\u001b[39;49m\u001b[43m,\u001b[49m\n\u001b[0;32m      5\u001b[0m \u001b[43m                                            \u001b[49m\u001b[43mpasses\u001b[49m\u001b[43m \u001b[49m\u001b[38;5;241;43m=\u001b[39;49m\u001b[43m \u001b[49m\u001b[38;5;241;43m10\u001b[39;49m\u001b[43m)\u001b[49m\n",
      "File \u001b[1;32mc:\\Users\\Gülseren\\AppData\\Local\\Programs\\Python\\Python311\\Lib\\site-packages\\gensim\\models\\ldamodel.py:521\u001b[0m, in \u001b[0;36mLdaModel.__init__\u001b[1;34m(self, corpus, num_topics, id2word, distributed, chunksize, passes, update_every, alpha, eta, decay, offset, eval_every, iterations, gamma_threshold, minimum_probability, random_state, ns_conf, minimum_phi_value, per_word_topics, callbacks, dtype)\u001b[0m\n\u001b[0;32m    519\u001b[0m use_numpy \u001b[38;5;241m=\u001b[39m \u001b[38;5;28mself\u001b[39m\u001b[38;5;241m.\u001b[39mdispatcher \u001b[38;5;129;01mis\u001b[39;00m \u001b[38;5;129;01mnot\u001b[39;00m \u001b[38;5;28;01mNone\u001b[39;00m\n\u001b[0;32m    520\u001b[0m start \u001b[38;5;241m=\u001b[39m time\u001b[38;5;241m.\u001b[39mtime()\n\u001b[1;32m--> 521\u001b[0m \u001b[38;5;28;43mself\u001b[39;49m\u001b[38;5;241;43m.\u001b[39;49m\u001b[43mupdate\u001b[49m\u001b[43m(\u001b[49m\u001b[43mcorpus\u001b[49m\u001b[43m,\u001b[49m\u001b[43m \u001b[49m\u001b[43mchunks_as_numpy\u001b[49m\u001b[38;5;241;43m=\u001b[39;49m\u001b[43muse_numpy\u001b[49m\u001b[43m)\u001b[49m\n\u001b[0;32m    522\u001b[0m \u001b[38;5;28mself\u001b[39m\u001b[38;5;241m.\u001b[39madd_lifecycle_event(\n\u001b[0;32m    523\u001b[0m     \u001b[38;5;124m\"\u001b[39m\u001b[38;5;124mcreated\u001b[39m\u001b[38;5;124m\"\u001b[39m,\n\u001b[0;32m    524\u001b[0m     msg\u001b[38;5;241m=\u001b[39m\u001b[38;5;124mf\u001b[39m\u001b[38;5;124m\"\u001b[39m\u001b[38;5;124mtrained \u001b[39m\u001b[38;5;132;01m{\u001b[39;00m\u001b[38;5;28mself\u001b[39m\u001b[38;5;132;01m}\u001b[39;00m\u001b[38;5;124m in \u001b[39m\u001b[38;5;132;01m{\u001b[39;00mtime\u001b[38;5;241m.\u001b[39mtime()\u001b[38;5;250m \u001b[39m\u001b[38;5;241m-\u001b[39m\u001b[38;5;250m \u001b[39mstart\u001b[38;5;132;01m:\u001b[39;00m\u001b[38;5;124m.2f\u001b[39m\u001b[38;5;132;01m}\u001b[39;00m\u001b[38;5;124ms\u001b[39m\u001b[38;5;124m\"\u001b[39m,\n\u001b[0;32m    525\u001b[0m )\n",
      "File \u001b[1;32mc:\\Users\\Gülseren\\AppData\\Local\\Programs\\Python\\Python311\\Lib\\site-packages\\gensim\\models\\ldamodel.py:1006\u001b[0m, in \u001b[0;36mLdaModel.update\u001b[1;34m(self, corpus, chunksize, decay, offset, passes, update_every, eval_every, iterations, gamma_threshold, chunks_as_numpy)\u001b[0m\n\u001b[0;32m   1001\u001b[0m \u001b[38;5;28;01melse\u001b[39;00m:\n\u001b[0;32m   1002\u001b[0m     logger\u001b[38;5;241m.\u001b[39minfo(\n\u001b[0;32m   1003\u001b[0m         \u001b[38;5;124m\"\u001b[39m\u001b[38;5;124mPROGRESS: pass \u001b[39m\u001b[38;5;132;01m%i\u001b[39;00m\u001b[38;5;124m, at document #\u001b[39m\u001b[38;5;132;01m%i\u001b[39;00m\u001b[38;5;124m/\u001b[39m\u001b[38;5;132;01m%i\u001b[39;00m\u001b[38;5;124m\"\u001b[39m,\n\u001b[0;32m   1004\u001b[0m         pass_, chunk_no \u001b[38;5;241m*\u001b[39m chunksize \u001b[38;5;241m+\u001b[39m \u001b[38;5;28mlen\u001b[39m(chunk), lencorpus\n\u001b[0;32m   1005\u001b[0m     )\n\u001b[1;32m-> 1006\u001b[0m     gammat \u001b[38;5;241m=\u001b[39m \u001b[38;5;28;43mself\u001b[39;49m\u001b[38;5;241;43m.\u001b[39;49m\u001b[43mdo_estep\u001b[49m\u001b[43m(\u001b[49m\u001b[43mchunk\u001b[49m\u001b[43m,\u001b[49m\u001b[43m \u001b[49m\u001b[43mother\u001b[49m\u001b[43m)\u001b[49m\n\u001b[0;32m   1008\u001b[0m     \u001b[38;5;28;01mif\u001b[39;00m \u001b[38;5;28mself\u001b[39m\u001b[38;5;241m.\u001b[39moptimize_alpha:\n\u001b[0;32m   1009\u001b[0m         \u001b[38;5;28mself\u001b[39m\u001b[38;5;241m.\u001b[39mupdate_alpha(gammat, rho())\n",
      "File \u001b[1;32mc:\\Users\\Gülseren\\AppData\\Local\\Programs\\Python\\Python311\\Lib\\site-packages\\gensim\\models\\ldamodel.py:768\u001b[0m, in \u001b[0;36mLdaModel.do_estep\u001b[1;34m(self, chunk, state)\u001b[0m\n\u001b[0;32m    766\u001b[0m \u001b[38;5;28;01mif\u001b[39;00m state \u001b[38;5;129;01mis\u001b[39;00m \u001b[38;5;28;01mNone\u001b[39;00m:\n\u001b[0;32m    767\u001b[0m     state \u001b[38;5;241m=\u001b[39m \u001b[38;5;28mself\u001b[39m\u001b[38;5;241m.\u001b[39mstate\n\u001b[1;32m--> 768\u001b[0m gamma, sstats \u001b[38;5;241m=\u001b[39m \u001b[38;5;28;43mself\u001b[39;49m\u001b[38;5;241;43m.\u001b[39;49m\u001b[43minference\u001b[49m\u001b[43m(\u001b[49m\u001b[43mchunk\u001b[49m\u001b[43m,\u001b[49m\u001b[43m \u001b[49m\u001b[43mcollect_sstats\u001b[49m\u001b[38;5;241;43m=\u001b[39;49m\u001b[38;5;28;43;01mTrue\u001b[39;49;00m\u001b[43m)\u001b[49m\n\u001b[0;32m    769\u001b[0m state\u001b[38;5;241m.\u001b[39msstats \u001b[38;5;241m+\u001b[39m\u001b[38;5;241m=\u001b[39m sstats\n\u001b[0;32m    770\u001b[0m state\u001b[38;5;241m.\u001b[39mnumdocs \u001b[38;5;241m+\u001b[39m\u001b[38;5;241m=\u001b[39m gamma\u001b[38;5;241m.\u001b[39mshape[\u001b[38;5;241m0\u001b[39m]  \u001b[38;5;66;03m# avoids calling len(chunk) on a generator\u001b[39;00m\n",
      "File \u001b[1;32mc:\\Users\\Gülseren\\AppData\\Local\\Programs\\Python\\Python311\\Lib\\site-packages\\gensim\\models\\ldamodel.py:733\u001b[0m, in \u001b[0;36mLdaModel.inference\u001b[1;34m(self, chunk, collect_sstats)\u001b[0m\n\u001b[0;32m    729\u001b[0m     \u001b[38;5;28;01massert\u001b[39;00m gammad\u001b[38;5;241m.\u001b[39mdtype \u001b[38;5;241m==\u001b[39m \u001b[38;5;28mself\u001b[39m\u001b[38;5;241m.\u001b[39mdtype\n\u001b[0;32m    730\u001b[0m     \u001b[38;5;28;01mif\u001b[39;00m collect_sstats:\n\u001b[0;32m    731\u001b[0m         \u001b[38;5;66;03m# Contribution of document d to the expected sufficient\u001b[39;00m\n\u001b[0;32m    732\u001b[0m         \u001b[38;5;66;03m# statistics for the M step.\u001b[39;00m\n\u001b[1;32m--> 733\u001b[0m         \u001b[43msstats\u001b[49m\u001b[43m[\u001b[49m\u001b[43m:\u001b[49m\u001b[43m,\u001b[49m\u001b[43m \u001b[49m\u001b[43mids\u001b[49m\u001b[43m]\u001b[49m \u001b[38;5;241m+\u001b[39m\u001b[38;5;241m=\u001b[39m np\u001b[38;5;241m.\u001b[39mouter(expElogthetad\u001b[38;5;241m.\u001b[39mT, cts \u001b[38;5;241m/\u001b[39m phinorm)\n\u001b[0;32m    735\u001b[0m \u001b[38;5;28;01mif\u001b[39;00m \u001b[38;5;28mlen\u001b[39m(chunk) \u001b[38;5;241m>\u001b[39m \u001b[38;5;241m1\u001b[39m:\n\u001b[0;32m    736\u001b[0m     logger\u001b[38;5;241m.\u001b[39mdebug(\u001b[38;5;124m\"\u001b[39m\u001b[38;5;132;01m%i\u001b[39;00m\u001b[38;5;124m/\u001b[39m\u001b[38;5;132;01m%i\u001b[39;00m\u001b[38;5;124m documents converged within \u001b[39m\u001b[38;5;132;01m%i\u001b[39;00m\u001b[38;5;124m iterations\u001b[39m\u001b[38;5;124m\"\u001b[39m, converged, \u001b[38;5;28mlen\u001b[39m(chunk), \u001b[38;5;28mself\u001b[39m\u001b[38;5;241m.\u001b[39miterations)\n",
      "\u001b[1;31mKeyboardInterrupt\u001b[0m: "
     ]
    }
   ],
   "source": [
    "#LDA MODEL\n",
    "lda_model = gensim.models.ldamodel.LdaModel(corpus = dokuman_terim_matrisi,\n",
    "                                            id2word = kelime_listesi,\n",
    "                                            num_topics = 30,\n",
    "                                            passes = 10)"
   ]
  },
  {
   "cell_type": "code",
<<<<<<< HEAD
   "execution_count": 27,
   "metadata": {},
   "outputs": [
    {
     "name": "stdout",
     "output_type": "stream",
     "text": [
      "                                                   Metin  Yorum_Konu\n",
      "0                                  evet anlatıldığı gibi          25\n",
      "1      Daha öncede almıştım bu cihazdan ense ve sakal...          25\n",
      "2      Ürün gayet başarılı sakal kesmede başlık sayıs...           0\n",
      "3      Daha öncede aynısını almıştım çok güzel ve kal...           0\n",
      "4      Erkek kuaförüyüm ense ve sıfır sakal traşı içi...           4\n",
      "...                                                  ...         ...\n",
      "15165                              ışık seviyesi rezalet           9\n",
      "15166  Hic begenmedim. Aydinlatma hic yok ve her kapa...          11\n",
      "15167          2 gün sonra hoparlörü bozuldu kullanışsız          14\n",
      "15168  aşırı boğuk bir sesi ve rengi var kumanda heme...          14\n",
      "15169     Kumanda çok kalitesiz verdiğiniz paraya değmez          29\n",
      "\n",
      "[15170 rows x 2 columns]\n"
=======
   "execution_count": 21,
   "metadata": {},
   "outputs": [
    {
     "ename": "NameError",
     "evalue": "name 'lda_model' is not defined",
     "output_type": "error",
     "traceback": [
      "\u001b[1;31m---------------------------------------------------------------------------\u001b[0m",
      "\u001b[1;31mNameError\u001b[0m                                 Traceback (most recent call last)",
      "Cell \u001b[1;32mIn[21], line 4\u001b[0m\n\u001b[0;32m      2\u001b[0m yorum_konulari \u001b[38;5;241m=\u001b[39m []\n\u001b[0;32m      3\u001b[0m \u001b[38;5;28;01mfor\u001b[39;00m i \u001b[38;5;129;01min\u001b[39;00m \u001b[38;5;28mrange\u001b[39m(\u001b[38;5;28mlen\u001b[39m(dokuman_terim_matrisi)):\n\u001b[1;32m----> 4\u001b[0m     konu_prob \u001b[38;5;241m=\u001b[39m \u001b[43mlda_model\u001b[49m[dokuman_terim_matrisi[i]]\n\u001b[0;32m      5\u001b[0m     en_uygun_konu \u001b[38;5;241m=\u001b[39m \u001b[38;5;28mmax\u001b[39m(konu_prob, key\u001b[38;5;241m=\u001b[39m\u001b[38;5;28;01mlambda\u001b[39;00m item: item[\u001b[38;5;241m1\u001b[39m])[\u001b[38;5;241m0\u001b[39m]\n\u001b[0;32m      6\u001b[0m     yorum_konulari\u001b[38;5;241m.\u001b[39mappend(en_uygun_konu)\n",
      "\u001b[1;31mNameError\u001b[0m: name 'lda_model' is not defined"
>>>>>>> eebd97fc75e9f9ef7915fa8cba7dde2ef691af1f
     ]
    }
   ],
   "source": [
    "# Her yorumun en uygun konusuyla ilişkilendirildiği bir dizi oluşturma\n",
    "yorum_konulari = []\n",
    "for i in range(len(dokuman_terim_matrisi)):\n",
    "    konu_prob = lda_model[dokuman_terim_matrisi[i]]\n",
    "    en_uygun_konu = max(konu_prob, key=lambda item: item[1])[0]\n",
    "    yorum_konulari.append(en_uygun_konu)\n",
    "\n",
    "# Oluşturulan diziye uygun bir sütun ekleme\n",
    "yorum_veriseti[\"Yorum_Konu\"] = yorum_konulari\n",
    "\n",
    "# Her yorumun konu sütunuyla birlikte görüntülenmesi\n",
    "print(yorum_veriseti[[\"Metin\", \"Yorum_Konu\"]])"
   ]
  },
  {
   "cell_type": "code",
<<<<<<< HEAD
   "execution_count": 28,
=======
   "execution_count": null,
>>>>>>> eebd97fc75e9f9ef7915fa8cba7dde2ef691af1f
   "metadata": {},
   "outputs": [],
   "source": [
    "# Tutarlılık (Coherence) skoru ile en iyi konu sayısı seçimi\n",
    "from gensim.models import CoherenceModel\n",
    "\n",
    "tutarlilik_skorlar_listesi = []\n",
    "konu_sayisi_listesi = []\n",
    "konu_sayisi_aralik_listesi = [5, 10, 15, 20, 25]\n",
    "\n",
    "for konu_sayisi in konu_sayisi_aralik_listesi:\n",
    "    lda_model = gensim.models.ldamodel.LdaModel(corpus=dokuman_terim_matrisi,\n",
    "                                                id2word=kelime_listesi,\n",
    "                                                num_topics=konu_sayisi,\n",
    "                                                passes=10)\n",
    "\n",
    "    tutarlilik_model_lda = CoherenceModel(model=lda_model, texts=tokenlasmis_metinler,\n",
    "                                          dictionary=kelime_listesi, coherence='c_v')\n",
    "\n",
    "    gecici_tutarlilik_skoru_lda = tutarlilik_model_lda.get_coherence()\n",
    "    tutarlilik_skorlar_listesi.append(gecici_tutarlilik_skoru_lda)\n",
    "    konu_sayisi_listesi.append(konu_sayisi)"
   ]
  },
  {
   "cell_type": "code",
<<<<<<< HEAD
   "execution_count": 29,
=======
   "execution_count": null,
>>>>>>> eebd97fc75e9f9ef7915fa8cba7dde2ef691af1f
   "metadata": {},
   "outputs": [
    {
     "name": "stdout",
     "output_type": "stream",
     "text": [
      "[5, 10, 15, 20, 25]\n",
      "[0.412712148884334, 0.373409051585205, 0.37565335488943624, 0.3705239583405711, 0.3972571546529614]\n"
     ]
    },
    {
     "data": {
      "text/plain": [
       "<function matplotlib.pyplot.show(close=None, block=None)>"
      ]
     },
     "execution_count": 29,
     "metadata": {},
     "output_type": "execute_result"
    },
    {
     "data": {
      "image/png": "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",
      "text/plain": [
       "<Figure size 640x480 with 1 Axes>"
      ]
     },
     "metadata": {},
     "output_type": "display_data"
    }
   ],
   "source": [
    "#Tutarlılık skoru görselleştirme\n",
    "import matplotlib.pyplot as plt\n",
    "\n",
    "plt.plot(konu_sayisi_listesi, tutarlilik_skorlar_listesi,\"-\")\n",
    "print(konu_sayisi_listesi)\n",
    "print(tutarlilik_skorlar_listesi)\n",
    "plt.xlabel(\"Konu Sayıları\")\n",
    "plt.ylabel(\"Tutarlılık Skorları\")\n",
    "\n",
    "plt.show"
   ]
  },
  {
   "cell_type": "code",
<<<<<<< HEAD
   "execution_count": 30,
=======
   "execution_count": null,
>>>>>>> eebd97fc75e9f9ef7915fa8cba7dde2ef691af1f
   "metadata": {},
   "outputs": [
    {
     "name": "stdout",
     "output_type": "stream",
     "text": [
      "(0, '0.137*\"berbat\" + 0.083*\"asla\" + 0.060*\"ince\" + 0.059*\"yeri\" + 0.054*\"beğendim\" + 0.033*\"hayal\" + 0.025*\"yırtık\"')\n",
      "(1, '0.056*\"çalışmıyor\" + 0.054*\"ayrıca\" + 0.048*\"rahat\" + 0.045*\"kısmı\" + 0.042*\"değil\" + 0.042*\"maalesef\" + 0.033*\"almayin\"')\n",
      "(2, '0.052*\"hic\" + 0.051*\"şarjı\" + 0.050*\"çabuk\" + 0.046*\"böyle\" + 0.040*\"bitiyor\" + 0.034*\"malesef\" + 0.028*\"yok\"')\n",
      "(4, '0.115*\"kesinlikle\" + 0.097*\"tavsiye\" + 0.090*\"etmem\" + 0.068*\"basit\" + 0.054*\"ediyorum\" + 0.052*\"renk\" + 0.018*\"mi\"')\n",
      "(6, '0.106*\"siyah\" + 0.076*\"kalite\" + 0.046*\"ışık\" + 0.037*\"olan\" + 0.035*\"yorumlara\" + 0.032*\"olarak\" + 0.030*\"aldım\"')\n",
      "(7, '0.100*\"iade\" + 0.058*\"ürün\" + 0.054*\"yok\" + 0.047*\"geldi\" + 0.042*\"ettim\" + 0.034*\"geri\" + 0.030*\"sipariş\"')\n",
      "(9, '0.107*\"etmiyorum\" + 0.087*\"tavsiye\" + 0.067*\"ürün\" + 0.064*\"para\" + 0.049*\"harika\" + 0.040*\"kesinlikle\" + 0.030*\"etmez\"')\n",
      "(10, '0.153*\"almayın\" + 0.126*\"göre\" + 0.115*\"iyi\" + 0.084*\"fiyatına\" + 0.050*\"ürün\" + 0.040*\"sakın\" + 0.036*\"fiyata\"')\n",
      "(11, '0.074*\"teşekkürler\" + 0.047*\"iş\" + 0.040*\"trendyol\" + 0.031*\"boyutu\" + 0.030*\"ideal\" + 0.029*\"görseldeki\" + 0.029*\"beğendik\"')\n",
      "(13, '0.167*\"değil\" + 0.112*\"kalitesi\" + 0.097*\"ses\" + 0.054*\"iyi\" + 0.052*\"aşırı\" + 0.030*\"pek\" + 0.030*\"sürekli\"')\n",
      "(14, '0.095*\"ederim\" + 0.092*\"tavsiye\" + 0.052*\"tane\" + 0.052*\"farklı\" + 0.035*\"pişman\" + 0.034*\"oldum\" + 0.031*\"rengi\"')\n",
      "(15, '0.141*\"kötü\" + 0.025*\"idare\" + 0.024*\"değil\" + 0.024*\"eder\" + 0.022*\"resmen\" + 0.019*\"plastik\" + 0.019*\"var\"')\n",
      "(17, '0.077*\"sert\" + 0.055*\"zor\" + 0.052*\"çıkıyor\" + 0.043*\"dar\" + 0.037*\"kendi\" + 0.029*\"kullanımda\" + 0.028*\"gelmiyor\"')\n",
      "(18, '0.083*\"kullanışlı\" + 0.064*\"gerçekten\" + 0.043*\"baya\" + 0.024*\"ürün\" + 0.022*\"mükemmel\" + 0.020*\"yapılmış\" + 0.020*\"rağmen\"')\n",
      "(19, '0.135*\"hemen\" + 0.112*\"bozuldu\" + 0.066*\"tam\" + 0.060*\"alın\" + 0.044*\"edeceğim\" + 0.041*\"bişey\" + 0.038*\"istediğim\"')\n",
      "(20, '0.127*\"göründüğü\" + 0.076*\"değil\" + 0.061*\"memnun\" + 0.037*\"resimdeki\" + 0.036*\"kaldım\" + 0.034*\"çocuk\" + 0.032*\"geç\"')\n",
      "(21, '0.078*\"numara\" + 0.040*\"büyük\" + 0.029*\"sakal\" + 0.023*\"kısa\" + 0.023*\"sıfır\" + 0.021*\"iyi\" + 0.017*\"saç\"')\n",
      "(22, '0.061*\"degil\" + 0.052*\"fiyat\" + 0.049*\"sesi\" + 0.041*\"iyi\" + 0.040*\"ürünü\" + 0.030*\"performans\" + 0.027*\"başladı\"')\n",
      "(23, '0.169*\"cok\" + 0.087*\"urun\" + 0.052*\"guzel\" + 0.035*\"icin\" + 0.033*\"memnun\" + 0.028*\"aldım\" + 0.027*\"severek\"')\n",
      "(24, '0.154*\"geldi\" + 0.070*\"beğenmedim\" + 0.070*\"ürün\" + 0.050*\"gelmedi\" + 0.046*\"iade\" + 0.043*\"bile\" + 0.035*\"saat\"')\n"
     ]
    }
   ],
   "source": [
    "#Oluşturulan soyut konular içinde en fazla bulunan terimler\n",
    "\n",
    "konular = lda_model.print_topics(num_words=7)\n",
    "konular = sorted(konular, key= lambda x : x[0])\n",
    "for konu in konular:\n",
    "    print(konu)"
   ]
  },
  {
   "cell_type": "code",
<<<<<<< HEAD
   "execution_count": 33,
=======
   "execution_count": null,
>>>>>>> eebd97fc75e9f9ef7915fa8cba7dde2ef691af1f
   "metadata": {},
   "outputs": [
    {
     "name": "stdout",
     "output_type": "stream",
     "text": [
      "Sınıflandırma Raporu:\n",
      "              precision    recall  f1-score   support\n",
      "\n",
      "           0       0.91      0.93      0.92      1370\n",
      "           1       0.87      0.96      0.91      1384\n",
      "           2       0.61      0.24      0.34       280\n",
      "\n",
      "    accuracy                           0.88      3034\n",
      "   macro avg       0.80      0.71      0.73      3034\n",
      "weighted avg       0.87      0.88      0.86      3034\n",
      "\n",
      "Doğruluk (Accuracy): 0.8800263678312459\n"
     ]
    }
   ],
   "source": [
    "from sklearn.model_selection import train_test_split\n",
    "from sklearn.feature_extraction.text import CountVectorizer\n",
    "from sklearn.naive_bayes import MultinomialNB\n",
    "from sklearn.metrics import classification_report, accuracy_score\n",
    "\n",
    "# Örnek veri seti ve etiketleri\n",
    "X = df['Metin']\n",
    "y = df['Durum']  # 'Etiket' sütunu, sınıfları içermelidir.\n",
    "\n",
    "# Veriyi eğitim ve test setlerine bölme\n",
    "X_train, X_test, y_train, y_test = train_test_split(X, y, test_size=0.2, random_state=42)\n",
    "\n",
    "# Veriyi sayısal formata dönüştürme\n",
    "vectorizer = CountVectorizer()\n",
    "X_train_vec = vectorizer.fit_transform(X_train)\n",
    "X_test_vec = vectorizer.transform(X_test)\n",
    "\n",
    "# Naive Bayes sınıflandırma modelini eğitme\n",
    "model = MultinomialNB()\n",
    "model.fit(X_train_vec, y_train)\n",
    "\n",
    "# Test seti üzerinde tahmin yapma\n",
    "y_pred = model.predict(X_test_vec)\n",
    "\n",
    "# Sınıflandırma raporu ve doğruluk değeri\n",
    "print(\"Sınıflandırma Raporu:\")\n",
    "print(classification_report(y_test, y_pred))\n",
    "\n",
    "accuracy = accuracy_score(y_test, y_pred)\n",
    "print(f\"Doğruluk (Accuracy): {accuracy}\")"
   ]
  },
  {
   "cell_type": "code",
<<<<<<< HEAD
   "execution_count": 34,
=======
   "execution_count": null,
>>>>>>> eebd97fc75e9f9ef7915fa8cba7dde2ef691af1f
   "metadata": {},
   "outputs": [
    {
     "name": "stdout",
     "output_type": "stream",
     "text": [
      "Sınıflandırma Raporu:\n",
      "              precision    recall  f1-score   support\n",
      "\n",
      "           0       0.92      0.91      0.92      1370\n",
      "           1       0.91      0.95      0.93      1384\n",
      "           2       0.60      0.51      0.55       280\n",
      "\n",
      "    accuracy                           0.89      3034\n",
      "   macro avg       0.81      0.79      0.80      3034\n",
      "weighted avg       0.89      0.89      0.89      3034\n",
      "\n",
      "Doğruluk (Accuracy): 0.8915622940013184\n"
     ]
    },
    {
     "name": "stderr",
     "output_type": "stream",
     "text": [
      "c:\\Users\\lenovo\\AppData\\Local\\Programs\\Python\\Python310\\lib\\site-packages\\sklearn\\linear_model\\_logistic.py:458: ConvergenceWarning: lbfgs failed to converge (status=1):\n",
      "STOP: TOTAL NO. of ITERATIONS REACHED LIMIT.\n",
      "\n",
      "Increase the number of iterations (max_iter) or scale the data as shown in:\n",
      "    https://scikit-learn.org/stable/modules/preprocessing.html\n",
      "Please also refer to the documentation for alternative solver options:\n",
      "    https://scikit-learn.org/stable/modules/linear_model.html#logistic-regression\n",
      "  n_iter_i = _check_optimize_result(\n"
     ]
    }
   ],
   "source": [
    "from sklearn.model_selection import train_test_split\n",
    "from sklearn.feature_extraction.text import CountVectorizer\n",
    "from sklearn.linear_model import LogisticRegression\n",
    "from sklearn.metrics import classification_report, accuracy_score\n",
    "\n",
    "# Örnek veri seti ve etiketleri\n",
    "X = df['Metin']\n",
    "y = df['Durum']  # 'Etiket' sütunu, sınıfları içermelidir.\n",
    "\n",
    "# Veriyi eğitim ve test setlerine bölme\n",
    "X_train, X_test, y_train, y_test = train_test_split(X, y, test_size=0.2, random_state=42)\n",
    "\n",
    "# Veriyi sayısal formata dönüştürme\n",
    "vectorizer = CountVectorizer()\n",
    "X_train_vec = vectorizer.fit_transform(X_train)\n",
    "X_test_vec = vectorizer.transform(X_test)\n",
    "\n",
    "# LogisticRegression sınıflandırma modelini eğitme\n",
    "model = LogisticRegression()\n",
    "model.fit(X_train_vec, y_train)\n",
    "\n",
    "# Test seti üzerinde tahmin yapma\n",
    "y_pred = model.predict(X_test_vec)\n",
    "\n",
    "# Sınıflandırma raporu ve doğruluk değeri\n",
    "print(\"Sınıflandırma Raporu:\")\n",
    "print(classification_report(y_test, y_pred))\n",
    "\n",
    "accuracy = accuracy_score(y_test, y_pred)\n",
    "print(f\"Doğruluk (Accuracy): {accuracy}\")"
   ]
  },
  {
   "cell_type": "code",
<<<<<<< HEAD
   "execution_count": 35,
=======
   "execution_count": null,
>>>>>>> eebd97fc75e9f9ef7915fa8cba7dde2ef691af1f
   "metadata": {},
   "outputs": [
    {
     "name": "stdout",
     "output_type": "stream",
     "text": [
      "Sınıflandırma Raporu:\n",
      "              precision    recall  f1-score   support\n",
      "\n",
      "           0       0.91      0.93      0.92      1370\n",
      "           1       0.92      0.94      0.93      1384\n",
      "           2       0.61      0.50      0.55       280\n",
      "\n",
      "    accuracy                           0.89      3034\n",
      "   macro avg       0.81      0.79      0.80      3034\n",
      "weighted avg       0.89      0.89      0.89      3034\n",
      "\n",
      "Doğruluk (Accuracy): 0.8932102834541858\n"
     ]
    }
   ],
   "source": [
    "from sklearn.feature_extraction.text import TfidfVectorizer\n",
    "from sklearn.svm import SVC\n",
    "from sklearn.pipeline import make_pipeline\n",
    "from sklearn.model_selection import train_test_split\n",
    "from sklearn.metrics import classification_report, accuracy_score\n",
    "\n",
    "# Veriyi eğitim ve test setlerine bölme\n",
    "X_train, X_test, y_train, y_test = train_test_split(X, y, test_size=0.2, random_state=42)\n",
    "\n",
    "# TF-IDF vektörleştirici ve SVM sınıflandırıcıyı içeren bir pipeline oluşturun\n",
    "model = make_pipeline(TfidfVectorizer(), SVC(C=1.0, kernel='linear', gamma='auto'))\n",
    "\n",
    "# Modeli eğitin\n",
    "model.fit(X_train, y_train)\n",
    "\n",
    "# Test seti üzerinde tahmin yapın\n",
    "y_pred = model.predict(X_test)\n",
    "\n",
    "# Model performansını değerlendirin\n",
    "print(\"Sınıflandırma Raporu:\")\n",
    "print(classification_report(y_test, y_pred))\n",
    "\n",
    "accuracy = accuracy_score(y_test, y_pred)\n",
    "print(f\"Doğruluk (Accuracy): {accuracy}\")"
   ]
  },
  {
   "cell_type": "code",
<<<<<<< HEAD
   "execution_count": 36,
=======
   "execution_count": null,
>>>>>>> eebd97fc75e9f9ef7915fa8cba7dde2ef691af1f
   "metadata": {},
   "outputs": [
    {
     "name": "stdout",
     "output_type": "stream",
     "text": [
      "En İyi Parametreler: {'clf__C': 1, 'tfidf__max_features': None, 'tfidf__ngram_range': (1, 2)}\n",
      "Sınıflandırma Raporu:\n",
      "              precision    recall  f1-score   support\n",
      "\n",
      "           0       0.93      0.94      0.94      1370\n",
      "           1       0.92      0.95      0.94      1384\n",
      "           2       0.65      0.49      0.56       280\n",
      "\n",
      "    accuracy                           0.91      3034\n",
      "   macro avg       0.83      0.80      0.81      3034\n",
      "weighted avg       0.90      0.91      0.90      3034\n",
      "\n",
      "Doğruluk (Accuracy): 0.9060646011865524\n"
     ]
    }
   ],
   "source": [
    "from sklearn.model_selection import train_test_split, GridSearchCV\n",
    "from sklearn.feature_extraction.text import TfidfVectorizer\n",
    "from sklearn.svm import LinearSVC\n",
    "from sklearn.pipeline import Pipeline\n",
    "from sklearn.metrics import classification_report, accuracy_score\n",
    "\n",
    "# Veriyi eğitim ve test setlerine bölme\n",
    "X_train, X_test, y_train, y_test = train_test_split(X, y, test_size=0.2, random_state=42)\n",
    "\n",
    "# TF-IDF vektörleştirici ve LinearSVC sınıflandırıcıyı içeren bir pipeline oluşturun\n",
    "pipeline = Pipeline([\n",
    "    ('tfidf', TfidfVectorizer()),\n",
    "    ('clf', LinearSVC())\n",
    "])\n",
    "\n",
    "# Grid Search için parametreler\n",
    "param_grid = {\n",
    "    'tfidf__max_features': [1000, 5000, None],\n",
    "    'tfidf__ngram_range': [(1, 1), (1, 2)],\n",
    "    'clf__C': [0.1, 1, 10],\n",
    "}\n",
    "\n",
    "# Grid Search ve Cross-Validation\n",
    "grid_search = GridSearchCV(pipeline, param_grid, cv=5)\n",
    "grid_search.fit(X_train, y_train)\n",
    "\n",
    "# En iyi parametreleri göster\n",
    "print(\"En İyi Parametreler:\", grid_search.best_params_)\n",
    "\n",
    "# En iyi modeli kullanarak test seti üzerinde tahmin yapın\n",
    "y_pred = grid_search.predict(X_test)\n",
    "\n",
    "# Model performansını değerlendirin\n",
    "print(\"Sınıflandırma Raporu:\")\n",
    "print(classification_report(y_test, y_pred))\n",
    "\n",
    "accuracy = accuracy_score(y_test, y_pred)\n",
    "print(f\"Doğruluk (Accuracy): {accuracy}\")"
   ]
  },
  {
   "cell_type": "code",
   "execution_count": 32,
   "metadata": {},
   "outputs": [
    {
     "ename": "NameError",
     "evalue": "name 'num_epochs' is not defined",
     "output_type": "error",
     "traceback": [
      "\u001b[1;31m---------------------------------------------------------------------------\u001b[0m",
      "\u001b[1;31mNameError\u001b[0m                                 Traceback (most recent call last)",
      "Cell \u001b[1;32mIn[32], line 43\u001b[0m\n\u001b[0;32m     40\u001b[0m model\u001b[38;5;241m.\u001b[39mcompile(loss\u001b[38;5;241m=\u001b[39m\u001b[38;5;124m'\u001b[39m\u001b[38;5;124msparse_categorical_crossentropy\u001b[39m\u001b[38;5;124m'\u001b[39m, optimizer\u001b[38;5;241m=\u001b[39m\u001b[38;5;124m'\u001b[39m\u001b[38;5;124madam\u001b[39m\u001b[38;5;124m'\u001b[39m, metrics\u001b[38;5;241m=\u001b[39m[\u001b[38;5;124m'\u001b[39m\u001b[38;5;124maccuracy\u001b[39m\u001b[38;5;124m'\u001b[39m])\n\u001b[0;32m     42\u001b[0m \u001b[38;5;66;03m# Modeli eğitme\u001b[39;00m\n\u001b[1;32m---> 43\u001b[0m model\u001b[38;5;241m.\u001b[39mfit(X_train_seq, y_train, epochs\u001b[38;5;241m=\u001b[39m\u001b[43mnum_epochs\u001b[49m, batch_size\u001b[38;5;241m=\u001b[39mbatch_size, validation_data\u001b[38;5;241m=\u001b[39m(X_test_seq, y_test))\n\u001b[0;32m     45\u001b[0m \u001b[38;5;66;03m# Modeli değerlendirme\u001b[39;00m\n\u001b[0;32m     46\u001b[0m loss, accuracy \u001b[38;5;241m=\u001b[39m model\u001b[38;5;241m.\u001b[39mevaluate(X_test_seq, y_test)\n",
      "\u001b[1;31mNameError\u001b[0m: name 'num_epochs' is not defined"
     ]
    }
   ],
   "source": [
    "from keras.models import Sequential\n",
    "from keras.layers import Embedding, LSTM, Dense\n",
    "from keras.preprocessing.text import Tokenizer\n",
    "from keras.preprocessing.sequence import pad_sequences\n",
    "from sklearn.model_selection import train_test_split\n",
    "from sklearn.metrics import classification_report, accuracy_score\n",
    "\n",
    "# Veri setini yükleme (X ve y'yi uygun şekilde tanımlamak önemlidir)\n",
    "# Örneğin, X: yorumlar, y: konu etiketleri\n",
    "X = yorum_veriseti[\"Metin\"]\n",
    "y = yorum_veriseti[\"Yorum_Konu\"]\n",
    "\n",
    "# Veriyi eğitim ve test setlerine bölme\n",
    "X_train, X_test, y_train, y_test = train_test_split(X, y, test_size=0.2, random_state=42)\n",
    "\n",
    "# Metin verilerini sayısal temsile dönüştürme\n",
    "max_words = 1000  # Örnek: En sık geçen 1000 kelimeyi kullan\n",
    "tokenizer = Tokenizer(num_words=max_words)\n",
    "tokenizer.fit_on_texts(X_train)\n",
    "\n",
    "X_train_seq = tokenizer.texts_to_sequences(X_train)\n",
    "X_test_seq = tokenizer.texts_to_sequences(X_test)\n",
    "\n",
    "# Metin uzunluklarını eşitleme\n",
    "max_len = 100  # Örnek: Metin uzunluğunu 100'e sabitle\n",
    "X_train_seq = pad_sequences(X_train_seq, maxlen=max_len)\n",
    "X_test_seq = pad_sequences(X_test_seq, maxlen=max_len)\n",
    "\n",
    "# Build the LSTM model\n",
    "embedding_dim = 100\n",
    "hidden_units = 128\n",
    "num_topics = 10\n",
    "\n",
    "model = Sequential()\n",
    "model.add(Embedding(input_dim=max_words, output_dim=embedding_dim, input_length=max_len))\n",
    "model.add(LSTM(units=hidden_units))\n",
    "model.add(Dense(units=num_topics, activation='softmax'))\n",
    "\n",
    "# Modeli derleme\n",
    "model.compile(loss='sparse_categorical_crossentropy', optimizer='adam', metrics=['accuracy'])\n",
    "\n",
    "# Modeli eğitme\n",
    "model.fit(X_train_seq, y_train, epochs=num_epochs, batch_size=batch_size, validation_data=(X_test_seq, y_test))\n",
    "\n",
    "# Modeli değerlendirme\n",
    "loss, accuracy = model.evaluate(X_test_seq, y_test)\n",
    "print(f\"Test Loss: {loss}, Test Accuracy: {accuracy}\")\n"
   ]
  }
 ],
 "metadata": {
  "kernelspec": {
   "display_name": "Python 3",
   "language": "python",
   "name": "python3"
  },
  "language_info": {
   "codemirror_mode": {
    "name": "ipython",
    "version": 3
   },
   "file_extension": ".py",
   "mimetype": "text/x-python",
   "name": "python",
   "nbconvert_exporter": "python",
   "pygments_lexer": "ipython3",
   "version": "3.10.7"
  }
 },
 "nbformat": 4,
 "nbformat_minor": 2
}
