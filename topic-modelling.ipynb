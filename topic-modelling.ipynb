{
 "cells": [
  {
   "cell_type": "markdown",
   "metadata": {},
   "source": [
    "LDA ile Konu modellemesi"
   ]
  },
  {
   "cell_type": "code",
   "execution_count": null,
   "metadata": {},
   "outputs": [],
   "source": []
  },
  {
   "cell_type": "code",
   "execution_count": 1,
   "metadata": {},
   "outputs": [
    {
     "data": {
      "text/html": [
       "<div>\n",
       "<style scoped>\n",
       "    .dataframe tbody tr th:only-of-type {\n",
       "        vertical-align: middle;\n",
       "    }\n",
       "\n",
       "    .dataframe tbody tr th {\n",
       "        vertical-align: top;\n",
       "    }\n",
       "\n",
       "    .dataframe thead th {\n",
       "        text-align: right;\n",
       "    }\n",
       "</style>\n",
       "<table border=\"1\" class=\"dataframe\">\n",
       "  <thead>\n",
       "    <tr style=\"text-align: right;\">\n",
       "      <th></th>\n",
       "      <th>Metin</th>\n",
       "      <th>Durum</th>\n",
       "    </tr>\n",
       "  </thead>\n",
       "  <tbody>\n",
       "    <tr>\n",
       "      <th>0</th>\n",
       "      <td>evet anlatıldığı gibi</td>\n",
       "      <td>1</td>\n",
       "    </tr>\n",
       "    <tr>\n",
       "      <th>1</th>\n",
       "      <td>Daha öncede almıştım bu cihazdan ense ve sakal...</td>\n",
       "      <td>1</td>\n",
       "    </tr>\n",
       "    <tr>\n",
       "      <th>2</th>\n",
       "      <td>Ürün gayet başarılı sakal kesmede başlık sayıs...</td>\n",
       "      <td>1</td>\n",
       "    </tr>\n",
       "  </tbody>\n",
       "</table>\n",
       "</div>"
      ],
      "text/plain": [
       "                                               Metin  Durum\n",
       "0                              evet anlatıldığı gibi      1\n",
       "1  Daha öncede almıştım bu cihazdan ense ve sakal...      1\n",
       "2  Ürün gayet başarılı sakal kesmede başlık sayıs...      1"
      ]
     },
     "execution_count": 1,
     "metadata": {},
     "output_type": "execute_result"
    }
   ],
   "source": [
    "import numpy as np\n",
    "import pandas as pd\n",
    "\n",
    "df = pd.read_csv(\"e-ticaret_urun_yorumlari.csv\", delimiter=';')\n",
    "df.head(3)"
   ]
  },
  {
   "cell_type": "code",
   "execution_count": 2,
   "metadata": {},
   "outputs": [
    {
     "data": {
      "text/html": [
       "<div>\n",
       "<style scoped>\n",
       "    .dataframe tbody tr th:only-of-type {\n",
       "        vertical-align: middle;\n",
       "    }\n",
       "\n",
       "    .dataframe tbody tr th {\n",
       "        vertical-align: top;\n",
       "    }\n",
       "\n",
       "    .dataframe thead th {\n",
       "        text-align: right;\n",
       "    }\n",
       "</style>\n",
       "<table border=\"1\" class=\"dataframe\">\n",
       "  <thead>\n",
       "    <tr style=\"text-align: right;\">\n",
       "      <th></th>\n",
       "      <th>Metin</th>\n",
       "    </tr>\n",
       "  </thead>\n",
       "  <tbody>\n",
       "    <tr>\n",
       "      <th>0</th>\n",
       "      <td>evet anlatıldığı gibi</td>\n",
       "    </tr>\n",
       "    <tr>\n",
       "      <th>1</th>\n",
       "      <td>Daha öncede almıştım bu cihazdan ense ve sakal...</td>\n",
       "    </tr>\n",
       "    <tr>\n",
       "      <th>2</th>\n",
       "      <td>Ürün gayet başarılı sakal kesmede başlık sayıs...</td>\n",
       "    </tr>\n",
       "  </tbody>\n",
       "</table>\n",
       "</div>"
      ],
      "text/plain": [
       "                                               Metin\n",
       "0                              evet anlatıldığı gibi\n",
       "1  Daha öncede almıştım bu cihazdan ense ve sakal...\n",
       "2  Ürün gayet başarılı sakal kesmede başlık sayıs..."
      ]
     },
     "execution_count": 2,
     "metadata": {},
     "output_type": "execute_result"
    }
   ],
   "source": [
    "#Sadece metin sütunun kullanılması, konu modelleme için yeterli olacaktır.\n",
    "yorum_veriseti=df[[\"Metin\"]]\n",
    "yorum_veriseti.head(3)"
   ]
  },
  {
   "cell_type": "code",
   "execution_count": 3,
   "metadata": {},
   "outputs": [
    {
     "name": "stderr",
     "output_type": "stream",
     "text": [
      "[nltk_data] Error loading stopwords: <urlopen error [Errno 11001]\n",
      "[nltk_data]     getaddrinfo failed>\n"
     ]
    },
    {
     "ename": "LookupError",
     "evalue": "\n**********************************************************************\n  Resource \u001b[93mstopwords\u001b[0m not found.\n  Please use the NLTK Downloader to obtain the resource:\n\n  \u001b[31m>>> import nltk\n  >>> nltk.download('stopwords')\n  \u001b[0m\n  For more information see: https://www.nltk.org/data.html\n\n  Attempted to load \u001b[93mcorpora/stopwords\u001b[0m\n\n  Searched in:\n    - 'C:\\\\Users\\\\Gülseren/nltk_data'\n    - 'c:\\\\Users\\\\Gülseren\\\\AppData\\\\Local\\\\Programs\\\\Python\\\\Python311\\\\nltk_data'\n    - 'c:\\\\Users\\\\Gülseren\\\\AppData\\\\Local\\\\Programs\\\\Python\\\\Python311\\\\share\\\\nltk_data'\n    - 'c:\\\\Users\\\\Gülseren\\\\AppData\\\\Local\\\\Programs\\\\Python\\\\Python311\\\\lib\\\\nltk_data'\n    - 'C:\\\\Users\\\\Gülseren\\\\AppData\\\\Roaming\\\\nltk_data'\n    - 'C:\\\\nltk_data'\n    - 'D:\\\\nltk_data'\n    - 'E:\\\\nltk_data'\n**********************************************************************\n",
     "output_type": "error",
     "traceback": [
      "\u001b[1;31m---------------------------------------------------------------------------\u001b[0m",
      "\u001b[1;31mLookupError\u001b[0m                               Traceback (most recent call last)",
      "File \u001b[1;32mc:\\Users\\Gülseren\\AppData\\Local\\Programs\\Python\\Python311\\Lib\\site-packages\\nltk\\corpus\\util.py:84\u001b[0m, in \u001b[0;36mLazyCorpusLoader.__load\u001b[1;34m(self)\u001b[0m\n\u001b[0;32m     83\u001b[0m \u001b[39mtry\u001b[39;00m:\n\u001b[1;32m---> 84\u001b[0m     root \u001b[39m=\u001b[39m nltk\u001b[39m.\u001b[39;49mdata\u001b[39m.\u001b[39;49mfind(\u001b[39mf\u001b[39;49m\u001b[39m\"\u001b[39;49m\u001b[39m{\u001b[39;49;00m\u001b[39mself\u001b[39;49m\u001b[39m.\u001b[39;49msubdir\u001b[39m}\u001b[39;49;00m\u001b[39m/\u001b[39;49m\u001b[39m{\u001b[39;49;00mzip_name\u001b[39m}\u001b[39;49;00m\u001b[39m\"\u001b[39;49m)\n\u001b[0;32m     85\u001b[0m \u001b[39mexcept\u001b[39;00m \u001b[39mLookupError\u001b[39;00m:\n",
      "File \u001b[1;32mc:\\Users\\Gülseren\\AppData\\Local\\Programs\\Python\\Python311\\Lib\\site-packages\\nltk\\data.py:583\u001b[0m, in \u001b[0;36mfind\u001b[1;34m(resource_name, paths)\u001b[0m\n\u001b[0;32m    582\u001b[0m resource_not_found \u001b[39m=\u001b[39m \u001b[39mf\u001b[39m\u001b[39m\"\u001b[39m\u001b[39m\\n\u001b[39;00m\u001b[39m{\u001b[39;00msep\u001b[39m}\u001b[39;00m\u001b[39m\\n\u001b[39;00m\u001b[39m{\u001b[39;00mmsg\u001b[39m}\u001b[39;00m\u001b[39m\\n\u001b[39;00m\u001b[39m{\u001b[39;00msep\u001b[39m}\u001b[39;00m\u001b[39m\\n\u001b[39;00m\u001b[39m\"\u001b[39m\n\u001b[1;32m--> 583\u001b[0m \u001b[39mraise\u001b[39;00m \u001b[39mLookupError\u001b[39;00m(resource_not_found)\n",
      "\u001b[1;31mLookupError\u001b[0m: \n**********************************************************************\n  Resource \u001b[93mstopwords\u001b[0m not found.\n  Please use the NLTK Downloader to obtain the resource:\n\n  \u001b[31m>>> import nltk\n  >>> nltk.download('stopwords')\n  \u001b[0m\n  For more information see: https://www.nltk.org/data.html\n\n  Attempted to load \u001b[93mcorpora/stopwords.zip/stopwords/\u001b[0m\n\n  Searched in:\n    - 'C:\\\\Users\\\\Gülseren/nltk_data'\n    - 'c:\\\\Users\\\\Gülseren\\\\AppData\\\\Local\\\\Programs\\\\Python\\\\Python311\\\\nltk_data'\n    - 'c:\\\\Users\\\\Gülseren\\\\AppData\\\\Local\\\\Programs\\\\Python\\\\Python311\\\\share\\\\nltk_data'\n    - 'c:\\\\Users\\\\Gülseren\\\\AppData\\\\Local\\\\Programs\\\\Python\\\\Python311\\\\lib\\\\nltk_data'\n    - 'C:\\\\Users\\\\Gülseren\\\\AppData\\\\Roaming\\\\nltk_data'\n    - 'C:\\\\nltk_data'\n    - 'D:\\\\nltk_data'\n    - 'E:\\\\nltk_data'\n**********************************************************************\n",
      "\nDuring handling of the above exception, another exception occurred:\n",
      "\u001b[1;31mLookupError\u001b[0m                               Traceback (most recent call last)",
      "\u001b[1;32mc:\\Users\\Gülseren\\Documents\\GitHub\\Analysis-of-E-Commerce-Product-Reviews-with-NLP\\topic-modelling.ipynb Cell 5\u001b[0m line \u001b[0;36m9\n\u001b[0;32m      <a href='vscode-notebook-cell:/c%3A/Users/G%C3%BClseren/Documents/GitHub/Analysis-of-E-Commerce-Product-Reviews-with-NLP/topic-modelling.ipynb#W4sZmlsZQ%3D%3D?line=5'>6</a>\u001b[0m nltk\u001b[39m.\u001b[39mdownload(\u001b[39m'\u001b[39m\u001b[39mstopwords\u001b[39m\u001b[39m'\u001b[39m)\n\u001b[0;32m      <a href='vscode-notebook-cell:/c%3A/Users/G%C3%BClseren/Documents/GitHub/Analysis-of-E-Commerce-Product-Reviews-with-NLP/topic-modelling.ipynb#W4sZmlsZQ%3D%3D?line=7'>8</a>\u001b[0m nok_isaretleri\u001b[39m=\u001b[39m string\u001b[39m.\u001b[39mpunctuation\n\u001b[1;32m----> <a href='vscode-notebook-cell:/c%3A/Users/G%C3%BClseren/Documents/GitHub/Analysis-of-E-Commerce-Product-Reviews-with-NLP/topic-modelling.ipynb#W4sZmlsZQ%3D%3D?line=8'>9</a>\u001b[0m etkisiz_kelimeler\u001b[39m=\u001b[39m stopwords\u001b[39m.\u001b[39;49mwords(\u001b[39m'\u001b[39m\u001b[39mturkish\u001b[39m\u001b[39m'\u001b[39m)\n\u001b[0;32m     <a href='vscode-notebook-cell:/c%3A/Users/G%C3%BClseren/Documents/GitHub/Analysis-of-E-Commerce-Product-Reviews-with-NLP/topic-modelling.ipynb#W4sZmlsZQ%3D%3D?line=9'>10</a>\u001b[0m etkisiz_kelimeler\u001b[39m.\u001b[39mextend ([\u001b[39m\"\u001b[39m\u001b[39mbir\u001b[39m\u001b[39m\"\u001b[39m, \u001b[39m\"\u001b[39m\u001b[39mkadar\u001b[39m\u001b[39m\"\u001b[39m, \u001b[39m\"\u001b[39m\u001b[39msonra\u001b[39m\u001b[39m\"\u001b[39m])\n\u001b[0;32m     <a href='vscode-notebook-cell:/c%3A/Users/G%C3%BClseren/Documents/GitHub/Analysis-of-E-Commerce-Product-Reviews-with-NLP/topic-modelling.ipynb#W4sZmlsZQ%3D%3D?line=11'>12</a>\u001b[0m \u001b[39mdef\u001b[39;00m \u001b[39mveriTemizleme\u001b[39m(metin):\n",
      "File \u001b[1;32mc:\\Users\\Gülseren\\AppData\\Local\\Programs\\Python\\Python311\\Lib\\site-packages\\nltk\\corpus\\util.py:121\u001b[0m, in \u001b[0;36mLazyCorpusLoader.__getattr__\u001b[1;34m(self, attr)\u001b[0m\n\u001b[0;32m    118\u001b[0m \u001b[39mif\u001b[39;00m attr \u001b[39m==\u001b[39m \u001b[39m\"\u001b[39m\u001b[39m__bases__\u001b[39m\u001b[39m\"\u001b[39m:\n\u001b[0;32m    119\u001b[0m     \u001b[39mraise\u001b[39;00m \u001b[39mAttributeError\u001b[39;00m(\u001b[39m\"\u001b[39m\u001b[39mLazyCorpusLoader object has no attribute \u001b[39m\u001b[39m'\u001b[39m\u001b[39m__bases__\u001b[39m\u001b[39m'\u001b[39m\u001b[39m\"\u001b[39m)\n\u001b[1;32m--> 121\u001b[0m \u001b[39mself\u001b[39;49m\u001b[39m.\u001b[39;49m__load()\n\u001b[0;32m    122\u001b[0m \u001b[39m# This looks circular, but its not, since __load() changes our\u001b[39;00m\n\u001b[0;32m    123\u001b[0m \u001b[39m# __class__ to something new:\u001b[39;00m\n\u001b[0;32m    124\u001b[0m \u001b[39mreturn\u001b[39;00m \u001b[39mgetattr\u001b[39m(\u001b[39mself\u001b[39m, attr)\n",
      "File \u001b[1;32mc:\\Users\\Gülseren\\AppData\\Local\\Programs\\Python\\Python311\\Lib\\site-packages\\nltk\\corpus\\util.py:86\u001b[0m, in \u001b[0;36mLazyCorpusLoader.__load\u001b[1;34m(self)\u001b[0m\n\u001b[0;32m     84\u001b[0m             root \u001b[39m=\u001b[39m nltk\u001b[39m.\u001b[39mdata\u001b[39m.\u001b[39mfind(\u001b[39mf\u001b[39m\u001b[39m\"\u001b[39m\u001b[39m{\u001b[39;00m\u001b[39mself\u001b[39m\u001b[39m.\u001b[39msubdir\u001b[39m}\u001b[39;00m\u001b[39m/\u001b[39m\u001b[39m{\u001b[39;00mzip_name\u001b[39m}\u001b[39;00m\u001b[39m\"\u001b[39m)\n\u001b[0;32m     85\u001b[0m         \u001b[39mexcept\u001b[39;00m \u001b[39mLookupError\u001b[39;00m:\n\u001b[1;32m---> 86\u001b[0m             \u001b[39mraise\u001b[39;00m e\n\u001b[0;32m     88\u001b[0m \u001b[39m# Load the corpus.\u001b[39;00m\n\u001b[0;32m     89\u001b[0m corpus \u001b[39m=\u001b[39m \u001b[39mself\u001b[39m\u001b[39m.\u001b[39m__reader_cls(root, \u001b[39m*\u001b[39m\u001b[39mself\u001b[39m\u001b[39m.\u001b[39m__args, \u001b[39m*\u001b[39m\u001b[39m*\u001b[39m\u001b[39mself\u001b[39m\u001b[39m.\u001b[39m__kwargs)\n",
      "File \u001b[1;32mc:\\Users\\Gülseren\\AppData\\Local\\Programs\\Python\\Python311\\Lib\\site-packages\\nltk\\corpus\\util.py:81\u001b[0m, in \u001b[0;36mLazyCorpusLoader.__load\u001b[1;34m(self)\u001b[0m\n\u001b[0;32m     79\u001b[0m \u001b[39melse\u001b[39;00m:\n\u001b[0;32m     80\u001b[0m     \u001b[39mtry\u001b[39;00m:\n\u001b[1;32m---> 81\u001b[0m         root \u001b[39m=\u001b[39m nltk\u001b[39m.\u001b[39;49mdata\u001b[39m.\u001b[39;49mfind(\u001b[39mf\u001b[39;49m\u001b[39m\"\u001b[39;49m\u001b[39m{\u001b[39;49;00m\u001b[39mself\u001b[39;49m\u001b[39m.\u001b[39;49msubdir\u001b[39m}\u001b[39;49;00m\u001b[39m/\u001b[39;49m\u001b[39m{\u001b[39;49;00m\u001b[39mself\u001b[39;49m\u001b[39m.\u001b[39;49m__name\u001b[39m}\u001b[39;49;00m\u001b[39m\"\u001b[39;49m)\n\u001b[0;32m     82\u001b[0m     \u001b[39mexcept\u001b[39;00m \u001b[39mLookupError\u001b[39;00m \u001b[39mas\u001b[39;00m e:\n\u001b[0;32m     83\u001b[0m         \u001b[39mtry\u001b[39;00m:\n",
      "File \u001b[1;32mc:\\Users\\Gülseren\\AppData\\Local\\Programs\\Python\\Python311\\Lib\\site-packages\\nltk\\data.py:583\u001b[0m, in \u001b[0;36mfind\u001b[1;34m(resource_name, paths)\u001b[0m\n\u001b[0;32m    581\u001b[0m sep \u001b[39m=\u001b[39m \u001b[39m\"\u001b[39m\u001b[39m*\u001b[39m\u001b[39m\"\u001b[39m \u001b[39m*\u001b[39m \u001b[39m70\u001b[39m\n\u001b[0;32m    582\u001b[0m resource_not_found \u001b[39m=\u001b[39m \u001b[39mf\u001b[39m\u001b[39m\"\u001b[39m\u001b[39m\\n\u001b[39;00m\u001b[39m{\u001b[39;00msep\u001b[39m}\u001b[39;00m\u001b[39m\\n\u001b[39;00m\u001b[39m{\u001b[39;00mmsg\u001b[39m}\u001b[39;00m\u001b[39m\\n\u001b[39;00m\u001b[39m{\u001b[39;00msep\u001b[39m}\u001b[39;00m\u001b[39m\\n\u001b[39;00m\u001b[39m\"\u001b[39m\n\u001b[1;32m--> 583\u001b[0m \u001b[39mraise\u001b[39;00m \u001b[39mLookupError\u001b[39;00m(resource_not_found)\n",
      "\u001b[1;31mLookupError\u001b[0m: \n**********************************************************************\n  Resource \u001b[93mstopwords\u001b[0m not found.\n  Please use the NLTK Downloader to obtain the resource:\n\n  \u001b[31m>>> import nltk\n  >>> nltk.download('stopwords')\n  \u001b[0m\n  For more information see: https://www.nltk.org/data.html\n\n  Attempted to load \u001b[93mcorpora/stopwords\u001b[0m\n\n  Searched in:\n    - 'C:\\\\Users\\\\Gülseren/nltk_data'\n    - 'c:\\\\Users\\\\Gülseren\\\\AppData\\\\Local\\\\Programs\\\\Python\\\\Python311\\\\nltk_data'\n    - 'c:\\\\Users\\\\Gülseren\\\\AppData\\\\Local\\\\Programs\\\\Python\\\\Python311\\\\share\\\\nltk_data'\n    - 'c:\\\\Users\\\\Gülseren\\\\AppData\\\\Local\\\\Programs\\\\Python\\\\Python311\\\\lib\\\\nltk_data'\n    - 'C:\\\\Users\\\\Gülseren\\\\AppData\\\\Roaming\\\\nltk_data'\n    - 'C:\\\\nltk_data'\n    - 'D:\\\\nltk_data'\n    - 'E:\\\\nltk_data'\n**********************************************************************\n"
     ]
    }
   ],
   "source": [
    "#veri temizleme işlemi için bir fonksiyon hazırlanması\n",
    "import re \n",
    "import string\n",
    "import nltk\n",
    "from nltk.corpus import stopwords\n",
    "nltk.download('stopwords')\n",
    "\n",
    "nok_isaretleri= string.punctuation\n",
    "etkisiz_kelimeler= stopwords.words('turkish')\n",
    "etkisiz_kelimeler.extend ([\"bir\", \"kadar\", \"sonra\"])\n",
    "\n",
    "def veriTemizleme(metin):\n",
    "    metin=metin.lower()\n",
    "    metin=metin.replace(\"\\\\n\",\" \")\n",
    "    #kesme işareti ve sonrasındaki karakterlerin aldırılması\n",
    "    metin=re.sub(\"'(\\w+)\", \"\", metin)\n",
    "    metin=re.sub(\"’(\\w+)\", \"\", metin)\n",
    "    #sayıların kaldırılması\n",
    "    metin=re.sub(\"[0-9]+\", \"\", metin)\n",
    "    #noktalama işaretlerinin kaldırılması\n",
    "    metin=\"\".join(list(map(lambda x:x if x not in nok_isaretleri else \" \" , metin)))\n",
    "    #etkisiz kelimelerin bazılarının kaldırılması\n",
    "    metin=\" \".join([i for i in metin.split() if i not in etkisiz_kelimeler])\n",
    "    #metinde tek kalan harflerin çıkarılması\n",
    "    metin=\" \".join([i for i in metin.split() if len(i) > 1])\n",
    "\n",
    "    return metin\n",
    "    \n",
    "\n"
   ]
  },
  {
   "cell_type": "code",
   "execution_count": null,
   "metadata": {},
   "outputs": [
    {
     "name": "stdout",
     "output_type": "stream",
     "text": [
      "Temizlenmemiş Veri Seti:\n",
      "0                                evet anlatıldığı gibi\n",
      "1    Daha öncede almıştım bu cihazdan ense ve sakal...\n",
      "2    Ürün gayet başarılı sakal kesmede başlık sayıs...\n",
      "Name: Metin, dtype: object\n",
      "\n",
      "Temizlenmiş Veri Seti:\n",
      "0                                     evet anlatıldığı\n",
      "1    öncede almıştım cihazdan ense sakal tüketmek o...\n",
      "2    ürün gayet başarılı sakal kesmede başlık sayıs...\n",
      "Name: Metin, dtype: object\n"
     ]
    }
   ],
   "source": [
    "# Temizlenmemiş veri seti\n",
    "print(\"Temizlenmemiş Veri Seti:\")\n",
    "print(df[\"Metin\"].head(3))\n",
    "\n",
    "# Temizlenmiş veri seti\n",
    "print(\"\\nTemizlenmiş Veri Seti:\")\n",
    "temizlenen_metin = yorum_veriseti[\"Metin\"].apply(veriTemizleme)\n",
    "print(temizlenen_metin.head(3))\n"
   ]
  },
  {
   "cell_type": "code",
   "execution_count": null,
   "metadata": {},
   "outputs": [
    {
     "ename": "NameError",
     "evalue": "name 'yorum_veriseti' is not defined",
     "output_type": "error",
     "traceback": [
      "\u001b[1;31m---------------------------------------------------------------------------\u001b[0m",
      "\u001b[1;31mNameError\u001b[0m                                 Traceback (most recent call last)",
      "\u001b[1;32mc:\\Users\\Gülseren\\Documents\\GitHub\\Analysis-of-E-Commerce-Product-Reviews-with-NLP\\topic-modelling.ipynb Cell 7\u001b[0m line \u001b[0;36m2\n\u001b[0;32m      <a href='vscode-notebook-cell:/c%3A/Users/G%C3%BClseren/Documents/GitHub/Analysis-of-E-Commerce-Product-Reviews-with-NLP/topic-modelling.ipynb#W6sZmlsZQ%3D%3D?line=0'>1</a>\u001b[0m \u001b[39m# Tokenize etme\u001b[39;00m\n\u001b[1;32m----> <a href='vscode-notebook-cell:/c%3A/Users/G%C3%BClseren/Documents/GitHub/Analysis-of-E-Commerce-Product-Reviews-with-NLP/topic-modelling.ipynb#W6sZmlsZQ%3D%3D?line=1'>2</a>\u001b[0m yorum_veriseti[\u001b[39m\"\u001b[39m\u001b[39mtemizlenen_metin_token\u001b[39m\u001b[39m\"\u001b[39m] \u001b[39m=\u001b[39m yorum_veriseti[\u001b[39m\"\u001b[39m\u001b[39mMetin\u001b[39m\u001b[39m\"\u001b[39m]\u001b[39m.\u001b[39mapply(\u001b[39mlambda\u001b[39;00m x: x\u001b[39m.\u001b[39msplit())\n\u001b[0;32m      <a href='vscode-notebook-cell:/c%3A/Users/G%C3%BClseren/Documents/GitHub/Analysis-of-E-Commerce-Product-Reviews-with-NLP/topic-modelling.ipynb#W6sZmlsZQ%3D%3D?line=2'>3</a>\u001b[0m yorum_veriseti\u001b[39m.\u001b[39mhead(\u001b[39m10\u001b[39m)\n",
      "\u001b[1;31mNameError\u001b[0m: name 'yorum_veriseti' is not defined"
     ]
    }
   ],
   "source": [
    "# Tokenize etme\n",
    "yorum_veriseti[\"temizlenen_metin_token\"] = yorum_veriseti[\"Metin\"].apply(lambda x: x.split())\n",
    "yorum_veriseti.head(10)\n"
   ]
  },
  {
   "cell_type": "code",
   "execution_count": null,
   "metadata": {},
   "outputs": [
    {
     "ename": "NameError",
     "evalue": "name 'yorum_veriseti' is not defined",
     "output_type": "error",
     "traceback": [
      "\u001b[1;31m---------------------------------------------------------------------------\u001b[0m",
      "\u001b[1;31mNameError\u001b[0m                                 Traceback (most recent call last)",
      "\u001b[1;32mc:\\Users\\Gülseren\\Documents\\GitHub\\Analysis-of-E-Commerce-Product-Reviews-with-NLP\\topic-modelling.ipynb Cell 8\u001b[0m line \u001b[0;36m4\n\u001b[0;32m      <a href='vscode-notebook-cell:/c%3A/Users/G%C3%BClseren/Documents/GitHub/Analysis-of-E-Commerce-Product-Reviews-with-NLP/topic-modelling.ipynb#X25sZmlsZQ%3D%3D?line=0'>1</a>\u001b[0m \u001b[39m# kelimelerdeki çekim eklerinden kurtararak kelimelerin sözlükteki hallerine göre sıralanmasını sağlamak amacı ile sadece lemmatization işlemi yapılır\u001b[39;00m\n\u001b[1;32m----> <a href='vscode-notebook-cell:/c%3A/Users/G%C3%BClseren/Documents/GitHub/Analysis-of-E-Commerce-Product-Reviews-with-NLP/topic-modelling.ipynb#X25sZmlsZQ%3D%3D?line=3'>4</a>\u001b[0m yorum_veriseti[\u001b[39m\"\u001b[39m\u001b[39mtemizlenen_metin_token\u001b[39m\u001b[39m\"\u001b[39m] \u001b[39m=\u001b[39m yorum_veriseti[\u001b[39m\"\u001b[39m\u001b[39mMetin\u001b[39m\u001b[39m\"\u001b[39m]\u001b[39m.\u001b[39mapply(\u001b[39mlambda\u001b[39;00m x:\u001b[39m\"\u001b[39m\u001b[39m \u001b[39m\u001b[39m\"\u001b[39m\u001b[39m.\u001b[39mjoin([Word(word)\u001b[39m.\u001b[39mlemmatize() \u001b[39mfor\u001b[39;00m word \u001b[39min\u001b[39;00m x\u001b[39m.\u001b[39msplit()]))\n\u001b[0;32m      <a href='vscode-notebook-cell:/c%3A/Users/G%C3%BClseren/Documents/GitHub/Analysis-of-E-Commerce-Product-Reviews-with-NLP/topic-modelling.ipynb#X25sZmlsZQ%3D%3D?line=4'>5</a>\u001b[0m yorum_veriseti\u001b[39m.\u001b[39mhead(\u001b[39m10\u001b[39m)\n",
      "\u001b[1;31mNameError\u001b[0m: name 'yorum_veriseti' is not defined"
     ]
    }
   ],
   "source": [
    "# kelimelerdeki çekim eklerinden kurtararak kelimelerin sözlükteki hallerine göre sıralanmasını sağlamak amacı ile sadece lemmatization işlemi yapılır\n",
    "\n",
    "\n",
    "yorum_veriseti[\"temizlenen_metin_token\"] = yorum_veriseti[\"Metin\"].apply(lambda x:\" \".join([Word(word).lemmatize() for word in x.split()]))\n",
    "yorum_veriseti.head(10)"
   ]
  },
  {
   "cell_type": "code",
   "execution_count": null,
   "metadata": {},
   "outputs": [],
   "source": [
    "#LDA Model Eğitimi\n",
    "import gensim\n",
    "import pyLDAvis.gensim \n",
    "\n",
    "# Kelime listesi - Dict oluşturulması\n",
    "tokenlasmis_metinler = yorum_veriseti[\"temizlenen_metin_token\"]\n",
    "\n",
    "# Kelime listesi Filtreleme\n",
    "kelime_listesi = gensim.corpora.Dictionary(tokenlasmis_metinler)\n",
    "\n",
    "# Terimlerin Vektörletirilmesi (Doküman-Terim matrisinin oluşturulması)\n",
    "dokuman_terim_matrisi = [kelime_listesi.doc2bow(terim) for terim in tokenlasmis_metinler]\n"
   ]
  },
  {
   "cell_type": "code",
   "execution_count": null,
   "metadata": {},
   "outputs": [],
   "source": [
    "#LDA MODEL\n",
    "lda_model = gensim.models.ldamodel.LdaModel(corpus = dokuman_terim_matrisi,\n",
    "                                            id2word = kelime_listesi,\n",
    "                                            num_topics = 15,\n",
    "                                            passes = 10)"
   ]
  },
  {
   "cell_type": "code",
   "execution_count": null,
   "metadata": {},
   "outputs": [
    {
     "name": "stdout",
     "output_type": "stream",
     "text": [
      "(0, '0.049*\"urun\" + 0.043*\"cok\" + 0.031*\"guzel\" + 0.028*\"elime\" + 0.027*\"sesi\" + 0.025*\"icin\" + 0.018*\"ama\"')\n",
      "(1, '0.105*\"tavsiye\" + 0.042*\"ederim\" + 0.034*\"etmem\" + 0.030*\"eder\" + 0.028*\"idare\" + 0.028*\"kesinlikle\" + 0.022*\"ediyorum\"')\n",
      "(2, '0.051*\"beğenmedim\" + 0.042*\"değil\" + 0.036*\"hiç\" + 0.036*\"dandik\" + 0.027*\"Hiç\" + 0.027*\"hemen\" + 0.025*\"almayın\"')\n",
      "(3, '0.058*\"için\" + 0.038*\"para\" + 0.027*\"etmez\" + 0.018*\"sakal\" + 0.016*\"ağır\" + 0.015*\"ideal\" + 0.013*\"5\"')\n",
      "(4, '0.115*\"ürün\" + 0.101*\"bir\" + 0.027*\"gibi\" + 0.021*\"ve\" + 0.020*\"bu\" + 0.018*\"kaliteli\" + 0.018*\"gelmedi\"')\n",
      "(5, '0.071*\"geldi\" + 0.061*\"ama\" + 0.040*\"numara\" + 0.039*\"küçük\" + 0.031*\"siyah\" + 0.030*\"beyaz\" + 0.029*\"biraz\"')\n",
      "(6, '0.094*\"almayın\" + 0.059*\"kötü\" + 0.056*\"berbat\" + 0.039*\"hem\" + 0.032*\"sakın\" + 0.017*\"arkadaşlar\" + 0.015*\"ürünün\"')\n",
      "(7, '0.050*\"aldım\" + 0.047*\"??\" + 0.043*\"tane\" + 0.028*\"verdim\" + 0.028*\"için\" + 0.027*\"sipariş\" + 0.026*\"çok\"')\n",
      "(8, '0.111*\"iade\" + 0.095*\"gibi\" + 0.041*\"ettim\" + 0.038*\"geri\" + 0.033*\"geldi\" + 0.032*\"göründüğü\" + 0.027*\"değil\"')\n",
      "(9, '0.033*\"bir\" + 0.026*\"ama\" + 0.024*\"ve\" + 0.024*\"çok\" + 0.019*\"da\" + 0.018*\"1\" + 0.018*\"var\"')\n",
      "(10, '0.066*\"etmiyorum\" + 0.047*\"tavsiye\" + 0.044*\"degil\" + 0.039*\"saat\" + 0.018*\"renk\" + 0.016*\"hep\" + 0.015*\"değmez\"')\n",
      "(11, '0.095*\"Çok\" + 0.078*\"göre\" + 0.057*\"güzel\" + 0.049*\"iyi\" + 0.042*\"çok\" + 0.037*\"fiyatına\" + 0.034*\"gayet\"')\n",
      "(12, '0.097*\"kalitesiz\" + 0.029*\"yok\" + 0.023*\"yoktu\" + 0.019*\"beş\" + 0.015*\"alın\" + 0.014*\"içine\" + 0.014*\"derim\"')\n",
      "(13, '0.099*\"çok\" + 0.041*\"ve\" + 0.031*\"ama\" + 0.029*\"bir\" + 0.024*\"ürün\" + 0.023*\"güzel\" + 0.018*\"için\"')\n",
      "(14, '0.084*\"cok\" + 0.062*\"bozuk\" + 0.035*\"hic\" + 0.024*\"kotu\" + 0.019*\"başladı\" + 0.013*\"tek\" + 0.011*\"etmiyor\"')\n"
     ]
    }
   ],
   "source": [
    "#Oluşturulan soyut konular içinde en fazla bulunan terimler\n",
    "konular = lda_model.print_topics(num_words=7)\n",
    "for konu in konular:\n",
    "    print(konu)"
   ]
  },
  {
   "cell_type": "code",
   "execution_count": null,
   "metadata": {},
   "outputs": [],
   "source": [
    "# Tutarlılık (Coherence) skoru ile en iyi konu sayısı seçimi\n",
    "from gensim.models import CoherenceModel\n",
    "\n",
    "tutarlilik_skorlar_listesi = []\n",
    "konu_sayisi_listesi = []\n",
    "konu_sayisi_aralik_listesi = [5, 10, 15, 20, 25]\n",
    "\n",
    "for konu_sayisi in konu_sayisi_aralik_listesi:\n",
    "    lda_model = gensim.models.ldamodel.LdaModel(corpus=dokuman_terim_matrisi,\n",
    "                                                id2word=kelime_listesi,\n",
    "                                                num_topics=konu_sayisi,\n",
    "                                                passes=10)\n",
    "\n",
    "    tutarlilik_model_lda = CoherenceModel(model=lda_model, texts=tokenlasmis_metinler,\n",
    "                                          dictionary=kelime_listesi, coherence='c_v')\n",
    "\n",
    "    gecici_tutarlilik_skoru_lda = tutarlilik_model_lda.get_coherence()\n",
    "    tutarlilik_skorlar_listesi.append(gecici_tutarlilik_skoru_lda)\n",
    "    konu_sayisi_listesi.append(konu_sayisi)\n"
   ]
  },
  {
   "cell_type": "code",
   "execution_count": null,
   "metadata": {},
   "outputs": [
    {
     "name": "stdout",
     "output_type": "stream",
     "text": [
      "[5, 10, 15, 20, 25]\n",
      "[0.4576846236592826, 0.39186635410749704, 0.4098468423278024, 0.45001889946184076, 0.45588055644985653]\n"
     ]
    },
    {
     "data": {
      "text/plain": [
       "<function matplotlib.pyplot.show(close=None, block=None)>"
      ]
     },
     "execution_count": 25,
     "metadata": {},
     "output_type": "execute_result"
    },
    {
     "data": {
      "image/png": "[encoded data removed]",
      "text/plain": [
       "<Figure size 640x480 with 1 Axes>"
      ]
     },
     "metadata": {},
     "output_type": "display_data"
    }
   ],
   "source": [
    "#Tutarlılık skoru görselleştirme\n",
    "import matplotlib.pyplot as plt\n",
    "\n",
    "plt.plot(konu_sayisi_listesi, tutarlilik_skorlar_listesi,\"-\")\n",
    "plt.xlabel(\"Konu Sayıları\")\n",
    "plt.ylabel(\"Tutarlılık Skorları\")\n",
    "\n",
    "plt.show"
   ]
  },
  {
   "cell_type": "code",
   "execution_count": null,
   "metadata": {},
   "outputs": [
    {
     "name": "stdout",
     "output_type": "stream",
     "text": [
      "(0, '0.074*\"kırık\" + 0.050*\"zor\" + 0.028*\"olduğunu\" + 0.025*\"ucuz\" + 0.024*\"olsa\" + 0.021*\"rahatsız\" + 0.019*\"geldiğinde\"')\n",
      "(1, '0.053*\"plastik\" + 0.048*\"pişman\" + 0.045*\"oldum\" + 0.032*\"bitiyor\" + 0.030*\"dar\" + 0.028*\"malesef\" + 0.027*\"düşük\"')\n",
      "(2, '0.090*\"etmem\" + 0.051*\"tavsiye\" + 0.038*\"iş\" + 0.035*\"yoktu\" + 0.022*\"yapıyor\" + 0.020*\"rezalet\" + 0.020*\"Hızlı\"')\n",
      "(3, '0.162*\"cok\" + 0.081*\"urun\" + 0.050*\"guzel\" + 0.040*\"icin\" + 0.033*\"yazık\" + 0.030*\"ama\" + 0.029*\"aldim\"')\n",
      "(4, '0.128*\"değil\" + 0.085*\"çok\" + 0.063*\"ama\" + 0.055*\"küçük\" + 0.054*\"gibi\" + 0.042*\"hiç\" + 0.039*\"kalitesi\"')\n",
      "(6, '0.114*\"iyi\" + 0.087*\"göre\" + 0.046*\"bir\" + 0.045*\"çok\" + 0.041*\"fiyatına\" + 0.034*\"ürün\" + 0.033*\"gayet\"')\n",
      "(8, '0.045*\"bir\" + 0.033*\"yok\" + 0.030*\"ama\" + 0.027*\"ve\" + 0.026*\"bu\" + 0.024*\"çok\" + 0.022*\"kadar\"')\n",
      "(9, '0.063*\"beğenmedim\" + 0.055*\"para\" + 0.046*\"etmez\" + 0.041*\"farklı\" + 0.024*\"beş\" + 0.022*\"bir\" + 0.019*\"model\"')\n",
      "(10, '0.086*\".\" + 0.062*\"Hiç\" + 0.052*\"memnun\" + 0.043*\"ışık\" + 0.032*\"hediye\" + 0.032*\"severek\" + 0.027*\"değildi\"')\n",
      "(11, '0.100*\"gibi\" + 0.072*\"gelmedi\" + 0.052*\"hemen\" + 0.039*\"tam\" + 0.027*\"istediğim\" + 0.022*\"Ürün\" + 0.021*\"resimdeki\"')\n",
      "(12, '0.058*\"geldi\" + 0.046*\"geri\" + 0.035*\"siyah\" + 0.034*\"bu\" + 0.032*\"ben\" + 0.032*\"ama\" + 0.023*\"iade\"')\n",
      "(13, '0.143*\"almayın\" + 0.098*\"tavsiye\" + 0.090*\"kesinlikle\" + 0.078*\"etmiyorum\" + 0.040*\"dandik\" + 0.035*\"sakın\" + 0.032*\"çıktı\"')\n",
      "(14, '0.103*\"numara\" + 0.070*\"degil\" + 0.039*\"resmen\" + 0.028*\"teslim\" + 0.024*\"çocuk\" + 0.023*\"gibi\" + 0.022*\"biz\"')\n",
      "(15, '0.127*\"güzel\" + 0.114*\"çok\" + 0.056*\"Çok\" + 0.045*\"tavsiye\" + 0.042*\"bir\" + 0.036*\"ve\" + 0.034*\"ürün\"')\n",
      "(16, '0.096*\"sipariş\" + 0.043*\"hic\" + 0.040*\"saat\" + 0.038*\"pek\" + 0.036*\"verdim\" + 0.033*\"rahat\" + 0.019*\"kabul\"')\n",
      "(19, '0.046*\"5\" + 0.043*\"performans\" + 0.037*\"ürünü\" + 0.035*\"fiyat\" + 0.029*\"çıkıyor\" + 0.028*\"Gayet\" + 0.024*\"Fiyat\"')\n",
      "(20, '0.047*\"1\" + 0.040*\"gün\" + 0.038*\"çok\" + 0.037*\"2\" + 0.025*\"tane\" + 0.025*\"iki\" + 0.025*\"ve\"')\n",
      "(21, '0.136*\"için\" + 0.027*\"sakal\" + 0.025*\"ettim.\" + 0.024*\"süper\" + 0.023*\"sıfır\" + 0.019*\"olur\" + 0.019*\"olduğu\"')\n",
      "(22, '0.077*\"bozuk\" + 0.055*\"yeri\" + 0.052*\"değil.\" + 0.040*\"uzun\" + 0.030*\"onun\" + 0.028*\"dışında\" + 0.028*\"sıkıntı\"')\n",
      "(24, '0.045*\":)\" + 0.039*\"yanlış\" + 0.037*\"beklemeyin\" + 0.035*\"hep\" + 0.025*\"sürekli\" + 0.025*\"beğendim\" + 0.018*\"güzeldi\"')\n"
     ]
    }
   ],
   "source": [
    "#Oluşturulan soyut konular içinde en fazla bulunan terimler\n",
    "\n",
    "konular = lda_model.print_topics(num_words=7)\n",
    "konular = sorted(konular, key= lambda x : x[0])\n",
    "for konu in konular:\n",
    "    print(konu)"
   ]
  },
  {
   "cell_type": "code",
   "execution_count": 7,
   "metadata": {},
   "outputs": [
    {
     "name": "stderr",
     "output_type": "stream",
     "text": [
      "[nltk_data] Downloading package stopwords to\n",
      "[nltk_data]     C:\\Users\\Gülseren\\AppData\\Roaming\\nltk_data...\n",
      "[nltk_data]   Package stopwords is already up-to-date!\n",
      "[nltk_data] Downloading package vader_lexicon to\n",
      "[nltk_data]     C:\\Users\\Gülseren\\AppData\\Roaming\\nltk_data...\n",
      "[nltk_data]   Package vader_lexicon is already up-to-date!\n"
     ]
    },
    {
     "ename": "KeyError",
     "evalue": "'Column not found: Durum'",
     "output_type": "error",
     "traceback": [
      "\u001b[1;31m---------------------------------------------------------------------------\u001b[0m",
      "\u001b[1;31mKeyError\u001b[0m                                  Traceback (most recent call last)",
      "\u001b[1;32mc:\\Users\\Gülseren\\Documents\\GitHub\\Analysis-of-E-Commerce-Product-Reviews-with-NLP\\topic-modelling.ipynb Cell 15\u001b[0m line \u001b[0;36m2\n\u001b[0;32m     <a href='vscode-notebook-cell:/c%3A/Users/G%C3%BClseren/Documents/GitHub/Analysis-of-E-Commerce-Product-Reviews-with-NLP/topic-modelling.ipynb#X20sZmlsZQ%3D%3D?line=24'>25</a>\u001b[0m yorum_veriseti\u001b[39m.\u001b[39mhead(\u001b[39m20\u001b[39m)\n\u001b[0;32m     <a href='vscode-notebook-cell:/c%3A/Users/G%C3%BClseren/Documents/GitHub/Analysis-of-E-Commerce-Product-Reviews-with-NLP/topic-modelling.ipynb#X20sZmlsZQ%3D%3D?line=27'>28</a>\u001b[0m \u001b[39m#pozitif-negatif dağılımına bakmak için\u001b[39;00m\n\u001b[1;32m---> <a href='vscode-notebook-cell:/c%3A/Users/G%C3%BClseren/Documents/GitHub/Analysis-of-E-Commerce-Product-Reviews-with-NLP/topic-modelling.ipynb#X20sZmlsZQ%3D%3D?line=28'>29</a>\u001b[0m yorum_veriseti\u001b[39m.\u001b[39;49mgroupby(\u001b[39m\"\u001b[39;49m\u001b[39msentiment_label\u001b[39;49m\u001b[39m\"\u001b[39;49m)[\u001b[39m\"\u001b[39;49m\u001b[39mDurum\u001b[39;49m\u001b[39m\"\u001b[39;49m]\u001b[39m.\u001b[39mmean()\n\u001b[0;32m     <a href='vscode-notebook-cell:/c%3A/Users/G%C3%BClseren/Documents/GitHub/Analysis-of-E-Commerce-Product-Reviews-with-NLP/topic-modelling.ipynb#X20sZmlsZQ%3D%3D?line=31'>32</a>\u001b[0m \u001b[39m#Gruplama işlemini yaptıktan sonra Sentiment Label sütununu Label Encoder kullanarak sayısallaştırma işlemi yaptık.\u001b[39;00m\n\u001b[0;32m     <a href='vscode-notebook-cell:/c%3A/Users/G%C3%BClseren/Documents/GitHub/Analysis-of-E-Commerce-Product-Reviews-with-NLP/topic-modelling.ipynb#X20sZmlsZQ%3D%3D?line=32'>33</a>\u001b[0m \u001b[39m#  Daha sonrasında, yorumların bulunduğu Review sütununu X ve Sentiment Label sütununu da Y ekseni olarak aldık .\u001b[39;00m\n\u001b[0;32m     <a href='vscode-notebook-cell:/c%3A/Users/G%C3%BClseren/Documents/GitHub/Analysis-of-E-Commerce-Product-Reviews-with-NLP/topic-modelling.ipynb#X20sZmlsZQ%3D%3D?line=33'>34</a>\u001b[0m \u001b[39m#  Bu işlem daha sonra kelimeleri vektör haline getirmek için kullanacak olduğumuz Vectorizer yönteminde girdi olarak kullanılacaktır\u001b[39;00m\n\u001b[0;32m     <a href='vscode-notebook-cell:/c%3A/Users/G%C3%BClseren/Documents/GitHub/Analysis-of-E-Commerce-Product-Reviews-with-NLP/topic-modelling.ipynb#X20sZmlsZQ%3D%3D?line=34'>35</a>\u001b[0m \n\u001b[0;32m     <a href='vscode-notebook-cell:/c%3A/Users/G%C3%BClseren/Documents/GitHub/Analysis-of-E-Commerce-Product-Reviews-with-NLP/topic-modelling.ipynb#X20sZmlsZQ%3D%3D?line=35'>36</a>\u001b[0m \u001b[39m# X = df['Metin']\u001b[39;00m\n\u001b[0;32m     <a href='vscode-notebook-cell:/c%3A/Users/G%C3%BClseren/Documents/GitHub/Analysis-of-E-Commerce-Product-Reviews-with-NLP/topic-modelling.ipynb#X20sZmlsZQ%3D%3D?line=36'>37</a>\u001b[0m \u001b[39m# y = df['sentiment_label']     #?\u001b[39;00m\n",
      "File \u001b[1;32mc:\\Users\\Gülseren\\AppData\\Local\\Programs\\Python\\Python311\\Lib\\site-packages\\pandas\\core\\groupby\\generic.py:1964\u001b[0m, in \u001b[0;36mDataFrameGroupBy.__getitem__\u001b[1;34m(self, key)\u001b[0m\n\u001b[0;32m   1957\u001b[0m \u001b[39mif\u001b[39;00m \u001b[39misinstance\u001b[39m(key, \u001b[39mtuple\u001b[39m) \u001b[39mand\u001b[39;00m \u001b[39mlen\u001b[39m(key) \u001b[39m>\u001b[39m \u001b[39m1\u001b[39m:\n\u001b[0;32m   1958\u001b[0m     \u001b[39m# if len == 1, then it becomes a SeriesGroupBy and this is actually\u001b[39;00m\n\u001b[0;32m   1959\u001b[0m     \u001b[39m# valid syntax, so don't raise\u001b[39;00m\n\u001b[0;32m   1960\u001b[0m     \u001b[39mraise\u001b[39;00m \u001b[39mValueError\u001b[39;00m(\n\u001b[0;32m   1961\u001b[0m         \u001b[39m\"\u001b[39m\u001b[39mCannot subset columns with a tuple with more than one element. \u001b[39m\u001b[39m\"\u001b[39m\n\u001b[0;32m   1962\u001b[0m         \u001b[39m\"\u001b[39m\u001b[39mUse a list instead.\u001b[39m\u001b[39m\"\u001b[39m\n\u001b[0;32m   1963\u001b[0m     )\n\u001b[1;32m-> 1964\u001b[0m \u001b[39mreturn\u001b[39;00m \u001b[39msuper\u001b[39;49m()\u001b[39m.\u001b[39;49m\u001b[39m__getitem__\u001b[39;49m(key)\n",
      "File \u001b[1;32mc:\\Users\\Gülseren\\AppData\\Local\\Programs\\Python\\Python311\\Lib\\site-packages\\pandas\\core\\base.py:244\u001b[0m, in \u001b[0;36mSelectionMixin.__getitem__\u001b[1;34m(self, key)\u001b[0m\n\u001b[0;32m    242\u001b[0m \u001b[39melse\u001b[39;00m:\n\u001b[0;32m    243\u001b[0m     \u001b[39mif\u001b[39;00m key \u001b[39mnot\u001b[39;00m \u001b[39min\u001b[39;00m \u001b[39mself\u001b[39m\u001b[39m.\u001b[39mobj:\n\u001b[1;32m--> 244\u001b[0m         \u001b[39mraise\u001b[39;00m \u001b[39mKeyError\u001b[39;00m(\u001b[39mf\u001b[39m\u001b[39m\"\u001b[39m\u001b[39mColumn not found: \u001b[39m\u001b[39m{\u001b[39;00mkey\u001b[39m}\u001b[39;00m\u001b[39m\"\u001b[39m)\n\u001b[0;32m    245\u001b[0m     ndim \u001b[39m=\u001b[39m \u001b[39mself\u001b[39m\u001b[39m.\u001b[39mobj[key]\u001b[39m.\u001b[39mndim\n\u001b[0;32m    246\u001b[0m     \u001b[39mreturn\u001b[39;00m \u001b[39mself\u001b[39m\u001b[39m.\u001b[39m_gotitem(key, ndim\u001b[39m=\u001b[39mndim)\n",
      "\u001b[1;31mKeyError\u001b[0m: 'Column not found: Durum'"
     ]
    }
   ],
   "source": [
    "#DUYGU ANALİZİ\n",
    "\n",
    "\n",
    "import nltk\n",
    "from nltk.sentiment import SentimentIntensityAnalyzer\n",
    "\n",
    "\n",
    "nltk.download('vader_lexicon')\n",
    "\n",
    "\n",
    "sia = SentimentIntensityAnalyzer()\n",
    "yorum_veriseti[\"Metin\"].apply(lambda x: x.upper())\n",
    "\n",
    "yorum_veriseti[\"Metin\"][0:10].apply(lambda x: sia.polarity_scores(x))\n",
    "yorum_veriseti[\"polarity_score\"]=yorum_veriseti[\"Metin\"].apply(lambda x: sia.polarity_scores(x)[\"compound\"])\n",
    "yorum_veriseti.head() # müşteri yorumlarının polarity skoruna göre olumlu(1) ve olumsuz(0) olduğunu görebiliriz\n",
    "\n",
    "\n",
    "#DUYGU MODELLEMESİ(pozitif-negatif etiketleme)\n",
    "yorum_veriseti[\"Metin\"][0:10].apply(lambda x: \"positive\" if sia.polarity_scores(x)[\"compound\"] > 0 else \"negative\")\n",
    "#yorum eğer ki 1 değerini almış ise positive; yok eğer 0 değerini almış ise negative olarak modellemesini istiyoruz. Sonrasında bunu tüm dataset e uyguluyoruz\n",
    "yorum_veriseti[\"sentiment_label\"]= yorum_veriseti[\"Metin\"].apply(lambda x: \"pos\" if sia.polarity_scores(x)[\"compound\"] > 0 else \"neg\")\n",
    "yorum_veriseti.head(20)\n",
    "\n",
    "\n",
    "#pozitif-negatif dağılımına bakmak için\n",
    "yorum_veriseti.groupby(\"sentiment_label\")[\"Durum\"].mean()\n",
    "\n",
    "\n",
    "#Gruplama işlemini yaptıktan sonra Sentiment Label sütununu Label Encoder kullanarak sayısallaştırma işlemi yaptık.\n",
    "#  Daha sonrasında, yorumların bulunduğu Review sütununu X ve Sentiment Label sütununu da Y ekseni olarak aldık .\n",
    "#  Bu işlem daha sonra kelimeleri vektör haline getirmek için kullanacak olduğumuz Vectorizer yönteminde girdi olarak kullanılacaktır\n",
    "\n",
    "# X = df['Metin']\n",
    "# y = df['sentiment_label']     #?"
   ]
  },
  {
   "cell_type": "code",
   "execution_count": null,
   "metadata": {},
   "outputs": [
    {
     "name": "stdout",
     "output_type": "stream",
     "text": [
      "Sınıflandırma Raporu:\n",
      "              precision    recall  f1-score   support\n",
      "\n",
      "           0       0.91      0.93      0.92      1370\n",
      "           1       0.87      0.96      0.91      1384\n",
      "           2       0.61      0.24      0.34       280\n",
      "\n",
      "    accuracy                           0.88      3034\n",
      "   macro avg       0.80      0.71      0.73      3034\n",
      "weighted avg       0.87      0.88      0.86      3034\n",
      "\n",
      "Doğruluk (Accuracy): 0.8800263678312459\n"
     ]
    }
   ],
   "source": [
    "from sklearn.model_selection import train_test_split\n",
    "from sklearn.feature_extraction.text import CountVectorizer\n",
    "from sklearn.naive_bayes import MultinomialNB\n",
    "from sklearn.metrics import classification_report, accuracy_score\n",
    "\n",
    "# Örnek veri seti ve etiketleri\n",
    "X = df['Metin']\n",
    "y = df['Durum']  # 'Etiket' sütunu, sınıfları içermelidir.\n",
    "\n",
    "# Veriyi eğitim ve test setlerine bölme\n",
    "X_train, X_test, y_train, y_test = train_test_split(X, y, test_size=0.2, random_state=42)\n",
    "\n",
    "# Veriyi sayısal formata dönüştürme\n",
    "vectorizer = CountVectorizer()\n",
    "X_train_vec = vectorizer.fit_transform(X_train)\n",
    "X_test_vec = vectorizer.transform(X_test)\n",
    "\n",
    "# Naive Bayes sınıflandırma modelini eğitme\n",
    "model = MultinomialNB()\n",
    "model.fit(X_train_vec, y_train)\n",
    "\n",
    "# Test seti üzerinde tahmin yapma\n",
    "y_pred = model.predict(X_test_vec)\n",
    "\n",
    "# Sınıflandırma raporu ve doğruluk değeri\n",
    "print(\"Sınıflandırma Raporu:\")\n",
    "print(classification_report(y_test, y_pred))\n",
    "\n",
    "accuracy = accuracy_score(y_test, y_pred)\n",
    "print(f\"Doğruluk (Accuracy): {accuracy}\")\n"
   ]
  },
  {
   "cell_type": "code",
   "execution_count": null,
   "metadata": {},
   "outputs": [
    {
     "name": "stdout",
     "output_type": "stream",
     "text": [
      "Sınıflandırma Raporu:\n",
      "              precision    recall  f1-score   support\n",
      "\n",
      "           0       0.92      0.91      0.92      1370\n",
      "           1       0.91      0.95      0.93      1384\n",
      "           2       0.60      0.51      0.55       280\n",
      "\n",
      "    accuracy                           0.89      3034\n",
      "   macro avg       0.81      0.79      0.80      3034\n",
      "weighted avg       0.89      0.89      0.89      3034\n",
      "\n",
      "Doğruluk (Accuracy): 0.8915622940013184\n"
     ]
    },
    {
     "name": "stderr",
     "output_type": "stream",
     "text": [
      "c:\\Users\\lenovo\\AppData\\Local\\Programs\\Python\\Python310\\lib\\site-packages\\sklearn\\linear_model\\_logistic.py:458: ConvergenceWarning: lbfgs failed to converge (status=1):\n",
      "STOP: TOTAL NO. of ITERATIONS REACHED LIMIT.\n",
      "\n",
      "Increase the number of iterations (max_iter) or scale the data as shown in:\n",
      "    https://scikit-learn.org/stable/modules/preprocessing.html\n",
      "Please also refer to the documentation for alternative solver options:\n",
      "    https://scikit-learn.org/stable/modules/linear_model.html#logistic-regression\n",
      "  n_iter_i = _check_optimize_result(\n"
     ]
    }
   ],
   "source": [
    "from sklearn.model_selection import train_test_split\n",
    "from sklearn.feature_extraction.text import CountVectorizer\n",
    "from sklearn.linear_model import LogisticRegression\n",
    "from sklearn.metrics import classification_report, accuracy_score\n",
    "\n",
    "# Örnek veri seti ve etiketleri\n",
    "X = df['Metin']\n",
    "y = df['Durum']  # 'Etiket' sütunu, sınıfları içermelidir.\n",
    "\n",
    "# Veriyi eğitim ve test setlerine bölme\n",
    "X_train, X_test, y_train, y_test = train_test_split(X, y, test_size=0.2, random_state=42)\n",
    "\n",
    "# Veriyi sayısal formata dönüştürme\n",
    "vectorizer = CountVectorizer()\n",
    "X_train_vec = vectorizer.fit_transform(X_train)\n",
    "X_test_vec = vectorizer.transform(X_test)\n",
    "\n",
    "# LogisticRegression sınıflandırma modelini eğitme\n",
    "model = LogisticRegression()\n",
    "model.fit(X_train_vec, y_train)\n",
    "\n",
    "# Test seti üzerinde tahmin yapma\n",
    "y_pred = model.predict(X_test_vec)\n",
    "\n",
    "# Sınıflandırma raporu ve doğruluk değeri\n",
    "print(\"Sınıflandırma Raporu:\")\n",
    "print(classification_report(y_test, y_pred))\n",
    "\n",
    "accuracy = accuracy_score(y_test, y_pred)\n",
    "print(f\"Doğruluk (Accuracy): {accuracy}\")\n"
   ]
  },
  {
   "cell_type": "code",
   "execution_count": null,
   "metadata": {},
   "outputs": [
    {
     "name": "stdout",
     "output_type": "stream",
     "text": [
      "Sınıflandırma Raporu:\n",
      "              precision    recall  f1-score   support\n",
      "\n",
      "           0       0.91      0.93      0.92      1370\n",
      "           1       0.92      0.94      0.93      1384\n",
      "           2       0.61      0.50      0.55       280\n",
      "\n",
      "    accuracy                           0.89      3034\n",
      "   macro avg       0.81      0.79      0.80      3034\n",
      "weighted avg       0.89      0.89      0.89      3034\n",
      "\n",
      "Doğruluk (Accuracy): 0.8932102834541858\n"
     ]
    }
   ],
   "source": [
    "from sklearn.feature_extraction.text import TfidfVectorizer\n",
    "from sklearn.svm import SVC\n",
    "from sklearn.pipeline import make_pipeline\n",
    "from sklearn.model_selection import train_test_split\n",
    "from sklearn.metrics import classification_report, accuracy_score\n",
    "\n",
    "# Veriyi eğitim ve test setlerine bölme\n",
    "X_train, X_test, y_train, y_test = train_test_split(X, y, test_size=0.2, random_state=42)\n",
    "\n",
    "# TF-IDF vektörleştirici ve SVM sınıflandırıcıyı içeren bir pipeline oluşturun\n",
    "model = make_pipeline(TfidfVectorizer(), SVC(C=1.0, kernel='linear', gamma='auto'))\n",
    "\n",
    "# Modeli eğitin\n",
    "model.fit(X_train, y_train)\n",
    "\n",
    "# Test seti üzerinde tahmin yapın\n",
    "y_pred = model.predict(X_test)\n",
    "\n",
    "# Model performansını değerlendirin\n",
    "print(\"Sınıflandırma Raporu:\")\n",
    "print(classification_report(y_test, y_pred))\n",
    "\n",
    "accuracy = accuracy_score(y_test, y_pred)\n",
    "print(f\"Doğruluk (Accuracy): {accuracy}\")\n"
   ]
  },
  {
   "cell_type": "code",
   "execution_count": null,
   "metadata": {},
   "outputs": [
    {
     "name": "stdout",
     "output_type": "stream",
     "text": [
      "En İyi Parametreler: {'clf__C': 1, 'tfidf__max_features': None, 'tfidf__ngram_range': (1, 2)}\n",
      "Sınıflandırma Raporu:\n",
      "              precision    recall  f1-score   support\n",
      "\n",
      "           0       0.93      0.94      0.94      1370\n",
      "           1       0.92      0.95      0.94      1384\n",
      "           2       0.65      0.49      0.56       280\n",
      "\n",
      "    accuracy                           0.91      3034\n",
      "   macro avg       0.83      0.80      0.81      3034\n",
      "weighted avg       0.90      0.91      0.90      3034\n",
      "\n",
      "Doğruluk (Accuracy): 0.9060646011865524\n"
     ]
    }
   ],
   "source": [
    "from sklearn.model_selection import train_test_split, GridSearchCV\n",
    "from sklearn.feature_extraction.text import TfidfVectorizer\n",
    "from sklearn.svm import LinearSVC\n",
    "from sklearn.pipeline import Pipeline\n",
    "from sklearn.metrics import classification_report, accuracy_score\n",
    "\n",
    "# Veriyi eğitim ve test setlerine bölme\n",
    "X_train, X_test, y_train, y_test = train_test_split(X, y, test_size=0.2, random_state=42)\n",
    "\n",
    "# TF-IDF vektörleştirici ve LinearSVC sınıflandırıcıyı içeren bir pipeline oluşturun\n",
    "pipeline = Pipeline([\n",
    "    ('tfidf', TfidfVectorizer()),\n",
    "    ('clf', LinearSVC())\n",
    "])\n",
    "\n",
    "# Grid Search için parametreler\n",
    "param_grid = {\n",
    "    'tfidf__max_features': [1000, 5000, None],\n",
    "    'tfidf__ngram_range': [(1, 1), (1, 2)],\n",
    "    'clf__C': [0.1, 1, 10],\n",
    "}\n",
    "\n",
    "# Grid Search ve Cross-Validation\n",
    "grid_search = GridSearchCV(pipeline, param_grid, cv=5)\n",
    "grid_search.fit(X_train, y_train)\n",
    "\n",
    "# En iyi parametreleri göster\n",
    "print(\"En İyi Parametreler:\", grid_search.best_params_)\n",
    "\n",
    "# En iyi modeli kullanarak test seti üzerinde tahmin yapın\n",
    "y_pred = grid_search.predict(X_test)\n",
    "\n",
    "# Model performansını değerlendirin\n",
    "print(\"Sınıflandırma Raporu:\")\n",
    "print(classification_report(y_test, y_pred))\n",
    "\n",
    "accuracy = accuracy_score(y_test, y_pred)\n",
    "print(f\"Doğruluk (Accuracy): {accuracy}\")\n"
   ]
  }
 ],
 "metadata": {
  "kernelspec": {
   "display_name": "Python 3",
   "language": "python",
   "name": "python3"
  },
  "language_info": {
   "codemirror_mode": {
    "name": "ipython",
    "version": 3
   },
   "file_extension": ".py",
   "mimetype": "text/x-python",
   "name": "python",
   "nbconvert_exporter": "python",
   "pygments_lexer": "ipython3",
   "version": "3.11.4"
  }
 },
 "nbformat": 4,
 "nbformat_minor": 2
}
