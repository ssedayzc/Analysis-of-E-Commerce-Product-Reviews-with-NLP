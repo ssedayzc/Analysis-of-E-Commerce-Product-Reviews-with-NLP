{
 "cells": [
  {
   "cell_type": "code",
   "execution_count": 3,
   "metadata": {},
   "outputs": [
    {
     "data": {
      "text/html": [
       "<div>\n",
       "<style scoped>\n",
       "    .dataframe tbody tr th:only-of-type {\n",
       "        vertical-align: middle;\n",
       "    }\n",
       "\n",
       "    .dataframe tbody tr th {\n",
       "        vertical-align: top;\n",
       "    }\n",
       "\n",
       "    .dataframe thead th {\n",
       "        text-align: right;\n",
       "    }\n",
       "</style>\n",
       "<table border=\"1\" class=\"dataframe\">\n",
       "  <thead>\n",
       "    <tr style=\"text-align: right;\">\n",
       "      <th></th>\n",
       "      <th>Metin</th>\n",
       "      <th>Durum</th>\n",
       "    </tr>\n",
       "  </thead>\n",
       "  <tbody>\n",
       "    <tr>\n",
       "      <th>0</th>\n",
       "      <td>evet anlatıldığı gibi</td>\n",
       "      <td>1</td>\n",
       "    </tr>\n",
       "    <tr>\n",
       "      <th>1</th>\n",
       "      <td>Daha öncede almıştım bu cihazdan ense ve sakal...</td>\n",
       "      <td>1</td>\n",
       "    </tr>\n",
       "    <tr>\n",
       "      <th>2</th>\n",
       "      <td>Ürün gayet başarılı sakal kesmede başlık sayıs...</td>\n",
       "      <td>1</td>\n",
       "    </tr>\n",
       "    <tr>\n",
       "      <th>3</th>\n",
       "      <td>Daha öncede aynısını almıştım çok güzel ve kal...</td>\n",
       "      <td>1</td>\n",
       "    </tr>\n",
       "    <tr>\n",
       "      <th>4</th>\n",
       "      <td>Erkek kuaförüyüm ense ve sıfır sakal traşı içi...</td>\n",
       "      <td>1</td>\n",
       "    </tr>\n",
       "    <tr>\n",
       "      <th>...</th>\n",
       "      <td>...</td>\n",
       "      <td>...</td>\n",
       "    </tr>\n",
       "    <tr>\n",
       "      <th>15165</th>\n",
       "      <td>ışık seviyesi rezalet</td>\n",
       "      <td>0</td>\n",
       "    </tr>\n",
       "    <tr>\n",
       "      <th>15166</th>\n",
       "      <td>Hic begenmedim. Aydinlatma hic yok ve her kapa...</td>\n",
       "      <td>0</td>\n",
       "    </tr>\n",
       "    <tr>\n",
       "      <th>15167</th>\n",
       "      <td>2 gün sonra hoparlörü bozuldu kullanışsız</td>\n",
       "      <td>0</td>\n",
       "    </tr>\n",
       "    <tr>\n",
       "      <th>15168</th>\n",
       "      <td>aşırı boğuk bir sesi ve rengi var kumanda heme...</td>\n",
       "      <td>0</td>\n",
       "    </tr>\n",
       "    <tr>\n",
       "      <th>15169</th>\n",
       "      <td>Kumanda çok kalitesiz verdiğiniz paraya değmez</td>\n",
       "      <td>0</td>\n",
       "    </tr>\n",
       "  </tbody>\n",
       "</table>\n",
       "<p>15170 rows × 2 columns</p>\n",
       "</div>"
      ],
      "text/plain": [
       "                                                   Metin  Durum\n",
       "0                                  evet anlatıldığı gibi      1\n",
       "1      Daha öncede almıştım bu cihazdan ense ve sakal...      1\n",
       "2      Ürün gayet başarılı sakal kesmede başlık sayıs...      1\n",
       "3      Daha öncede aynısını almıştım çok güzel ve kal...      1\n",
       "4      Erkek kuaförüyüm ense ve sıfır sakal traşı içi...      1\n",
       "...                                                  ...    ...\n",
       "15165                              ışık seviyesi rezalet      0\n",
       "15166  Hic begenmedim. Aydinlatma hic yok ve her kapa...      0\n",
       "15167          2 gün sonra hoparlörü bozuldu kullanışsız      0\n",
       "15168  aşırı boğuk bir sesi ve rengi var kumanda heme...      0\n",
       "15169     Kumanda çok kalitesiz verdiğiniz paraya değmez      0\n",
       "\n",
       "[15170 rows x 2 columns]"
      ]
     },
     "execution_count": 3,
     "metadata": {},
     "output_type": "execute_result"
    }
   ],
   "source": [
    "import pandas as pd\n",
    "import warnings\n",
    "warnings.simplefilter(action='ignore', category=FutureWarning)\n",
    "\n",
    "\n",
    "df = pd.read_csv(\"e-ticaret_urun_yorumlari.csv\", delimiter=';')\n",
    "df"
   ]
  },
  {
   "cell_type": "markdown",
   "metadata": {},
   "source": [
    "METİNLERİN DÜZENLENMESİ"
   ]
  },
  {
   "cell_type": "code",
   "execution_count": 4,
   "metadata": {},
   "outputs": [],
   "source": [
    "df['Yeni Metin'] = df['Metin']\n",
    "#buyuk-kucuk donusumu\n",
    "df['Yeni Metin'] = df['Yeni Metin'].apply(lambda x: \" \".join(x.lower() for x in x.split()))\n",
    "#noktalama işaretleri\n",
    "df['Yeni Metin'] = df['Yeni Metin'].str.replace('[^\\w\\s]','')\n",
    "#sayılar\n",
    "df['Yeni Metin'] = df['Yeni Metin'].str.replace('\\d','')\n",
    "#stopwords\n",
    "import nltk\n",
    "#nltk.download('stopwords')\n",
    "from nltk.corpus import stopwords\n",
    "sw = stopwords.words('turkish')\n",
    "df['Yeni Metin'] = df['Yeni Metin'].apply(lambda x: \" \".join(x for x in x.split() if x not in sw))"
   ]
  },
  {
   "cell_type": "code",
   "execution_count": 5,
   "metadata": {},
   "outputs": [
    {
     "data": {
      "text/html": [
       "<div>\n",
       "<style scoped>\n",
       "    .dataframe tbody tr th:only-of-type {\n",
       "        vertical-align: middle;\n",
       "    }\n",
       "\n",
       "    .dataframe tbody tr th {\n",
       "        vertical-align: top;\n",
       "    }\n",
       "\n",
       "    .dataframe thead th {\n",
       "        text-align: right;\n",
       "    }\n",
       "</style>\n",
       "<table border=\"1\" class=\"dataframe\">\n",
       "  <thead>\n",
       "    <tr style=\"text-align: right;\">\n",
       "      <th></th>\n",
       "      <th>Metin</th>\n",
       "      <th>Yeni Metin</th>\n",
       "    </tr>\n",
       "  </thead>\n",
       "  <tbody>\n",
       "    <tr>\n",
       "      <th>0</th>\n",
       "      <td>evet anlatıldığı gibi</td>\n",
       "      <td>evet anlatıldığı</td>\n",
       "    </tr>\n",
       "    <tr>\n",
       "      <th>1</th>\n",
       "      <td>Daha öncede almıştım bu cihazdan ense ve sakal...</td>\n",
       "      <td>öncede almıştım cihazdan ense sakal tüketmek o...</td>\n",
       "    </tr>\n",
       "    <tr>\n",
       "      <th>2</th>\n",
       "      <td>Ürün gayet başarılı sakal kesmede başlık sayıs...</td>\n",
       "      <td>ürün gayet başarılı sakal kesmede başlık sayıs...</td>\n",
       "    </tr>\n",
       "    <tr>\n",
       "      <th>3</th>\n",
       "      <td>Daha öncede aynısını almıştım çok güzel ve kal...</td>\n",
       "      <td>öncede aynısını almıştım güzel kaliteli bir ürün.</td>\n",
       "    </tr>\n",
       "    <tr>\n",
       "      <th>4</th>\n",
       "      <td>Erkek kuaförüyüm ense ve sıfır sakal traşı içi...</td>\n",
       "      <td>erkek kuaförüyüm ense sıfır sakal traşı uygun ...</td>\n",
       "    </tr>\n",
       "    <tr>\n",
       "      <th>5</th>\n",
       "      <td>ürün gerçekten çok güzel</td>\n",
       "      <td>ürün gerçekten güzel</td>\n",
       "    </tr>\n",
       "    <tr>\n",
       "      <th>6</th>\n",
       "      <td>Ürün beklediğimden güzel çıktı gayet kullanışl...</td>\n",
       "      <td>ürün beklediğimden güzel çıktı gayet kullanışl...</td>\n",
       "    </tr>\n",
       "    <tr>\n",
       "      <th>7</th>\n",
       "      <td>güzel makina tavsiye ederim</td>\n",
       "      <td>güzel makina tavsiye ederim</td>\n",
       "    </tr>\n",
       "    <tr>\n",
       "      <th>8</th>\n",
       "      <td>tavsiye edebileceğim çok güzel bir makina</td>\n",
       "      <td>tavsiye edebileceğim güzel bir makina</td>\n",
       "    </tr>\n",
       "    <tr>\n",
       "      <th>9</th>\n",
       "      <td>ürün geldiğinde şarjı vardı. ilk lullanım önce...</td>\n",
       "      <td>ürün geldiğinde şarjı vardı. ilk lullanım önce...</td>\n",
       "    </tr>\n",
       "  </tbody>\n",
       "</table>\n",
       "</div>"
      ],
      "text/plain": [
       "                                               Metin  \\\n",
       "0                              evet anlatıldığı gibi   \n",
       "1  Daha öncede almıştım bu cihazdan ense ve sakal...   \n",
       "2  Ürün gayet başarılı sakal kesmede başlık sayıs...   \n",
       "3  Daha öncede aynısını almıştım çok güzel ve kal...   \n",
       "4  Erkek kuaförüyüm ense ve sıfır sakal traşı içi...   \n",
       "5                           ürün gerçekten çok güzel   \n",
       "6  Ürün beklediğimden güzel çıktı gayet kullanışl...   \n",
       "7                        güzel makina tavsiye ederim   \n",
       "8          tavsiye edebileceğim çok güzel bir makina   \n",
       "9  ürün geldiğinde şarjı vardı. ilk lullanım önce...   \n",
       "\n",
       "                                          Yeni Metin  \n",
       "0                                   evet anlatıldığı  \n",
       "1  öncede almıştım cihazdan ense sakal tüketmek o...  \n",
       "2  ürün gayet başarılı sakal kesmede başlık sayıs...  \n",
       "3  öncede aynısını almıştım güzel kaliteli bir ürün.  \n",
       "4  erkek kuaförüyüm ense sıfır sakal traşı uygun ...  \n",
       "5                               ürün gerçekten güzel  \n",
       "6  ürün beklediğimden güzel çıktı gayet kullanışl...  \n",
       "7                        güzel makina tavsiye ederim  \n",
       "8              tavsiye edebileceğim güzel bir makina  \n",
       "9  ürün geldiğinde şarjı vardı. ilk lullanım önce...  "
      ]
     },
     "execution_count": 5,
     "metadata": {},
     "output_type": "execute_result"
    }
   ],
   "source": [
    "df[['Metin',\"Yeni Metin\"]][:10]"
   ]
  },
  {
   "cell_type": "markdown",
   "metadata": {},
   "source": [
    "KELİME KÖKLEME"
   ]
  },
  {
   "cell_type": "code",
   "execution_count": 7,
   "metadata": {},
   "outputs": [
    {
     "name": "stdout",
     "output_type": "stream",
     "text": [
      "['teşekkür']\n"
     ]
    },
    {
     "data": {
      "text/html": [
       "<div>\n",
       "<style scoped>\n",
       "    .dataframe tbody tr th:only-of-type {\n",
       "        vertical-align: middle;\n",
       "    }\n",
       "\n",
       "    .dataframe tbody tr th {\n",
       "        vertical-align: top;\n",
       "    }\n",
       "\n",
       "    .dataframe thead th {\n",
       "        text-align: right;\n",
       "    }\n",
       "</style>\n",
       "<table border=\"1\" class=\"dataframe\">\n",
       "  <thead>\n",
       "    <tr style=\"text-align: right;\">\n",
       "      <th></th>\n",
       "      <th>Yeni Metin</th>\n",
       "      <th>Kök Metin</th>\n",
       "    </tr>\n",
       "  </thead>\n",
       "  <tbody>\n",
       "    <tr>\n",
       "      <th>0</th>\n",
       "      <td>evet anlatıldığı</td>\n",
       "      <td>evet anlatıldık</td>\n",
       "    </tr>\n",
       "    <tr>\n",
       "      <th>1</th>\n",
       "      <td>öncede almıştım cihazdan ense sakal tüketmek o...</td>\n",
       "      <td>önce almış cihaz en sakal tüketmek on numar sı...</td>\n",
       "    </tr>\n",
       "    <tr>\n",
       "      <th>2</th>\n",
       "      <td>ürün gayet başarılı sakal kesmede başlık sayıs...</td>\n",
       "      <td>ür gayet başarıl sakal kesme başlık sayıs bira...</td>\n",
       "    </tr>\n",
       "    <tr>\n",
       "      <th>3</th>\n",
       "      <td>öncede aynısını almıştım güzel kaliteli bir ürün.</td>\n",
       "      <td>önce aynı almış güzel kalitel bir ürün.</td>\n",
       "    </tr>\n",
       "    <tr>\n",
       "      <th>4</th>\n",
       "      <td>erkek kuaförüyüm ense sıfır sakal traşı uygun ...</td>\n",
       "      <td>erkek kuaför en sıfır sakal traş uygu bir ür</td>\n",
       "    </tr>\n",
       "    <tr>\n",
       "      <th>5</th>\n",
       "      <td>ürün gerçekten güzel</td>\n",
       "      <td>ür gerçek güzel</td>\n",
       "    </tr>\n",
       "    <tr>\n",
       "      <th>6</th>\n",
       "      <td>ürün beklediğimden güzel çıktı gayet kullanışl...</td>\n",
       "      <td>ür bekledik güzel çık gayet kullanışlı tark bi...</td>\n",
       "    </tr>\n",
       "    <tr>\n",
       "      <th>7</th>\n",
       "      <td>güzel makina tavsiye ederim</td>\n",
       "      <td>güzel mak tavsi eder</td>\n",
       "    </tr>\n",
       "    <tr>\n",
       "      <th>8</th>\n",
       "      <td>tavsiye edebileceğim güzel bir makina</td>\n",
       "      <td>tavsi edebilecek güzel bir mak</td>\n",
       "    </tr>\n",
       "    <tr>\n",
       "      <th>9</th>\n",
       "      <td>ürün geldiğinde şarjı vardı. ilk lullanım önce...</td>\n",
       "      <td>ür geldik şarjı vardı. ilk lulla önces 10 saat...</td>\n",
       "    </tr>\n",
       "  </tbody>\n",
       "</table>\n",
       "</div>"
      ],
      "text/plain": [
       "                                          Yeni Metin  \\\n",
       "0                                   evet anlatıldığı   \n",
       "1  öncede almıştım cihazdan ense sakal tüketmek o...   \n",
       "2  ürün gayet başarılı sakal kesmede başlık sayıs...   \n",
       "3  öncede aynısını almıştım güzel kaliteli bir ürün.   \n",
       "4  erkek kuaförüyüm ense sıfır sakal traşı uygun ...   \n",
       "5                               ürün gerçekten güzel   \n",
       "6  ürün beklediğimden güzel çıktı gayet kullanışl...   \n",
       "7                        güzel makina tavsiye ederim   \n",
       "8              tavsiye edebileceğim güzel bir makina   \n",
       "9  ürün geldiğinde şarjı vardı. ilk lullanım önce...   \n",
       "\n",
       "                                           Kök Metin  \n",
       "0                                    evet anlatıldık  \n",
       "1  önce almış cihaz en sakal tüketmek on numar sı...  \n",
       "2  ür gayet başarıl sakal kesme başlık sayıs bira...  \n",
       "3            önce aynı almış güzel kalitel bir ürün.  \n",
       "4       erkek kuaför en sıfır sakal traş uygu bir ür  \n",
       "5                                    ür gerçek güzel  \n",
       "6  ür bekledik güzel çık gayet kullanışlı tark bi...  \n",
       "7                               güzel mak tavsi eder  \n",
       "8                     tavsi edebilecek güzel bir mak  \n",
       "9  ür geldik şarjı vardı. ilk lulla önces 10 saat...  "
      ]
     },
     "execution_count": 7,
     "metadata": {},
     "output_type": "execute_result"
    }
   ],
   "source": [
    "import snowballstemmer\n",
    "\n",
    "stemmer = snowballstemmer.stemmer('turkish')\n",
    "\n",
    "print(stemmer.stemWords(\"teşekkürler\".split()))\n",
    "\n",
    "df[\"Kök Metin\"]=df[\"Yeni Metin\"].apply(lambda x: \" \".join([stemmer.stemWord(word) for word in x.split()]))\n",
    "\n",
    "df[[\"Yeni Metin\",'Kök Metin']][:10]\n"
   ]
  },
  {
   "cell_type": "markdown",
   "metadata": {},
   "source": [
    "TF-IDF"
   ]
  },
  {
   "cell_type": "code",
   "execution_count": 8,
   "metadata": {},
   "outputs": [
    {
     "data": {
      "text/html": [
       "<div>\n",
       "<style scoped>\n",
       "    .dataframe tbody tr th:only-of-type {\n",
       "        vertical-align: middle;\n",
       "    }\n",
       "\n",
       "    .dataframe tbody tr th {\n",
       "        vertical-align: top;\n",
       "    }\n",
       "\n",
       "    .dataframe thead th {\n",
       "        text-align: right;\n",
       "    }\n",
       "</style>\n",
       "<table border=\"1\" class=\"dataframe\">\n",
       "  <thead>\n",
       "    <tr style=\"text-align: right;\">\n",
       "      <th></th>\n",
       "      <th>index</th>\n",
       "      <th>0</th>\n",
       "    </tr>\n",
       "  </thead>\n",
       "  <tbody>\n",
       "    <tr>\n",
       "      <th>0</th>\n",
       "      <td>evet</td>\n",
       "      <td>113.0</td>\n",
       "    </tr>\n",
       "    <tr>\n",
       "      <th>1</th>\n",
       "      <td>anlatıldık</td>\n",
       "      <td>66.0</td>\n",
       "    </tr>\n",
       "    <tr>\n",
       "      <th>2</th>\n",
       "      <td>önce</td>\n",
       "      <td>30.0</td>\n",
       "    </tr>\n",
       "    <tr>\n",
       "      <th>3</th>\n",
       "      <td>almış</td>\n",
       "      <td>270.0</td>\n",
       "    </tr>\n",
       "    <tr>\n",
       "      <th>4</th>\n",
       "      <td>cihaz</td>\n",
       "      <td>119.0</td>\n",
       "    </tr>\n",
       "    <tr>\n",
       "      <th>...</th>\n",
       "      <td>...</td>\n",
       "      <td>...</td>\n",
       "    </tr>\n",
       "    <tr>\n",
       "      <th>16345</th>\n",
       "      <td>ve.</td>\n",
       "      <td>1.0</td>\n",
       "    </tr>\n",
       "    <tr>\n",
       "      <th>16346</th>\n",
       "      <td>gwliyo.</td>\n",
       "      <td>1.0</td>\n",
       "    </tr>\n",
       "    <tr>\n",
       "      <th>16347</th>\n",
       "      <td>kapattigi</td>\n",
       "      <td>1.0</td>\n",
       "    </tr>\n",
       "    <tr>\n",
       "      <th>16348</th>\n",
       "      <td>ayari</td>\n",
       "      <td>1.0</td>\n",
       "    </tr>\n",
       "    <tr>\n",
       "      <th>16349</th>\n",
       "      <td>sifirlaniyor</td>\n",
       "      <td>1.0</td>\n",
       "    </tr>\n",
       "  </tbody>\n",
       "</table>\n",
       "<p>16350 rows × 2 columns</p>\n",
       "</div>"
      ],
      "text/plain": [
       "              index      0\n",
       "0              evet  113.0\n",
       "1        anlatıldık   66.0\n",
       "2              önce   30.0\n",
       "3             almış  270.0\n",
       "4             cihaz  119.0\n",
       "...             ...    ...\n",
       "16345           ve.    1.0\n",
       "16346       gwliyo.    1.0\n",
       "16347     kapattigi    1.0\n",
       "16348         ayari    1.0\n",
       "16349  sifirlaniyor    1.0\n",
       "\n",
       "[16350 rows x 2 columns]"
      ]
     },
     "execution_count": 8,
     "metadata": {},
     "output_type": "execute_result"
    }
   ],
   "source": [
    "tf = (df[\"Kök Metin\"]).apply(lambda x: \n",
    "                             pd.value_counts(x.split(\" \"))).sum(axis = 0).reset_index()\n",
    "tf"
   ]
  },
  {
   "cell_type": "code",
   "execution_count": 11,
   "metadata": {},
   "outputs": [
    {
     "name": "stdout",
     "output_type": "stream",
     "text": [
      "        00  0000  00000000   01   04  05468911163   0a  0dan  0la  0ldu  ...  \\\n",
      "0      0.0   0.0       0.0  0.0  0.0          0.0  0.0   0.0  0.0   0.0  ...   \n",
      "1      0.0   0.0       0.0  0.0  0.0          0.0  0.0   0.0  0.0   0.0  ...   \n",
      "2      0.0   0.0       0.0  0.0  0.0          0.0  0.0   0.0  0.0   0.0  ...   \n",
      "3      0.0   0.0       0.0  0.0  0.0          0.0  0.0   0.0  0.0   0.0  ...   \n",
      "4      0.0   0.0       0.0  0.0  0.0          0.0  0.0   0.0  0.0   0.0  ...   \n",
      "...    ...   ...       ...  ...  ...          ...  ...   ...  ...   ...  ...   \n",
      "15165  0.0   0.0       0.0  0.0  0.0          0.0  0.0   0.0  0.0   0.0  ...   \n",
      "15166  0.0   0.0       0.0  0.0  0.0          0.0  0.0   0.0  0.0   0.0  ...   \n",
      "15167  0.0   0.0       0.0  0.0  0.0          0.0  0.0   0.0  0.0   0.0  ...   \n",
      "15168  0.0   0.0       0.0  0.0  0.0          0.0  0.0   0.0  0.0   0.0  ...   \n",
      "15169  0.0   0.0       0.0  0.0  0.0          0.0  0.0   0.0  0.0   0.0  ...   \n",
      "\n",
      "       şur   şö  şöför  şüküllü  şükür  şüphe  şüphel  şüphelendim  şık  \\\n",
      "0      0.0  0.0    0.0      0.0    0.0    0.0     0.0          0.0  0.0   \n",
      "1      0.0  0.0    0.0      0.0    0.0    0.0     0.0          0.0  0.0   \n",
      "2      0.0  0.0    0.0      0.0    0.0    0.0     0.0          0.0  0.0   \n",
      "3      0.0  0.0    0.0      0.0    0.0    0.0     0.0          0.0  0.0   \n",
      "4      0.0  0.0    0.0      0.0    0.0    0.0     0.0          0.0  0.0   \n",
      "...    ...  ...    ...      ...    ...    ...     ...          ...  ...   \n",
      "15165  0.0  0.0    0.0      0.0    0.0    0.0     0.0          0.0  0.0   \n",
      "15166  0.0  0.0    0.0      0.0    0.0    0.0     0.0          0.0  0.0   \n",
      "15167  0.0  0.0    0.0      0.0    0.0    0.0     0.0          0.0  0.0   \n",
      "15168  0.0  0.0    0.0      0.0    0.0    0.0     0.0          0.0  0.0   \n",
      "15169  0.0  0.0    0.0      0.0    0.0    0.0     0.0          0.0  0.0   \n",
      "\n",
      "       şıklık  \n",
      "0         0.0  \n",
      "1         0.0  \n",
      "2         0.0  \n",
      "3         0.0  \n",
      "4         0.0  \n",
      "...       ...  \n",
      "15165     0.0  \n",
      "15166     0.0  \n",
      "15167     0.0  \n",
      "15168     0.0  \n",
      "15169     0.0  \n",
      "\n",
      "[15170 rows x 12837 columns]\n"
     ]
    }
   ],
   "source": [
    "from sklearn.feature_extraction.text import TfidfVectorizer\n",
    "import pandas as pd\n",
    "\n",
    "vectorizer = TfidfVectorizer()\n",
    "Xtf = vectorizer.fit_transform(df[\"Kök Metin\"])\n",
    "\n",
    "# Use get_feature_names_out() instead of get_feature_names()\n",
    "tokens = vectorizer.get_feature_names_out()\n",
    "\n",
    "tf_idf = pd.DataFrame(data=Xtf.toarray(), columns=tokens)\n",
    "print(tf_idf)\n"
   ]
  },
  {
   "cell_type": "markdown",
   "metadata": {},
   "source": [
    "DUYGU ANALİZİ"
   ]
  },
  {
   "cell_type": "code",
   "execution_count": 12,
   "metadata": {},
   "outputs": [
    {
     "name": "stdout",
     "output_type": "stream",
     "text": [
      "Multinominal Accuracy: 0.8626675455943749\n",
      "              precision    recall  f1-score   support\n",
      "\n",
      "           0       0.88      0.95      0.92      2065\n",
      "           1       0.85      0.95      0.90      2051\n",
      "           2       1.00      0.02      0.03       435\n",
      "\n",
      "    accuracy                           0.86      4551\n",
      "   macro avg       0.91      0.64      0.61      4551\n",
      "weighted avg       0.88      0.86      0.82      4551\n",
      "\n",
      "Multinominal train Accuracy: 0.8853941049063\n",
      "              precision    recall  f1-score   support\n",
      "\n",
      "           0       0.91      0.97      0.94      4913\n",
      "           1       0.86      0.97      0.92      4748\n",
      "           2       1.00      0.03      0.06       958\n",
      "\n",
      "    accuracy                           0.89     10619\n",
      "   macro avg       0.92      0.66      0.64     10619\n",
      "weighted avg       0.90      0.89      0.85     10619\n",
      "\n",
      "------------------------------------------------------------------------------------------\n",
      "test cross val skor: 0.8565124349334876\n",
      "train cross val skor: 0.8662760853474761\n"
     ]
    }
   ],
   "source": [
    "from sklearn.metrics import confusion_matrix, accuracy_score, classification_report\n",
    "from sklearn.model_selection import cross_val_score \n",
    "from sklearn import model_selection\n",
    "from sklearn import naive_bayes\n",
    "train_x, test_x, train_y, test_y = model_selection.train_test_split(tf_idf,\n",
    "                                                                   df[\"Durum\"],\n",
    "                                                                    test_size=0.30,\n",
    "                                                                    random_state = 42\n",
    "                                                                    )\n",
    "nb_multi = naive_bayes.MultinomialNB()\n",
    "nb_model_multi = nb_multi.fit(train_x,train_y)\n",
    "y_pred_nb_multi=nb_model_multi.predict(test_x)\n",
    "print(\"Multinominal Accuracy:\", accuracy_score(test_y, y_pred_nb_multi, normalize=True))\n",
    "print(classification_report(test_y, y_pred_nb_multi))\n",
    "\n",
    "y_pred_nb_multi_train=nb_model_multi.predict(train_x)\n",
    "print(\"Multinominal train Accuracy:\", accuracy_score(train_y, y_pred_nb_multi_train, normalize=True))\n",
    "print(classification_report(train_y, y_pred_nb_multi_train))\n",
    "\n",
    "print(\"------------------------------------------------------------------------------------------\")\n",
    "\n",
    "print(\"test cross val skor:\" , cross_val_score(nb_model_multi, test_x, test_y, cv = 10).mean())\n",
    "\n",
    "print(\"train cross val skor:\" ,cross_val_score(nb_model_multi, train_x, train_y, cv = 10).mean())"
   ]
  },
  {
   "cell_type": "markdown",
   "metadata": {},
   "source": [
    "YENİ YORUM DUYGU TAHMİNİ"
   ]
  },
  {
   "cell_type": "code",
   "execution_count": 20,
   "metadata": {},
   "outputs": [
    {
     "data": {
      "text/plain": [
       "<1x12837 sparse matrix of type '<class 'numpy.float64'>'\n",
       "\twith 20 stored elements in Compressed Sparse Row format>"
      ]
     },
     "execution_count": 20,
     "metadata": {},
     "output_type": "execute_result"
    }
   ],
   "source": [
    "yeni_yorum = pd.Series(\"168 boyum 83 kg yum gerçekten üzerime şahane oldu ve çok beğendim sadece yaka kısmı bana göre biraz açık onada iğne yada gizli bir dikişle halledicem  kalitesi kumaşı herseyiyle çok güzel teşekkürler\") #olumlu\n",
    "\n",
    "yeni_yorum2 = pd.Series(\"Yanlış elbise göndermişler. Bu elbiseyle alakası yok\") #olumsuz\n",
    "\n",
    "yeni_yorum3 = pd.Series(\"az kalın olabilirdi\") #nötr\n",
    "\n",
    "yeni_yorum = vectorizer.transform(yeni_yorum)\n",
    "yeni_yorum\n",
    "\n"
   ]
  },
  {
   "cell_type": "code",
   "execution_count": 21,
   "metadata": {},
   "outputs": [
    {
     "data": {
      "text/plain": [
       "array([1], dtype=int64)"
      ]
     },
     "execution_count": 21,
     "metadata": {},
     "output_type": "execute_result"
    }
   ],
   "source": [
    "nb_model_multi.predict(yeni_yorum)\n"
   ]
  },
  {
   "cell_type": "code",
   "execution_count": 22,
   "metadata": {},
   "outputs": [
    {
     "data": {
      "text/plain": [
       "<1x12837 sparse matrix of type '<class 'numpy.float64'>'\n",
       "\twith 4 stored elements in Compressed Sparse Row format>"
      ]
     },
     "execution_count": 22,
     "metadata": {},
     "output_type": "execute_result"
    }
   ],
   "source": [
    "yeni_yorum2 = vectorizer.transform(yeni_yorum2)\n",
    "yeni_yorum2\n"
   ]
  },
  {
   "cell_type": "code",
   "execution_count": 23,
   "metadata": {},
   "outputs": [
    {
     "data": {
      "text/plain": [
       "array([0], dtype=int64)"
      ]
     },
     "execution_count": 23,
     "metadata": {},
     "output_type": "execute_result"
    }
   ],
   "source": [
    "nb_model_multi.predict(yeni_yorum2)\n"
   ]
  },
  {
   "cell_type": "code",
   "execution_count": 24,
   "metadata": {},
   "outputs": [
    {
     "data": {
      "text/plain": [
       "<1x12837 sparse matrix of type '<class 'numpy.float64'>'\n",
       "\twith 3 stored elements in Compressed Sparse Row format>"
      ]
     },
     "execution_count": 24,
     "metadata": {},
     "output_type": "execute_result"
    }
   ],
   "source": [
    "yeni_yorum3 = vectorizer.transform(yeni_yorum3)\n",
    "yeni_yorum3\n"
   ]
  },
  {
   "cell_type": "code",
   "execution_count": 25,
   "metadata": {},
   "outputs": [
    {
     "data": {
      "text/plain": [
       "array([0], dtype=int64)"
      ]
     },
     "execution_count": 25,
     "metadata": {},
     "output_type": "execute_result"
    }
   ],
   "source": [
    "nb_model_multi.predict(yeni_yorum3)"
   ]
  }
 ],
 "metadata": {
  "kernelspec": {
   "display_name": "Python 3",
   "language": "python",
   "name": "python3"
  },
  "language_info": {
   "codemirror_mode": {
    "name": "ipython",
    "version": 3
   },
   "file_extension": ".py",
   "mimetype": "text/x-python",
   "name": "python",
   "nbconvert_exporter": "python",
   "pygments_lexer": "ipython3",
   "version": "3.10.7"
  }
 },
 "nbformat": 4,
 "nbformat_minor": 2
}
