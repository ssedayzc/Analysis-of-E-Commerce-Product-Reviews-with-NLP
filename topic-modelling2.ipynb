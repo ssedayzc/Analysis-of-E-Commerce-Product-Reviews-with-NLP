{
 "cells": [
  {
   "cell_type": "code",
   "execution_count": 71,
   "metadata": {},
   "outputs": [
    {
     "data": {
      "text/html": [
       "<div>\n",
       "<style scoped>\n",
       "    .dataframe tbody tr th:only-of-type {\n",
       "        vertical-align: middle;\n",
       "    }\n",
       "\n",
       "    .dataframe tbody tr th {\n",
       "        vertical-align: top;\n",
       "    }\n",
       "\n",
       "    .dataframe thead th {\n",
       "        text-align: right;\n",
       "    }\n",
       "</style>\n",
       "<table border=\"1\" class=\"dataframe\">\n",
       "  <thead>\n",
       "    <tr style=\"text-align: right;\">\n",
       "      <th></th>\n",
       "      <th>Metin</th>\n",
       "      <th>Durum</th>\n",
       "      <th>Alan</th>\n",
       "      <th>Konu</th>\n",
       "    </tr>\n",
       "  </thead>\n",
       "  <tbody>\n",
       "    <tr>\n",
       "      <th>0</th>\n",
       "      <td>Ekran kalitesi çok düşük</td>\n",
       "      <td>0</td>\n",
       "      <td>Teknoloji</td>\n",
       "      <td>ekran</td>\n",
       "    </tr>\n",
       "    <tr>\n",
       "      <th>1</th>\n",
       "      <td>elbise iyi</td>\n",
       "      <td>1</td>\n",
       "      <td>Moda</td>\n",
       "      <td>kalite</td>\n",
       "    </tr>\n",
       "    <tr>\n",
       "      <th>2</th>\n",
       "      <td>nostaljii...ekrani kucuk ama is goruyor??</td>\n",
       "      <td>1</td>\n",
       "      <td>Teknoloji</td>\n",
       "      <td>ekran</td>\n",
       "    </tr>\n",
       "    <tr>\n",
       "      <th>3</th>\n",
       "      <td>mükemmel ama şarjı çabuk bitiyor</td>\n",
       "      <td>2</td>\n",
       "      <td>Teknoloji</td>\n",
       "      <td>şarj</td>\n",
       "    </tr>\n",
       "  </tbody>\n",
       "</table>\n",
       "</div>"
      ],
      "text/plain": [
       "                                       Metin Durum       Alan    Konu\n",
       "0                   Ekran kalitesi çok düşük     0  Teknoloji   ekran\n",
       "1                                 elbise iyi     1       Moda  kalite\n",
       "2  nostaljii...ekrani kucuk ama is goruyor??     1  Teknoloji   ekran\n",
       "3           mükemmel ama şarjı çabuk bitiyor     2  Teknoloji    şarj"
      ]
     },
     "execution_count": 71,
     "metadata": {},
     "output_type": "execute_result"
    }
   ],
   "source": [
    "import numpy as np\n",
    "import pandas as pd\n",
    "\n",
    "df = pd.read_csv(\"TeknolojiYorumları .csv\", delimiter=';')\n",
    "df.head(4)"
   ]
  },
  {
   "cell_type": "code",
   "execution_count": 72,
   "metadata": {},
   "outputs": [
    {
     "data": {
      "text/html": [
       "<div>\n",
       "<style scoped>\n",
       "    .dataframe tbody tr th:only-of-type {\n",
       "        vertical-align: middle;\n",
       "    }\n",
       "\n",
       "    .dataframe tbody tr th {\n",
       "        vertical-align: top;\n",
       "    }\n",
       "\n",
       "    .dataframe thead th {\n",
       "        text-align: right;\n",
       "    }\n",
       "</style>\n",
       "<table border=\"1\" class=\"dataframe\">\n",
       "  <thead>\n",
       "    <tr style=\"text-align: right;\">\n",
       "      <th></th>\n",
       "      <th>Metin</th>\n",
       "    </tr>\n",
       "  </thead>\n",
       "  <tbody>\n",
       "    <tr>\n",
       "      <th>0</th>\n",
       "      <td>Ekran kalitesi çok düşük</td>\n",
       "    </tr>\n",
       "    <tr>\n",
       "      <th>1</th>\n",
       "      <td>elbise iyi</td>\n",
       "    </tr>\n",
       "    <tr>\n",
       "      <th>2</th>\n",
       "      <td>nostaljii...ekrani kucuk ama is goruyor??</td>\n",
       "    </tr>\n",
       "    <tr>\n",
       "      <th>3</th>\n",
       "      <td>mükemmel ama şarjı çabuk bitiyor</td>\n",
       "    </tr>\n",
       "  </tbody>\n",
       "</table>\n",
       "</div>"
      ],
      "text/plain": [
       "                                       Metin\n",
       "0                   Ekran kalitesi çok düşük\n",
       "1                                 elbise iyi\n",
       "2  nostaljii...ekrani kucuk ama is goruyor??\n",
       "3           mükemmel ama şarjı çabuk bitiyor"
      ]
     },
     "execution_count": 72,
     "metadata": {},
     "output_type": "execute_result"
    }
   ],
   "source": [
    "#Sadece metin sütunun kullanılması, konu modelleme için yeterli olacaktır.\n",
    "yorum_veriseti=df[[\"Metin\"]]\n",
    "yorum_veriseti.head(4)\n"
   ]
  },
  {
   "cell_type": "code",
   "execution_count": 73,
   "metadata": {},
   "outputs": [
    {
     "data": {
      "text/html": [
       "<div>\n",
       "<style scoped>\n",
       "    .dataframe tbody tr th:only-of-type {\n",
       "        vertical-align: middle;\n",
       "    }\n",
       "\n",
       "    .dataframe tbody tr th {\n",
       "        vertical-align: top;\n",
       "    }\n",
       "\n",
       "    .dataframe thead th {\n",
       "        text-align: right;\n",
       "    }\n",
       "</style>\n",
       "<table border=\"1\" class=\"dataframe\">\n",
       "  <thead>\n",
       "    <tr style=\"text-align: right;\">\n",
       "      <th></th>\n",
       "      <th>Konu</th>\n",
       "    </tr>\n",
       "  </thead>\n",
       "  <tbody>\n",
       "    <tr>\n",
       "      <th>0</th>\n",
       "      <td>ekran</td>\n",
       "    </tr>\n",
       "    <tr>\n",
       "      <th>1</th>\n",
       "      <td>kalite</td>\n",
       "    </tr>\n",
       "    <tr>\n",
       "      <th>2</th>\n",
       "      <td>ekran</td>\n",
       "    </tr>\n",
       "    <tr>\n",
       "      <th>3</th>\n",
       "      <td>şarj</td>\n",
       "    </tr>\n",
       "  </tbody>\n",
       "</table>\n",
       "</div>"
      ],
      "text/plain": [
       "     Konu\n",
       "0   ekran\n",
       "1  kalite\n",
       "2   ekran\n",
       "3    şarj"
      ]
     },
     "execution_count": 73,
     "metadata": {},
     "output_type": "execute_result"
    }
   ],
   "source": [
    "konu_veriseti=df[[\"Konu\"]]\n",
    "konu_veriseti.head(4)"
   ]
  },
  {
   "cell_type": "code",
   "execution_count": 74,
   "metadata": {},
   "outputs": [
    {
     "name": "stderr",
     "output_type": "stream",
     "text": [
      "<>:19: DeprecationWarning: invalid escape sequence '\\w'\n",
      "<>:20: DeprecationWarning: invalid escape sequence '\\w'\n",
      "<>:19: DeprecationWarning: invalid escape sequence '\\w'\n",
      "<>:20: DeprecationWarning: invalid escape sequence '\\w'\n",
      "C:\\Users\\Gülseren\\AppData\\Local\\Temp\\ipykernel_3008\\4275174909.py:19: DeprecationWarning: invalid escape sequence '\\w'\n",
      "  metin=re.sub(\"'(\\w+)'\", \"\", metin)\n",
      "C:\\Users\\Gülseren\\AppData\\Local\\Temp\\ipykernel_3008\\4275174909.py:20: DeprecationWarning: invalid escape sequence '\\w'\n",
      "  metin=re.sub(\"'(\\w+)'\", \"\", metin)\n",
      "[nltk_data] Downloading package stopwords to\n",
      "[nltk_data]     C:\\Users\\Gülseren\\AppData\\Roaming\\nltk_data...\n",
      "[nltk_data]   Package stopwords is already up-to-date!\n"
     ]
    }
   ],
   "source": [
    "#veri temizleme işlemi için bir fonksiyon hazırlanması\n",
    "\n",
    "import re \n",
    "import string\n",
    "import nltk\n",
    "from nltk.corpus import stopwords\n",
    "nltk.download('stopwords')\n",
    "\n",
    "\n",
    "nok_isaretleri= string.punctuation\n",
    "etkisiz_kelimeler= stopwords.words('turkish')\n",
    "etkisiz_kelimeler.extend ([\"bir\", \"kadar\", \"sonra\"])\n",
    "\n",
    "\n",
    "def veriTemizleme(metin):\n",
    "    metin=metin.lower()\n",
    "    metin=metin.replace(\"\\\\n\",\" \")\n",
    "    #kesme işareti ve sonrasındaki karakterlerin aldırılması\n",
    "    metin=re.sub(\"'(\\w+)'\", \"\", metin)\n",
    "    metin=re.sub(\"'(\\w+)'\", \"\", metin)\n",
    "    #sayıların kaldırılması\n",
    "    metin=re.sub(\"[0-9]+\", \"\", metin)\n",
    "    #noktalama işaretlerinin kaldırılması\n",
    "    metin=\"\".join(list(map(lambda x:x if x not in nok_isaretleri else \" \" , metin)))\n",
    "    #etkisiz kelimelerin bazılarının kaldırılması\n",
    "    metin=\" \".join([i for i in metin.split() if i not in etkisiz_kelimeler])\n",
    "    #metinde tek kalan harflerin çıkarılması\n",
    "    metin=\" \".join([i for i in metin.split() if len(i) > 1])\n",
    "\n",
    "    return metin\n"
   ]
  },
  {
   "cell_type": "code",
   "execution_count": 75,
   "metadata": {},
   "outputs": [
    {
     "name": "stdout",
     "output_type": "stream",
     "text": [
      "Temizlenmemiş Veri Seti:\n",
      "0                             Ekran kalitesi çok düşük\n",
      "1                                           elbise iyi\n",
      "2            nostaljii...ekrani kucuk ama is goruyor??\n",
      "3                     mükemmel ama şarjı çabuk bitiyor\n",
      "4              sesi rahatsiz ediyor ama çocuklar sevdi\n",
      "5                    Ürün güzel;bataryası çok gidiyor.\n",
      "6    Tam bir nostalji yaratıyor. Sesi bile yetti ba...\n",
      "7    ürün çom güzel eğlenceli içerisinde 500 tane o...\n",
      "8    o kadar çabuk şarjı bitiyo ki , sırf çocuğumla...\n",
      "9    Bir heves aldık ama çok gereksiz, oynamak keyi...\n",
      "Name: Metin, dtype: object\n",
      "\n",
      "Temizlenmiş Veri Seti:\n",
      "0                                 ekran kalitesi düşük\n",
      "1                                           elbise iyi\n",
      "2                    nostaljii ekrani kucuk is goruyor\n",
      "3                         mükemmel şarjı çabuk bitiyor\n",
      "4                  sesi rahatsiz ediyor çocuklar sevdi\n",
      "5                         ürün güzel bataryası gidiyor\n",
      "6          tam nostalji yaratıyor sesi bile yetti bana\n",
      "7    ürün çom güzel eğlenceli içerisinde tane oyun ...\n",
      "8    çabuk şarjı bitiyo sırf çocuğumla çocukluğumda...\n",
      "9    heves aldık gereksiz oynamak keyifli değil tel...\n",
      "Name: Metin, dtype: object\n"
     ]
    }
   ],
   "source": [
    "# Temizlenmemiş veri seti\n",
    "print(\"Temizlenmemiş Veri Seti:\")\n",
    "print(df[\"Metin\"].head(10))\n",
    "\n",
    "# Temizlenmiş veri seti\n",
    "print(\"\\nTemizlenmiş Veri Seti:\")\n",
    "temizlenen_metin = yorum_veriseti[\"Metin\"].apply(veriTemizleme)\n",
    "print(temizlenen_metin.head(10))"
   ]
  },
  {
   "cell_type": "code",
   "execution_count": 76,
   "metadata": {},
   "outputs": [
    {
     "name": "stderr",
     "output_type": "stream",
     "text": [
      "C:\\Users\\Gülseren\\AppData\\Local\\Temp\\ipykernel_3008\\268001877.py:2: SettingWithCopyWarning: \n",
      "A value is trying to be set on a copy of a slice from a DataFrame.\n",
      "Try using .loc[row_indexer,col_indexer] = value instead\n",
      "\n",
      "See the caveats in the documentation: https://pandas.pydata.org/pandas-docs/stable/user_guide/indexing.html#returning-a-view-versus-a-copy\n",
      "  yorum_veriseti[\"temizlenen_metin_token\"] = temizlenen_metin.apply(lambda x: x.split())\n"
     ]
    },
    {
     "data": {
      "text/html": [
       "<div>\n",
       "<style scoped>\n",
       "    .dataframe tbody tr th:only-of-type {\n",
       "        vertical-align: middle;\n",
       "    }\n",
       "\n",
       "    .dataframe tbody tr th {\n",
       "        vertical-align: top;\n",
       "    }\n",
       "\n",
       "    .dataframe thead th {\n",
       "        text-align: right;\n",
       "    }\n",
       "</style>\n",
       "<table border=\"1\" class=\"dataframe\">\n",
       "  <thead>\n",
       "    <tr style=\"text-align: right;\">\n",
       "      <th></th>\n",
       "      <th>Metin</th>\n",
       "      <th>temizlenen_metin_token</th>\n",
       "    </tr>\n",
       "  </thead>\n",
       "  <tbody>\n",
       "    <tr>\n",
       "      <th>0</th>\n",
       "      <td>Ekran kalitesi çok düşük</td>\n",
       "      <td>[ekran, kalitesi, düşük]</td>\n",
       "    </tr>\n",
       "    <tr>\n",
       "      <th>1</th>\n",
       "      <td>elbise iyi</td>\n",
       "      <td>[elbise, iyi]</td>\n",
       "    </tr>\n",
       "    <tr>\n",
       "      <th>2</th>\n",
       "      <td>nostaljii...ekrani kucuk ama is goruyor??</td>\n",
       "      <td>[nostaljii, ekrani, kucuk, is, goruyor]</td>\n",
       "    </tr>\n",
       "    <tr>\n",
       "      <th>3</th>\n",
       "      <td>mükemmel ama şarjı çabuk bitiyor</td>\n",
       "      <td>[mükemmel, şarjı, çabuk, bitiyor]</td>\n",
       "    </tr>\n",
       "    <tr>\n",
       "      <th>4</th>\n",
       "      <td>sesi rahatsiz ediyor ama çocuklar sevdi</td>\n",
       "      <td>[sesi, rahatsiz, ediyor, çocuklar, sevdi]</td>\n",
       "    </tr>\n",
       "    <tr>\n",
       "      <th>5</th>\n",
       "      <td>Ürün güzel;bataryası çok gidiyor.</td>\n",
       "      <td>[ürün, güzel, bataryası, gidiyor]</td>\n",
       "    </tr>\n",
       "    <tr>\n",
       "      <th>6</th>\n",
       "      <td>Tam bir nostalji yaratıyor. Sesi bile yetti ba...</td>\n",
       "      <td>[tam, nostalji, yaratıyor, sesi, bile, yetti, ...</td>\n",
       "    </tr>\n",
       "    <tr>\n",
       "      <th>7</th>\n",
       "      <td>ürün çom güzel eğlenceli içerisinde 500 tane o...</td>\n",
       "      <td>[ürün, çom, güzel, eğlenceli, içerisinde, tane...</td>\n",
       "    </tr>\n",
       "    <tr>\n",
       "      <th>8</th>\n",
       "      <td>o kadar çabuk şarjı bitiyo ki , sırf çocuğumla...</td>\n",
       "      <td>[çabuk, şarjı, bitiyo, sırf, çocuğumla, çocukl...</td>\n",
       "    </tr>\n",
       "    <tr>\n",
       "      <th>9</th>\n",
       "      <td>Bir heves aldık ama çok gereksiz, oynamak keyi...</td>\n",
       "      <td>[heves, aldık, gereksiz, oynamak, keyifli, değ...</td>\n",
       "    </tr>\n",
       "  </tbody>\n",
       "</table>\n",
       "</div>"
      ],
      "text/plain": [
       "                                               Metin  \\\n",
       "0                           Ekran kalitesi çok düşük   \n",
       "1                                         elbise iyi   \n",
       "2          nostaljii...ekrani kucuk ama is goruyor??   \n",
       "3                   mükemmel ama şarjı çabuk bitiyor   \n",
       "4            sesi rahatsiz ediyor ama çocuklar sevdi   \n",
       "5                  Ürün güzel;bataryası çok gidiyor.   \n",
       "6  Tam bir nostalji yaratıyor. Sesi bile yetti ba...   \n",
       "7  ürün çom güzel eğlenceli içerisinde 500 tane o...   \n",
       "8  o kadar çabuk şarjı bitiyo ki , sırf çocuğumla...   \n",
       "9  Bir heves aldık ama çok gereksiz, oynamak keyi...   \n",
       "\n",
       "                              temizlenen_metin_token  \n",
       "0                           [ekran, kalitesi, düşük]  \n",
       "1                                      [elbise, iyi]  \n",
       "2            [nostaljii, ekrani, kucuk, is, goruyor]  \n",
       "3                  [mükemmel, şarjı, çabuk, bitiyor]  \n",
       "4          [sesi, rahatsiz, ediyor, çocuklar, sevdi]  \n",
       "5                  [ürün, güzel, bataryası, gidiyor]  \n",
       "6  [tam, nostalji, yaratıyor, sesi, bile, yetti, ...  \n",
       "7  [ürün, çom, güzel, eğlenceli, içerisinde, tane...  \n",
       "8  [çabuk, şarjı, bitiyo, sırf, çocuğumla, çocukl...  \n",
       "9  [heves, aldık, gereksiz, oynamak, keyifli, değ...  "
      ]
     },
     "execution_count": 76,
     "metadata": {},
     "output_type": "execute_result"
    }
   ],
   "source": [
    "# Tokenize etme\n",
    "yorum_veriseti[\"temizlenen_metin_token\"] = temizlenen_metin.apply(lambda x: x.split())\n",
    "yorum_veriseti.head(10)"
   ]
  },
  {
   "cell_type": "code",
   "execution_count": 77,
   "metadata": {},
   "outputs": [],
   "source": [
    "#LDA Model Eğitimi\n",
    "import gensim\n",
    "import pyLDAvis.gensim \n",
    "\n",
    "# Kelime listesi - Dict oluşturulması\n",
    "tokenlasmis_metinler = yorum_veriseti[\"temizlenen_metin_token\"]\n",
    "\n",
    "# Kelime listesi Filtreleme\n",
    "kelime_listesi = gensim.corpora.Dictionary(tokenlasmis_metinler)\n",
    "\n",
    "# Terimlerin Vektörletirilmesi (Doküman-Terim matrisinin oluşturulması)\n",
    "dokuman_terim_matrisi = [kelime_listesi.doc2bow(terim) for terim in tokenlasmis_metinler]"
   ]
  },
  {
   "cell_type": "code",
   "execution_count": 90,
   "metadata": {},
   "outputs": [
    {
     "name": "stdout",
     "output_type": "stream",
     "text": [
      "(0, '0.023*\"iyi\" + 0.023*\"hemen\" + 0.017*\"ekran\" + 0.017*\"biraz\" + 0.013*\"var\" + 0.013*\"kalitesi\" + 0.013*\"ekranı\"')\n",
      "(1, '0.028*\"ürün\" + 0.014*\"oyun\" + 0.014*\"güzel\" + 0.014*\"ettim\" + 0.014*\"iade\" + 0.011*\"kalitesiz\" + 0.011*\"çabuk\"')\n",
      "(2, '0.032*\"değil\" + 0.022*\"oyunlar\" + 0.017*\"güzel\" + 0.017*\"ürün\" + 0.016*\"ancak\" + 0.012*\"oyun\" + 0.012*\"eski\"')\n",
      "(3, '0.018*\"ekran\" + 0.017*\"iade\" + 0.013*\"kesinlikle\" + 0.013*\"malzeme\" + 0.011*\"değil\" + 0.010*\"evet\" + 0.010*\"sarj\"')\n",
      "(4, '0.016*\"biraz\" + 0.011*\"şarj\" + 0.011*\"olmamak\" + 0.011*\"olsa\" + 0.011*\"hemen\" + 0.011*\"net\" + 0.011*\"olurdu\"')\n",
      "(5, '0.033*\"kalitesi\" + 0.013*\"oyunlar\" + 0.013*\"şarj\" + 0.013*\"uzun\" + 0.013*\"ürün\" + 0.010*\"oyun\" + 0.010*\"ekran\"')\n",
      "(6, '0.017*\"iyi\" + 0.015*\"iade\" + 0.015*\"güzel\" + 0.015*\"oyun\" + 0.015*\"ürün\" + 0.013*\"değil\" + 0.013*\"ekran\"')\n",
      "(7, '0.032*\"şarjı\" + 0.032*\"bitiyor\" + 0.020*\"çabuk\" + 0.017*\"yok\" + 0.013*\"gereksiz\" + 0.013*\"guzel\" + 0.013*\"geri\"')\n",
      "(8, '0.019*\"ekran\" + 0.014*\"kirmizi\" + 0.010*\"oyun\" + 0.010*\"ürün\" + 0.010*\"var\" + 0.010*\"görüntüsü\" + 0.010*\"görüntü\"')\n",
      "(9, '0.016*\"ürün\" + 0.015*\"oyun\" + 0.014*\"geldi\" + 0.013*\"fakat\" + 0.013*\"kaliteli\" + 0.010*\"var\" + 0.010*\"olarak\"')\n",
      "(10, '0.026*\"ürün\" + 0.026*\"cok\" + 0.018*\"kaliteli\" + 0.017*\"şarj\" + 0.017*\"oyun\" + 0.015*\"değil\" + 0.015*\"güzel\"')\n",
      "(11, '0.022*\"ürün\" + 0.022*\"ekranı\" + 0.018*\"var\" + 0.017*\"onun\" + 0.017*\"geldi\" + 0.016*\"güzel\" + 0.014*\"fakat\"')\n",
      "(12, '0.022*\"kötü\" + 0.018*\"var\" + 0.018*\"güzel\" + 0.018*\"oyun\" + 0.018*\"ürün\" + 0.013*\"bataryası\" + 0.013*\"kalitesiz\"')\n",
      "(13, '0.035*\"güzel\" + 0.016*\"ürün\" + 0.016*\"oyunlar\" + 0.012*\"ekran\" + 0.012*\"iyi\" + 0.012*\"geldi\" + 0.012*\"gidiyor\"')\n",
      "(14, '0.028*\"değil\" + 0.025*\"iyi\" + 0.024*\"kalitesi\" + 0.021*\"onun\" + 0.017*\"ekran\" + 0.017*\"çabuk\" + 0.017*\"bitiyor\"')\n",
      "                                                 Metin  Yorum_Konu\n",
      "0                             Ekran kalitesi çok düşük           5\n",
      "1                                           elbise iyi           0\n",
      "2            nostaljii...ekrani kucuk ama is goruyor??          12\n",
      "3                     mükemmel ama şarjı çabuk bitiyor           7\n",
      "4              sesi rahatsiz ediyor ama çocuklar sevdi          12\n",
      "..                                                 ...         ...\n",
      "229     Çok gereksizmiş tuşları kalitesiz görüntü kötü          12\n",
      "230                  şarjı çok sıkıntılı ona göre alın           5\n",
      "231                                 Ekranı biraz küçük          11\n",
      "232  ürün biraz önce bana ulaştı. ekranı çizik için...          11\n",
      "233  Ürün zaten aşırı sağlam kaliteli bir şey değil...           6\n",
      "\n",
      "[234 rows x 2 columns]\n"
     ]
    }
   ],
   "source": [
    "# LDA Model Eğitimi\n",
    "lda_model_genis = gensim.models.ldamodel.LdaModel(corpus=dokuman_terim_matrisi,\n",
    "                                                  id2word=kelime_listesi,\n",
    "                                                  num_topics=15,  # Daha geniş bir konu sayısı\n",
    "                                                  passes=10)\n",
    "\n",
    "# Oluşturulan soyut konular içinde en fazla bulunan terimler\n",
    "konular_genis = lda_model_genis.print_topics(num_words=7)\n",
    "for konu in konular_genis:\n",
    "    print(konu)\n",
    "def konu_etiketle(yorum_metni):\n",
    "    temizlenmis_metin = veriTemizleme(yorum_metni)\n",
    "    tokenlasmis_metin = temizlenmis_metin.split()\n",
    "    dokuman_terim = kelime_listesi.doc2bow(tokenlasmis_metin)\n",
    "    konu_prob = lda_model_genis[dokuman_terim]\n",
    "    en_uygun_konu = max(konu_prob, key=lambda item: item[1])[0]\n",
    "    return en_uygun_konu\n",
    "\n",
    "# Her yorumun konusunu etiketleme\n",
    "yorum_veriseti[\"Yorum_Konu\"] = yorum_veriseti[\"Metin\"].apply(konu_etiketle)\n",
    "print(yorum_veriseti[[\"Metin\", \"Yorum_Konu\"]])"
   ]
  },
  {
   "cell_type": "code",
   "execution_count": 91,
   "metadata": {},
   "outputs": [
    {
     "name": "stdout",
     "output_type": "stream",
     "text": [
      "                                                 Metin Yorum_Kategori\n",
      "0                             Ekran kalitesi çok düşük      Teknoloji\n",
      "1                                           elbise iyi      Teknoloji\n",
      "2            nostaljii...ekrani kucuk ama is goruyor??      Teknoloji\n",
      "3                     mükemmel ama şarjı çabuk bitiyor      Teknoloji\n",
      "4              sesi rahatsiz ediyor ama çocuklar sevdi      Teknoloji\n",
      "..                                                 ...            ...\n",
      "229     Çok gereksizmiş tuşları kalitesiz görüntü kötü      Teknoloji\n",
      "230                  şarjı çok sıkıntılı ona göre alın      Teknoloji\n",
      "231                                 Ekranı biraz küçük      Teknoloji\n",
      "232  ürün biraz önce bana ulaştı. ekranı çizik için...      Teknoloji\n",
      "233  Ürün zaten aşırı sağlam kaliteli bir şey değil...      Teknoloji\n",
      "\n",
      "[234 rows x 2 columns]\n"
     ]
    }
   ],
   "source": [
    "alan_veriseti=df[\"Alan\"]\n",
    "def kategori_atama(alan):\n",
    "    return alan_veriseti.get(alan, \"Bilinmeyen Kategori\")\n",
    "\n",
    "# Her yorumun kategorisini etiketleme\n",
    "yorum_veriseti[\"Yorum_Kategori\"] = yorum_veriseti[\"Metin\"].apply(konu_etiketle).apply(kategori_atama)\n",
    "print(yorum_veriseti[[\"Metin\", \"Yorum_Kategori\"]])\n"
   ]
  },
  {
   "cell_type": "code",
   "execution_count": 68,
   "metadata": {},
   "outputs": [],
   "source": [
    "#LDA MODEL\n",
    "lda_model = gensim.models.ldamodel.LdaModel(corpus = dokuman_terim_matrisi,\n",
    "                                            id2word = kelime_listesi,\n",
    "                                            num_topics = 15,\n",
    "                                            passes = 10)"
   ]
  },
  {
   "cell_type": "code",
   "execution_count": 92,
   "metadata": {},
   "outputs": [],
   "source": [
    "# Tutarlılık (Coherence) skoru ile en iyi konu sayısı seçimi\n",
    "from gensim.models import CoherenceModel\n",
    "\n",
    "tutarlilik_skorlar_listesi = []\n",
    "konu_sayisi_listesi = []\n",
    "konu_sayisi_aralik_listesi = [5, 10, 15, 20, 25]\n",
    "\n",
    "for konu_sayisi in konu_sayisi_aralik_listesi:\n",
    "    lda_model = gensim.models.ldamodel.LdaModel(corpus=dokuman_terim_matrisi,\n",
    "                                                id2word=kelime_listesi,\n",
    "                                                num_topics=konu_sayisi,\n",
    "                                                passes=10)\n",
    "\n",
    "    tutarlilik_model_lda = CoherenceModel(model=lda_model, texts=tokenlasmis_metinler,\n",
    "                                          dictionary=kelime_listesi, coherence='c_v')\n",
    "\n",
    "    gecici_tutarlilik_skoru_lda = tutarlilik_model_lda.get_coherence()\n",
    "    tutarlilik_skorlar_listesi.append(gecici_tutarlilik_skoru_lda)\n",
    "    konu_sayisi_listesi.append(konu_sayisi)"
   ]
  },
  {
   "cell_type": "code",
   "execution_count": 11,
   "metadata": {},
   "outputs": [
    {
     "name": "stdout",
     "output_type": "stream",
     "text": [
      "[5, 10, 15, 20, 25]\n",
      "[0.39824383979284916, 0.3907177750730883, 0.34312296049381813, 0.37143249144873114, 0.3685652562085876]\n"
     ]
    },
    {
     "data": {
      "text/plain": [
       "<function matplotlib.pyplot.show(close=None, block=None)>"
      ]
     },
     "execution_count": 11,
     "metadata": {},
     "output_type": "execute_result"
    },
    {
     "data": {
      "image/png": "[encoded data removed]",
      "text/plain": [
       "<Figure size 640x480 with 1 Axes>"
      ]
     },
     "metadata": {},
     "output_type": "display_data"
    }
   ],
   "source": [
    "#Tutarlılık skoru görselleştirme\n",
    "import matplotlib.pyplot as plt\n",
    "\n",
    "plt.plot(konu_sayisi_listesi, tutarlilik_skorlar_listesi,\"-\")\n",
    "print(konu_sayisi_listesi)\n",
    "print(tutarlilik_skorlar_listesi)\n",
    "plt.xlabel(\"Konu Sayıları\")\n",
    "plt.ylabel(\"Tutarlılık Skorları\")\n",
    "\n",
    "plt.show"
   ]
  },
  {
   "cell_type": "code",
   "execution_count": 93,
   "metadata": {},
   "outputs": [
    {
     "name": "stdout",
     "output_type": "stream",
     "text": [
      "(0, '0.016*\"oyun\" + 0.016*\"oyunların\" + 0.016*\"ürün\" + 0.016*\"var\" + 0.016*\"gün\" + 0.008*\"almıştım\" + 0.008*\"kalitesiz\"')\n",
      "(2, '0.025*\"ürün\" + 0.025*\"güzel\" + 0.025*\"değil\" + 0.017*\"eski\" + 0.017*\"kırmızı\" + 0.017*\"rengini\" + 0.009*\"geldi\"')\n",
      "(3, '0.014*\"oyun\" + 0.014*\"güzel\" + 0.014*\"iade\" + 0.014*\"oyunlar\" + 0.009*\"kötü\" + 0.009*\"sadece\" + 0.009*\"gelmedi\"')\n",
      "(4, '0.037*\"ekran\" + 0.030*\"şarjı\" + 0.023*\"iyi\" + 0.018*\"çabuk\" + 0.018*\"bitiyor\" + 0.012*\"gitti\" + 0.012*\"ancak\"')\n",
      "(5, '0.019*\"geldi\" + 0.013*\"paraya\" + 0.013*\"ben\" + 0.013*\"oldu\" + 0.013*\"bozuk\" + 0.013*\"ekran\" + 0.007*\"iyi\"')\n",
      "(6, '0.057*\"görüntü\" + 0.052*\"kalitesi\" + 0.037*\"kötü\" + 0.032*\"ses\" + 0.026*\"değil\" + 0.017*\"iyi\" + 0.016*\"iade\"')\n",
      "(8, '0.029*\"mario\" + 0.029*\"dışında\" + 0.022*\"oyun\" + 0.022*\"iade\" + 0.022*\"rengi\" + 0.022*\"onun\" + 0.019*\"ürün\"')\n",
      "(9, '0.016*\"malzeme\" + 0.016*\"yeri\" + 0.013*\"guzel\" + 0.013*\"cok\" + 0.013*\"kesinlikle\" + 0.013*\"oyunlar\" + 0.012*\"ürün\"')\n",
      "(11, '0.053*\"ürün\" + 0.040*\"güzel\" + 0.027*\"fakat\" + 0.020*\"ekranı\" + 0.016*\"var\" + 0.016*\"tv\" + 0.016*\"hemen\"')\n",
      "(12, '0.018*\"oyunlar\" + 0.018*\"güzel\" + 0.018*\"oyun\" + 0.018*\"kötü\" + 0.018*\"şarj\" + 0.018*\"almayın\" + 0.018*\"denedim\"')\n",
      "(13, '0.040*\"şarjı\" + 0.039*\"bitiyor\" + 0.029*\"şarj\" + 0.023*\"çabuk\" + 0.020*\"ürün\" + 0.018*\"değil\" + 0.017*\"onun\"')\n",
      "(14, '0.021*\"ekran\" + 0.014*\"kaliteli\" + 0.014*\"ancak\" + 0.014*\"kötü\" + 0.014*\"rağmen\" + 0.014*\"oyun\" + 0.014*\"var\"')\n",
      "(16, '0.025*\"var\" + 0.022*\"bitiyor\" + 0.022*\"oyunlar\" + 0.022*\"güzel\" + 0.015*\"içinde\" + 0.015*\"cok\" + 0.015*\"cabuk\"')\n",
      "(17, '0.016*\"kalitesi\" + 0.016*\"değil\" + 0.016*\"oyun\" + 0.016*\"ekran\" + 0.016*\"ürün\" + 0.016*\"güzel\" + 0.016*\"oyunlar\"')\n",
      "(19, '0.021*\"değil\" + 0.017*\"iade\" + 0.013*\"ekran\" + 0.013*\"başladı\" + 0.013*\"ediyorum\" + 0.013*\"aldım\" + 0.009*\"oyun\"')\n",
      "(20, '0.014*\"değil\" + 0.014*\"iyi\" + 0.014*\"mario\" + 0.009*\"bi\" + 0.009*\"ürün\" + 0.009*\"hafif\" + 0.009*\"güzel\"')\n",
      "(21, '0.025*\"şarjı\" + 0.019*\"bitiyor\" + 0.017*\"çocuklar\" + 0.009*\"geldi\" + 0.009*\"banamı\" + 0.009*\"anlamadım\" + 0.009*\"beri\"')\n",
      "(22, '0.032*\"ekran\" + 0.020*\"bi\" + 0.019*\"kalitesi\" + 0.013*\"atari\" + 0.013*\"olabilirdi\" + 0.013*\"iyi\" + 0.013*\"ürün\"')\n",
      "(23, '0.022*\"ekran\" + 0.022*\"var\" + 0.022*\"küçük\" + 0.015*\"biraz\" + 0.015*\"iade\" + 0.015*\"ettim\" + 0.015*\"degil\"')\n",
      "(24, '0.019*\"güzel\" + 0.010*\"hemen\" + 0.010*\"ekrana\" + 0.010*\"haftadan\" + 0.010*\"harcama\" + 0.010*\"takıp\" + 0.010*\"yorumlar\"')\n"
     ]
    }
   ],
   "source": [
    "#Oluşturulan soyut konular içinde en fazla bulunan terimler\n",
    "\n",
    "konular = lda_model.print_topics(num_words=7)\n",
    "konular = sorted(konular, key= lambda x : x[0])\n",
    "for konu in konular:\n",
    "    print(konu)"
   ]
  },
  {
   "cell_type": "code",
   "execution_count": 16,
   "metadata": {},
   "outputs": [
    {
     "name": "stdout",
     "output_type": "stream",
     "text": [
      "En İyi Parametreler: {'clf__C': 1, 'tfidf__max_features': None, 'tfidf__ngram_range': (1, 2)}\n",
      "Sınıflandırma Raporu:\n",
      "              precision    recall  f1-score   support\n",
      "\n",
      "           0       0.93      0.94      0.94      1370\n",
      "           1       0.92      0.95      0.94      1384\n",
      "           2       0.65      0.49      0.56       280\n",
      "\n",
      "    accuracy                           0.91      3034\n",
      "   macro avg       0.83      0.80      0.81      3034\n",
      "weighted avg       0.90      0.91      0.90      3034\n",
      "\n",
      "Doğruluk (Accuracy): 0.9060646011865524\n"
     ]
    }
   ],
   "source": [
    "from sklearn.model_selection import train_test_split, GridSearchCV\n",
    "from sklearn.feature_extraction.text import TfidfVectorizer\n",
    "from sklearn.svm import LinearSVC\n",
    "from sklearn.pipeline import Pipeline\n",
    "from sklearn.metrics import classification_report, accuracy_score\n",
    "\n",
    "# Örnek veri seti ve etiketleri\n",
    "X = df['Metin']\n",
    "y = df['Durum']\n",
    "\n",
    "# Veriyi eğitim ve test setlerine bölme\n",
    "X_train, X_test, y_train, y_test = train_test_split(X, y, test_size=0.2, random_state=42)\n",
    "\n",
    "# TF-IDF vektörleştirici ve LinearSVC sınıflandırıcıyı içeren bir pipeline oluşturun\n",
    "pipeline = Pipeline([\n",
    "    ('tfidf', TfidfVectorizer()),\n",
    "    ('clf', LinearSVC())\n",
    "])\n",
    "\n",
    "# Grid Search için parametreler\n",
    "param_grid = {\n",
    "    'tfidf__max_features': [1000, 5000, None],\n",
    "    'tfidf__ngram_range': [(1, 1), (1, 2)],\n",
    "    'clf__C': [0.1, 1, 10],\n",
    "}\n",
    "\n",
    "# Grid Search ve Cross-Validation\n",
    "grid_search = GridSearchCV(pipeline, param_grid, cv=5)\n",
    "grid_search.fit(X_train, y_train)\n",
    "\n",
    "# En iyi parametreleri göster\n",
    "print(\"En İyi Parametreler:\", grid_search.best_params_)\n",
    "\n",
    "# En iyi modeli kullanarak test seti üzerinde tahmin yapın\n",
    "y_pred = grid_search.predict(X_test)\n",
    "\n",
    "# Model performansını değerlendirin\n",
    "print(\"Sınıflandırma Raporu:\")\n",
    "print(classification_report(y_test, y_pred))\n",
    "\n",
    "accuracy = accuracy_score(y_test, y_pred)\n",
    "print(f\"Doğruluk (Accuracy): {accuracy}\")\n"
   ]
  }
 ],
 "metadata": {
  "kernelspec": {
   "display_name": "Python 3",
   "language": "python",
   "name": "python3"
  },
  "language_info": {
   "codemirror_mode": {
    "name": "ipython",
    "version": 3
   },
   "file_extension": ".py",
   "mimetype": "text/x-python",
   "name": "python",
   "nbconvert_exporter": "python",
   "pygments_lexer": "ipython3",
   "version": "3.11.4"
  }
 },
 "nbformat": 4,
 "nbformat_minor": 2
}
